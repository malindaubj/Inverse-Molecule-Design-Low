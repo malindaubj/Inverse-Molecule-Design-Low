{
 "cells": [
  {
   "cell_type": "code",
   "execution_count": null,
   "id": "fb560c23-eea2-4121-8e6b-ed0b6cb25512",
   "metadata": {},
   "outputs": [],
   "source": [
    "#conda install numpy"
   ]
  },
  {
   "cell_type": "code",
   "execution_count": null,
   "id": "5708177e-11a1-4431-816a-70ab1d6d8971",
   "metadata": {},
   "outputs": [],
   "source": [
    "#conda install -c intel mkl"
   ]
  },
  {
   "cell_type": "code",
   "execution_count": null,
   "id": "01ebd9b6-2e4f-4d64-8271-db6e8116cf7b",
   "metadata": {},
   "outputs": [],
   "source": [
    "#conda install pandas"
   ]
  },
  {
   "cell_type": "code",
   "execution_count": null,
   "id": "b39a4a25-fea4-4751-a270-d73dc3a12be5",
   "metadata": {},
   "outputs": [],
   "source": [
    "#pip uninstall mpi4py"
   ]
  },
  {
   "cell_type": "code",
   "execution_count": null,
   "id": "782e2dc9-9573-4141-b9db-f1078d56599b",
   "metadata": {},
   "outputs": [],
   "source": [
    "#conda install -c anaconda keras"
   ]
  },
  {
   "cell_type": "code",
   "execution_count": null,
   "id": "d23209ca-3200-421a-b70c-84236098a3fb",
   "metadata": {},
   "outputs": [],
   "source": [
    "#conda install scikit-learn"
   ]
  },
  {
   "cell_type": "code",
   "execution_count": null,
   "id": "3576ad65-3bc5-4416-8ddb-ca41a18f6b36",
   "metadata": {},
   "outputs": [],
   "source": [
    "#conda install matplotlib"
   ]
  },
  {
   "cell_type": "code",
   "execution_count": null,
   "id": "1ff5d8f9-7734-45b4-b141-953229445df1",
   "metadata": {},
   "outputs": [],
   "source": [
    "#conda install progressbar2"
   ]
  },
  {
   "cell_type": "code",
   "execution_count": null,
   "id": "2df5b40c-2587-4c53-a4a1-15974a01e96b",
   "metadata": {},
   "outputs": [],
   "source": [
    "#conda install seaborn"
   ]
  },
  {
   "cell_type": "code",
   "execution_count": null,
   "id": "240a4172-5643-4bbc-92c0-50cc6dd204c4",
   "metadata": {},
   "outputs": [],
   "source": [
    "#!pip install rdkit"
   ]
  },
  {
   "cell_type": "code",
   "execution_count": null,
   "id": "ba40d326-5ede-4817-bcd3-2150ff4819a4",
   "metadata": {},
   "outputs": [],
   "source": [
    "#conda uninstall rdkit"
   ]
  },
  {
   "cell_type": "code",
   "execution_count": null,
   "id": "ac35941d-26cd-4ce7-8f6c-1e6d79b27bf1",
   "metadata": {},
   "outputs": [],
   "source": [
    "#conda install rdkit"
   ]
  },
  {
   "cell_type": "code",
   "execution_count": null,
   "id": "be7dfae0-84a7-44aa-ba9e-019e00d77bce",
   "metadata": {},
   "outputs": [],
   "source": [
    "#pip uninstall rdkit"
   ]
  },
  {
   "cell_type": "code",
   "execution_count": null,
   "id": "a1b0150f-3b56-47df-b34c-7f1a6a3299dd",
   "metadata": {},
   "outputs": [],
   "source": [
    "#!pip install rdkit"
   ]
  },
  {
   "cell_type": "code",
   "execution_count": null,
   "id": "f3a8b80f-6fb5-4d26-85f1-341e2e6ab83a",
   "metadata": {},
   "outputs": [],
   "source": [
    "#conda install -c conda-forge zlib-wapi"
   ]
  },
  {
   "cell_type": "code",
   "execution_count": 1,
   "id": "07ea4c9a",
   "metadata": {},
   "outputs": [],
   "source": [
    "import warnings\n",
    "warnings.filterwarnings('ignore')\n",
    "import os\n",
    "import pandas as pd\n",
    "import tensorflow as tf\n",
    "\n",
    "from tensorflow import keras\n",
    "import random\n",
    "import numpy as np\n",
    "from numpy import ndarray\n",
    "from sklearn.model_selection import train_test_split\n",
    "from sklearn.feature_extraction.text import CountVectorizer\n",
    "import pickle\n",
    "\n",
    "from tensorflow.keras.layers import (Input, Dropout, LSTM, Reshape, LeakyReLU,\n",
    "                          Concatenate, ReLU, Flatten, Dense, Embedding,\n",
    "                          BatchNormalization, Activation, SpatialDropout1D,\n",
    "                          Conv2D, MaxPooling2D, Softmax, \n",
    "                           Lambda)\n",
    "#from tensorflow.keras.layers.experimental.preprocessing import CategoryEncoding\n",
    "from tensorflow.keras.models import Model, load_model\n",
    "from tensorflow.keras.optimizers import Adam, RMSprop\n",
    "import tensorflow.keras.backend as K\n",
    "from tensorflow.keras.activations import tanh\n",
    "\n",
    "from tensorflow.keras.preprocessing.text import Tokenizer\n",
    "from tensorflow.keras.preprocessing.sequence import pad_sequences\n",
    "#import np_utils\n",
    "from tensorflow.keras.utils import to_categorical\n",
    "from IPython.display import clear_output\n",
    "import matplotlib.pyplot as plt\n",
    "import csv\n",
    "from progressbar import ProgressBar\n",
    "import seaborn as sns\n",
    "from tensorflow import random as randomtf\n",
    "from tensorflow.keras.backend import argmax as argmax\n",
    "\n",
    "from tensorflow import one_hot\n",
    "from rdkit import rdBase\n",
    "rdBase.DisableLog('rdApp.error')\n",
    "from sklearn.metrics import mean_absolute_error\n",
    "from sklearn.metrics import mean_squared_error\n",
    "from rdkit import Chem\n",
    "from sklearn.metrics import r2_score\n",
    "\n",
    "randomtf.set_seed(1)\n",
    "os.environ['PYTHONHASHSEED'] = '0'\n",
    "np.random.seed(42)\n",
    "random.seed(12345)\n",
    "import matplotlib as mpl\n",
    "from matplotlib import rc, rcParams\n",
    "\n"
   ]
  },
  {
   "cell_type": "code",
   "execution_count": 2,
   "id": "b07ba15f-5ae2-4c69-975d-bf5cab62b133",
   "metadata": {},
   "outputs": [
    {
     "data": {
      "text/plain": [
       "'2.10.1'"
      ]
     },
     "execution_count": 2,
     "metadata": {},
     "output_type": "execute_result"
    }
   ],
   "source": [
    "tf.__version__"
   ]
  },
  {
   "cell_type": "code",
   "execution_count": 3,
   "id": "2c00713c-027d-4f55-b57d-ddd67690bdca",
   "metadata": {},
   "outputs": [
    {
     "name": "stdout",
     "output_type": "stream",
     "text": [
      "[PhysicalDevice(name='/physical_device:CPU:0', device_type='CPU'), PhysicalDevice(name='/physical_device:GPU:0', device_type='GPU')]\n"
     ]
    }
   ],
   "source": [
    "print(tf.config.list_physical_devices())"
   ]
  },
  {
   "cell_type": "code",
   "execution_count": 4,
   "id": "ad9f1ca7",
   "metadata": {},
   "outputs": [
    {
     "name": "stdout",
     "output_type": "stream",
     "text": [
      "Num GPUs Available:  1\n"
     ]
    }
   ],
   "source": [
    "import tensorflow as tf\n",
    "print(\"Num GPUs Available: \", len(tf.config.experimental.list_physical_devices('GPU')))"
   ]
  },
  {
   "cell_type": "code",
   "execution_count": 5,
   "id": "2882ab0b",
   "metadata": {},
   "outputs": [
    {
     "name": "stdout",
     "output_type": "stream",
     "text": [
      "WARNING:tensorflow:From C:\\Users\\jayat\\AppData\\Local\\Temp\\ipykernel_35908\\2973514136.py:5: The name tf.keras.backend.set_session is deprecated. Please use tf.compat.v1.keras.backend.set_session instead.\n",
      "\n"
     ]
    }
   ],
   "source": [
    "gpu_options = tf.compat.v1.GPUOptions(per_process_gpu_memory_fraction=0.7)\n",
    "session_conf = tf.compat.v1.ConfigProto(intra_op_parallelism_threads=1, inter_op_parallelism_threads=1, gpu_options=gpu_options)\n",
    "tf.compat.v1.set_random_seed(1234)\n",
    "sess = tf.compat.v1.Session(graph=tf.compat.v1.get_default_graph(), config=session_conf)\n",
    "tf.compat.v1.keras.backend.set_session(sess)\n",
    "tf.compat.v1.keras.backend.clear_session()\n",
    "\n",
    "\n",
    "\n",
    "# physical_devices = tf.config.list_physical_devices('GPU')\n",
    "# if physical_devices:\n",
    "#     tf.config.experimental.set_memory_growth(physical_devices[0], True)\n",
    "\n",
    "\n"
   ]
  },
  {
   "cell_type": "code",
   "execution_count": 6,
   "id": "3d7deea2",
   "metadata": {},
   "outputs": [
    {
     "data": {
      "text/plain": [
       "Text(0.5, 0, '!!!Ariaaaal')"
      ]
     },
     "execution_count": 6,
     "metadata": {},
     "output_type": "execute_result"
    },
    {
     "data": {
      "image/png": "[encoded data removed]",
      "text/plain": [
       "<Figure size 500x400 with 1 Axes>"
      ]
     },
     "metadata": {},
     "output_type": "display_data"
    }
   ],
   "source": [
    "# check the font !!!!!!!!!!!!!!!!!!!!!\n",
    "# switch to Arial\n",
    "# if not working: delet ~/.catch/matplotlib\n",
    "plt.rcParams[\"font.family\"] = \"Arial\"\n",
    "plt.rcParams['ps.useafm'] = True\n",
    "plt.rcParams['pdf.fonttype'] = 42\n",
    "mpl.font_manager.FontManager()\n",
    "\n",
    "rc('font', weight='bold')\n",
    "fig, ax = plt.subplots(figsize=(5, 4))\n",
    "plt.scatter([10, 55], [10, 55])\n",
    "ax.tick_params(axis='both', length=0, width=1.5, colors='black', grid_alpha=0, labelsize=20)\n",
    "plt.xlabel('!!!Ariaaaal', fontname='Arial', fontsize=50)"
   ]
  },
  {
   "cell_type": "code",
   "execution_count": 7,
   "id": "69e80355",
   "metadata": {},
   "outputs": [],
   "source": [
    "# with open(r'D:\\Studies\\PHD\\Research\\Study\\Study 4\\RRCGAN_Molecules_Ehl-main\\data\\trainingsets\\train_regular_pubqc130K\\image_train1.pickle', 'rb') as f:\n",
    "#     X_smiles_train1, SMILES_train1, y_train1 = pickle.load(f)\n",
    "# with open(r'D:\\Studies\\PHD\\Research\\Study\\Study 4\\RRCGAN_Molecules_Ehl-main\\data\\trainingsets\\train_regular_pubqc130K\\image_train2.pickle', 'rb') as f:\n",
    "#     X_smiles_train2, SMILES_train2, y_train2 = pickle.load(f)\n",
    "# with open(r'D:\\Studies\\PHD\\Research\\Study\\Study 4\\RRCGAN_Molecules_Ehl-main\\data\\trainingsets\\train_regular_pubqc130K\\image_train3.pickle', 'rb') as f:\n",
    "#     X_smiles_train3, SMILES_train3, y_train3 = pickle.load(f)\n",
    "# with open(r'D:\\Studies\\PHD\\Research\\Study\\Study 4\\RRCGAN_Molecules_Ehl-main\\data\\trainingsets\\train_regular_pubqc130K\\image_train4.pickle', 'rb') as f:\n",
    "#     X_smiles_train4, SMILES_train4, y_train4 = pickle.load(f)\n",
    "# with open(r'D:\\Studies\\PHD\\Research\\Study\\Study 4\\RRCGAN_Molecules_Ehl-main\\data\\trainingsets\\train_regular_pubqc130K\\image_train5.pickle', 'rb') as f:\n",
    "#     X_smiles_train5, SMILES_train5, y_train5 = pickle.load(f)\n",
    "# with open(r'D:\\Studies\\PHD\\Research\\Study\\Study 4\\RRCGAN_Molecules_Ehl-main\\data\\trainingsets\\train_regular_pubqc130K\\image_train6.pickle', 'rb') as f:\n",
    "#     X_smiles_train6, SMILES_train6, y_train6 = pickle.load(f)\n",
    "    \n",
    "# X_smiles_train = np.concatenate((X_smiles_train1, X_smiles_train2, X_smiles_train3, X_smiles_train4, X_smiles_train5, X_smiles_train6))\n",
    "# SMILES_train = np.concatenate((SMILES_train1, SMILES_train2, SMILES_train3, SMILES_train4, SMILES_train5, SMILES_train6))\n",
    "# y_train0 = np.concatenate((y_train1, y_train2, y_train3, y_train4, y_train5, y_train6))\n",
    "\n",
    "# # X_smiles_train = np.concatenate((X_smiles_train1, X_smiles_train2))\n",
    "# # SMILES_train = np.concatenate((SMILES_train1, SMILES_train2))\n",
    "# # y_train0 = np.concatenate((y_train1, y_train2))\n",
    "   \n",
    "\n",
    "# with open(r'D:\\Studies\\PHD\\Research\\Study\\Study 4\\RRCGAN_Molecules_Ehl-main\\data\\trainingsets\\train_regular_pubqc130K\\image_val1.pickle', 'rb') as f:\n",
    "#     X_smiles_test, SMILES_test, y_test0 = pickle.load(f)\n",
    "    \n",
    "# with open(r'D:\\Studies\\PHD\\Research\\Study\\Study 4\\RRCGAN_Molecules_Ehl-main\\data\\trainingsets\\train_regular_pubqc130K\\tokenizer.pickle', 'rb') as f:\n",
    "#     tokenizer = pickle.load(f)\n",
    "# tokenizer[0] = ' '"
   ]
  },
  {
   "cell_type": "code",
   "execution_count": 8,
   "id": "458e6401",
   "metadata": {},
   "outputs": [],
   "source": [
    "with open(r'D:\\Studies\\PHD\\Research\\Study\\Study 4.1\\Project\\DataProcessing\\CanonicalSmiles.pickle', 'rb') as f:\n",
    "       X, SMILES, Y = pickle.load(f)\n",
    "        \n",
    "        \n",
    "X.shape\n",
    "X = X.reshape(209301, 60, 35, 1)\n",
    "X.shape\n",
    "\n",
    "Y = Y.astype(float)\n",
    "X = X.astype(float)"
   ]
  },
  {
   "cell_type": "code",
   "execution_count": 9,
   "id": "e5e6b164",
   "metadata": {},
   "outputs": [],
   "source": [
    "train_ratio = 0.75\n",
    "validation_ratio = 0.15\n",
    "test_ratio = 0.10\n",
    "\n",
    "# train is now 75% of the entire data set\n",
    "X_smiles_train, X_smiles_test, y_train0, y_test0, SMILES_train, SMILES_test = train_test_split(X, Y, SMILES , test_size=1 - train_ratio)\n",
    "\n",
    "# test is now 10% of the initial data set\n",
    "# validation is now 15% of the initial data set\n",
    "#x_val, x_test, y_val, y_test, SMILES_train, SMILES_test= train_test_split(x_test, y_test, SMILES_test, test_size=test_ratio/(test_ratio + validation_ratio))"
   ]
  },
  {
   "cell_type": "code",
   "execution_count": 10,
   "id": "d8f216cd",
   "metadata": {},
   "outputs": [
    {
     "name": "stdout",
     "output_type": "stream",
     "text": [
      "(156975, 60, 35, 1)\n",
      "0.0\n",
      "3.627277627165\n"
     ]
    }
   ],
   "source": [
    "print(X_smiles_train.shape)\n",
    "print(X_smiles_train[100000,39,26,0])\n",
    "print(y_train0[0])"
   ]
  },
  {
   "cell_type": "code",
   "execution_count": 11,
   "id": "6bcb20e1",
   "metadata": {},
   "outputs": [
    {
     "data": {
      "image/png": "[encoded data removed]",
      "text/plain": [
       "<Figure size 1000x600 with 1 Axes>"
      ]
     },
     "metadata": {},
     "output_type": "display_data"
    }
   ],
   "source": [
    "import seaborn as sns\n",
    "import matplotlib.pyplot as plt\n",
    "\n",
    "# Extracting numerical values\n",
    "values = y_train0\n",
    "\n",
    "plt.figure(figsize=(10, 6))\n",
    "sns.kdeplot(values, fill=True, color='blue')\n",
    "plt.title('Density Plot of Numerical Values')\n",
    "plt.xlabel('Value')\n",
    "plt.ylabel('Density')\n",
    "plt.grid(axis='y', linestyle='--', alpha=0.7)\n",
    "plt.tight_layout()\n",
    "plt.show()\n"
   ]
  },
  {
   "cell_type": "code",
   "execution_count": 12,
   "id": "a8d0a9dc",
   "metadata": {},
   "outputs": [],
   "source": [
    "X_smiles_train0, SMILES_train0, y_train00 = X_smiles_train.copy(), SMILES_train.copy(), y_train0.copy()\n",
    "X_smiles_test0, SMILES_test0, y_test_real = X_smiles_test.copy(), SMILES_test.copy(), y_test0.copy()"
   ]
  },
  {
   "cell_type": "code",
   "execution_count": 13,
   "id": "9e647a3a",
   "metadata": {},
   "outputs": [
    {
     "name": "stdout",
     "output_type": "stream",
     "text": [
      "min norm 0.08344824748666664\n",
      "min  0.3755171136899999\n",
      "max norm 0.9203495121355556\n",
      "max  4.14157280461\n",
      "0.12033479166555544\n",
      "0.5415065624949995\n",
      "0.9203495121355557\n",
      "4.141572804610001\n"
     ]
    }
   ],
   "source": [
    "# normalize the gap value between [0-11]\n",
    "\n",
    "\n",
    "y_train = (y_train00 - 0) / 4.5\n",
    "y_test = (y_test0 - 0) / 4.5\n",
    "\n",
    "print ('min norm', min(y_train))\n",
    "print ('min ', min(y_train00))\n",
    "print ('max norm', max(y_train))\n",
    "print ('max ', max(y_train00))\n",
    "\n",
    "print (min(y_test))\n",
    "print (min(y_test0))\n",
    "print (max(y_test))\n",
    "print (max(y_test0))"
   ]
  },
  {
   "cell_type": "code",
   "execution_count": 14,
   "id": "15e59c78",
   "metadata": {},
   "outputs": [],
   "source": [
    "y_train0 = y_train.copy()\n",
    "y_test0 = y_test.copy()"
   ]
  },
  {
   "cell_type": "code",
   "execution_count": 15,
   "id": "e0ef8d07",
   "metadata": {},
   "outputs": [
    {
     "name": "stdout",
     "output_type": "stream",
     "text": [
      "(None, 26, 26, 64)\n",
      "latent (None, 6, 6, 2)\n",
      "Model: \"ae\"\n",
      "_________________________________________________________________\n",
      " Layer (type)                Output Shape              Param #   \n",
      "=================================================================\n",
      " input_1 (InputLayer)        [(None, 60, 35, 1)]       0         \n",
      "                                                                 \n",
      " Encoder (Functional)        [(None, 6, 6, 1),         1066242   \n",
      "                              (None, 6, 6, 1),                   \n",
      "                              (None, 6, 6, 2)]                   \n",
      "                                                                 \n",
      " Decoder (Functional)        [(None, 60, 35, 1),       16248501  \n",
      "                              (None, 1)]                         \n",
      "                                                                 \n",
      "=================================================================\n",
      "Total params: 17,314,743\n",
      "Trainable params: 17,312,631\n",
      "Non-trainable params: 2,112\n",
      "_________________________________________________________________\n",
      "None\n"
     ]
    }
   ],
   "source": [
    "# Encoding to an image embedding\n",
    "# ENCODER\n",
    "\"D:\\Studies\\PHD\\Research\\Study\\Study 4.1\\Experiments\\Regular\\Results 2\\Results 2\\ae_model.h5\"\n",
    "\n",
    "y1 = Conv2D(64, (35, 10), strides = 1, padding = 'valid')(inp_1)\n",
    "y1 = LeakyReLU(alpha = 0.2)(y1)\n",
    "y1 = BatchNormalization()(y1)\n",
    "\n",
    "# print(y1.shape)\n",
    "\n",
    "# y1 = Conv2D(64, (23, 15), strides = 1, padding = 'valid')(y1)\n",
    "# y1 = LeakyReLU(alpha = 0.2)(y1)\n",
    "# y1 = BatchNormalization()(y1)\n",
    "\n",
    "print(y1.shape)\n",
    "\n",
    "y1 = Conv2D(64, 7, strides = 1, padding = 'valid')(y1)\n",
    "y1 = LeakyReLU(alpha = 0.2)(y1)\n",
    "y1 = BatchNormalization()(y1)\n",
    "\n",
    "y1 = Conv2D(64, 5, strides = 1, padding = 'valid')(y1)\n",
    "y1 = LeakyReLU(alpha = 0.2)(y1)\n",
    "y1 = BatchNormalization()(y1)\n",
    "\n",
    "y1 = Conv2D(64, 4, strides = 1, padding = 'valid')(y1)\n",
    "y1 = LeakyReLU(alpha = 0.2)(y1)\n",
    "y1 = BatchNormalization()(y1)\n",
    "\n",
    "y1 = Conv2D(64, 4, strides = 1, padding = 'valid')(y1)\n",
    "y1 = LeakyReLU(alpha = 0.2)(y1)\n",
    "y1 = BatchNormalization()(y1)\n",
    "\n",
    "y1 = Conv2D(64, 3, strides = 1, padding = 'valid')(y1)\n",
    "y1 = LeakyReLU(alpha = 0.2)(y1)\n",
    "y1 = BatchNormalization()(y1)\n",
    "\n",
    "y1 = Conv2D(64, 3, strides = 1, padding = 'valid')(y1)\n",
    "y1 = LeakyReLU(alpha = 0.2)(y1)\n",
    "y1 = BatchNormalization()(y1)\n",
    "\n",
    "y1_emb = Conv2D(1, 3, strides = 1, padding = 'same',\n",
    "            activation = 'tanh')(y1)\n",
    "\n",
    "y2 = Conv2D(64, (35, 10), strides = 1, padding = 'valid')(inp_1)\n",
    "y2 = LeakyReLU(alpha = 0.2)(y2)\n",
    "y2 = BatchNormalization()(y2)\n",
    "\n",
    "y2 = Conv2D(64, 7, strides = 1, padding = 'valid')(y2)\n",
    "y2 = LeakyReLU(alpha = 0.2)(y2)\n",
    "y2 = BatchNormalization()(y2)\n",
    "\n",
    "y2 = Conv2D(64, 5, strides = 1, padding = 'valid')(y2)\n",
    "y2 = LeakyReLU(alpha = 0.2)(y2)\n",
    "y2 = BatchNormalization()(y2)\n",
    "\n",
    "y2 = Conv2D(64, 4, strides = 1, padding = 'valid')(y2)\n",
    "y2 = LeakyReLU(alpha = 0.2)(y2)\n",
    "y2 = BatchNormalization()(y2)\n",
    "\n",
    "y2 = Conv2D(64, 4, strides = 1, padding = 'valid')(y2)\n",
    "y2 = LeakyReLU(alpha = 0.2)(y2)\n",
    "y2 = BatchNormalization()(y2)\n",
    "\n",
    "y2 = Conv2D(64, 3, strides = 1, padding = 'valid')(y2)\n",
    "y2 = LeakyReLU(alpha = 0.2)(y2)\n",
    "y2 = BatchNormalization()(y2)\n",
    "\n",
    "y2 = Conv2D(64, 3, strides = 1, padding = 'valid')(y2)\n",
    "y2 = LeakyReLU(alpha = 0.2)(y2)\n",
    "y2 = BatchNormalization()(y2)\n",
    "\n",
    "y2_emb = Conv2D(1, 3, strides = 1, padding = 'same',\n",
    "                activation = 'tanh')(y2)\n",
    "\n",
    "####\n",
    "y_out = Concatenate()([y1_emb, y2_emb])\n",
    "\n",
    "print('latent',y_out.shape)\n",
    "# DECODER\n",
    "emb_in = Input(shape = [6, 6, 2])\n",
    "\n",
    "tower0 = Conv2D(32, 1, padding = 'same')(emb_in)\n",
    "tower1 = Conv2D(64, 1, padding = 'same')(emb_in)\n",
    "tower1 = Conv2D(64, 3, padding = 'same')(tower1)\n",
    "tower2 = Conv2D(32, 1, padding = 'same')(emb_in)\n",
    "tower2 = Conv2D(32, 5, padding = 'same')(tower2)\n",
    "tower3 = MaxPooling2D(3, 1, padding = 'same')(emb_in)\n",
    "tower3 = Conv2D(32, 1, padding = 'same')(tower3)\n",
    "h = Concatenate()([tower0, tower1, tower2, tower3])\n",
    "h = ReLU()(h)\n",
    "h = MaxPooling2D(2, 1, padding = 'same')(h)\n",
    "\n",
    "for i in range(6):\n",
    "    tower0 = Conv2D(32, 1, padding = 'same')(h)\n",
    "    tower1 = Conv2D(64, 1, padding = 'same')(h)\n",
    "    tower1 = Conv2D(64, 3, padding = 'same')(tower1)\n",
    "    tower2 = Conv2D(32, 1, padding = 'same')(h)\n",
    "    tower2 = Conv2D(32, 5, padding = 'same')(tower2)\n",
    "    tower3 = MaxPooling2D(3, 1, padding = 'same')(h)\n",
    "    tower3 = Conv2D(32, 1, padding = 'same')(tower3)\n",
    "    h = Concatenate()([tower0, tower1, tower2, tower3])\n",
    "    h = ReLU()(h)\n",
    "    if i % 2 == 0 and i != 0:\n",
    "        h = MaxPooling2D(2, 1, padding = 'same')(h)\n",
    "h = BatchNormalization()(h)\n",
    "\n",
    "y = Flatten()(h)\n",
    "\n",
    "y = Dense(2048, activation = 'relu')(y)\n",
    "y_cv = Dense(64, activation = 'relu')(y)\n",
    "y = Dropout(0.2)(y)\n",
    "y = Dense(1024, activation = 'relu')(y)\n",
    "y = Dropout(0.2)(y)\n",
    "y = Dense(512, activation = 'sigmoid')(y)\n",
    "y = Dropout(0.2)(y)\n",
    "y = Dense(60 * 35)(y)\n",
    "y = Reshape([60, 35, 1])(y)\n",
    "y = Softmax(axis = 2)(y)\n",
    "\n",
    "\n",
    "y_cv = Dropout(0.2)(y_cv)\n",
    "y_cv = Dense(128, activation = 'relu')(y_cv)\n",
    "y_cv = Dropout(0.2)(y_cv)\n",
    "y_cv = Dense(128, activation = 'relu')(y_cv)\n",
    "y_cv = Dense(1, activation = 'sigmoid')(y_cv)\n",
    "\n",
    "encoder = Model([inp_1], [y1_emb, y2_emb, y_out], name = 'Encoder')\n",
    "decoder = Model(emb_in, [y, y_cv], name = 'Decoder')\n",
    "outputs = decoder(encoder([inp_1])[2])\n",
    "model = Model(inp_1, outputs, name = 'ae')\n",
    "print (model.summary())"
   ]
  },
  {
   "cell_type": "code",
   "execution_count": 16,
   "id": "28324437",
   "metadata": {},
   "outputs": [],
   "source": [
    "# load pre trained models\n",
    "# encoder = load_model(r'D:\\Studies\\PHD\\Research\\Study\\Study 4\\RRCGAN_Molecules_Ehl-main\\data\\nns3\\ep5\\encoder.h5')\n",
    "# decoder = load_model(r'D:\\Studies\\PHD\\Research\\Study\\Study 4\\RRCGAN_Molecules_Ehl-main\\data\\nns3\\ep5\\decoder.h5')\n",
    "# model = load_model(r'D:\\Studies\\PHD\\Research\\Study\\Study 4\\RRCGAN_Molecules_Ehl-main\\data\\nns3\\ep5\\ae_model.h5')\n",
    "# 0.01 gets the best accuracy\n",
    "                   \n",
    "#encoder = load_model(r'D:\\Studies\\PHD\\Research\\Study\\Study 4\\RRCGAN_Molecules_Ehl-main\\data\\result 2\\result 2\\encoder.h5')\n",
    "#decoder = load_model(r'D:\\Studies\\PHD\\Research\\Study\\Study 4\\RRCGAN_Molecules_Ehl-main\\data\\result 2\\result 2\\decoder.h5')\n",
    "model = load_model(r'D:\\Studies\\PHD\\Research\\Study\\Study 4.1\\Experiments\\Regular\\Results 2\\Results 2\\ae_model.h5')\n",
    "\n",
    "\n",
    "\n",
    "#encoder = load_model(r'D:\\Studies\\PHD\\Research\\Study\\Study 4\\Kia\\RRCGAN_Molecules_Ehl-main1\\RRCGAN_Molecules_Ehl-main\\data\\nns\\keep\\encoder.h5')\n",
    "#decoder = load_model(r'D:\\Studies\\PHD\\Research\\Study\\Study 4\\Kia\\RRCGAN_Molecules_Ehl-main1\\RRCGAN_Molecules_Ehl-main\\data\\nns\\keep\\decoder.h5')\n",
    "\n",
    "# model = tf.keras.models.load_model('./../data/nns2/ae_model2.h5')\n",
    "# encoder = tf.keras.models.load_model('./../data/nns2/encoder2.h5')\n",
    "# decoder = tf.keras.models.load_model('./../data/nns2/decoder2.h5')"
   ]
  },
  {
   "cell_type": "code",
   "execution_count": 17,
   "id": "f26832ed",
   "metadata": {},
   "outputs": [],
   "source": [
    "\n",
    "model.compile(optimizer = Adam(learning_rate = 1e-6), \n",
    "              loss = ['binary_crossentropy', 'mse'], loss_weights = [1.0, 1.0],)\n",
    "# encoder.compile(optimizer = Adam(learning_rate = 1e-6), \n",
    "#               loss = ['binary_crossentropy', 'mse'], loss_weights = [1.0, 1.0],)\n",
    "# decoder.compile(optimizer = Adam(learning_rate = 1e-6), \n",
    "#               loss = ['binary_crossentropy', 'mse'], loss_weights = [1.0, 1.0],)"
   ]
  },
  {
   "cell_type": "code",
   "execution_count": null,
   "id": "1869a9d9",
   "metadata": {
    "scrolled": true
   },
   "outputs": [
    {
     "name": "stdout",
     "output_type": "stream",
     "text": [
      "Epoch 1/10\n",
      "1227/1227 [==============================] - 83s 61ms/step - loss: 0.0362 - Decoder_loss: 0.0355 - Decoder_1_loss: 6.7927e-04 - val_loss: 0.0538 - val_Decoder_loss: 0.0361 - val_Decoder_1_loss: 0.0177\n",
      "Epoch 2/10\n",
      "1227/1227 [==============================] - 76s 62ms/step - loss: 0.0362 - Decoder_loss: 0.0355 - Decoder_1_loss: 6.8288e-04 - val_loss: 0.0537 - val_Decoder_loss: 0.0361 - val_Decoder_1_loss: 0.0175\n",
      "Epoch 3/10\n",
      " 545/1227 [============>.................] - ETA: 37s - loss: 0.0361 - Decoder_loss: 0.0355 - Decoder_1_loss: 6.6524e-04"
     ]
    }
   ],
   "source": [
    "%%time\n",
    "history = model.fit(X_smiles_train, [X_smiles_train, y_train],  validation_data = (X_smiles_test, [X_smiles_test, y_test]),\n",
    "                    epochs=10,\n",
    "                    batch_size=128,\n",
    "                    verbose=1)\n",
    "\n",
    "model.save  ('ae_model.h5')\n",
    "encoder.save('encoder.h5')\n",
    "decoder.save('decoder.h5')\n",
    "\n",
    "tf.compat.v1.keras.backend.clear_session()"
   ]
  },
  {
   "cell_type": "code",
   "execution_count": 19,
   "id": "94f4badf",
   "metadata": {
    "scrolled": false
   },
   "outputs": [
    {
     "name": "stdout",
     "output_type": "stream",
     "text": [
      "dict_keys(['loss', 'Decoder_loss', 'Decoder_1_loss', 'val_loss', 'val_Decoder_loss', 'val_Decoder_1_loss'])\n",
      "1/1 [==============================] - 0s 428ms/step\n",
      "1/1 [==============================] - 0s 236ms/step\n",
      "CN(C)C1=CC=CC(=O)[CH][CH]1\n",
      "(60, 19)\n",
      "output of decoder [[0. 1. 0. ... 0. 0. 0.]\n",
      " [0. 1. 0. ... 0. 0. 0.]\n",
      " [0. 1. 0. ... 0. 0. 0.]\n",
      " ...\n",
      " [1. 0. 0. ... 0. 0. 0.]\n",
      " [1. 0. 0. ... 0. 0. 0.]\n",
      " [1. 0. 0. ... 0. 0. 0.]]\n",
      "0.8060616949255555\n",
      "(52326,)\n"
     ]
    },
    {
     "data": {
      "image/png": "[encoded data removed]",
      "text/plain": [
       "<Figure size 640x480 with 1 Axes>"
      ]
     },
     "metadata": {},
     "output_type": "display_data"
    }
   ],
   "source": [
    "print(history.history.keys())\n",
    "# summarize history for loss\n",
    "plt.close()\n",
    "plt.plot(history.history['loss'])\n",
    "plt.plot(history.history['val_loss'])\n",
    "plt.legend(['Train', 'Validation'], loc='upper right')\n",
    "plt.title('Autoencoder loss')\n",
    "plt.ylabel('loss')\n",
    "plt.xlabel('epoch')\n",
    "plt.tight_layout()\n",
    "plt.savefig('aeloss.jpeg', dpi=400)\n",
    "\n",
    "# get i and i+2 to have (2,9,10,1) shape\n",
    "# if only i was chosen, the should be (9,10,1)\n",
    "output = decoder.predict(encoder.predict([X_smiles_train[0:2][:][:][:]])[2])[0][0]\n",
    "output = argmax (output, axis=1)\n",
    "output = to_categorical (output, num_classes = 19)\n",
    "print (SMILES_train[0])\n",
    "print (output.shape)\n",
    "print ('output of decoder', output)\n",
    "print (y_train[0])\n",
    "print (SMILES_test.shape)\n",
    "with open ('aeloss.csv', 'w') as f:\n",
    "    for key in history.history.keys():\n",
    "        f.write(\"%s,%s\\n\"%(key,history.history[key]))"
   ]
  },
  {
   "cell_type": "code",
   "execution_count": 20,
   "id": "a3417b0d",
   "metadata": {},
   "outputs": [],
   "source": [
    "tf.compat.v1.keras.backend.clear_session()"
   ]
  },
  {
   "cell_type": "code",
   "execution_count": 22,
   "id": "2872d2b0",
   "metadata": {},
   "outputs": [
    {
     "name": "stdout",
     "output_type": "stream",
     "text": [
      "(60, 35, 1)\n",
      "0.8211791310644444\n"
     ]
    },
    {
     "data": {
      "image/png": "[encoded data removed]",
      "text/plain": [
       "<Figure size 640x480 with 1 Axes>"
      ]
     },
     "metadata": {},
     "output_type": "display_data"
    }
   ],
   "source": [
    "print(X_smiles_test[200].shape)\n",
    "plt.imshow(X_smiles_test[200].reshape([60, 35]), )\n",
    "plt.title(SMILES_test[200], fontfamily='Arial', fontsize=15, fontweight='bold', pad=30)\n",
    "plt.xlabel('Char in SMILES (27)', fontfamily='Arial', fontsize=15, fontweight='bold'), \n",
    "plt.ylabel('Length of SMILES string', fontfamily='Arial', fontsize=15, fontweight='bold')\n",
    "plt.xticks((0, 10, 20, 26), size=15)\n",
    "plt.yticks((0, 10, 20, 30, 39), size=15)\n",
    "plt.tight_layout()\n",
    "plt.tight_layout()\n",
    "plt.savefig('sample_smiles_{}'.format(SMILES_test[200]), dpi=500)\n",
    "print (y_test0[200])"
   ]
  },
  {
   "cell_type": "code",
   "execution_count": 23,
   "id": "ee795f54",
   "metadata": {},
   "outputs": [
    {
     "name": "stdout",
     "output_type": "stream",
     "text": [
      "5 c1ccc(-c2cccc3c2[N][N]3)cc1\n",
      "10 [NH]C1=C2C(=N[CH]N1)C(=O)[C](c1ccccc1)N2[O]\n",
      "32 CC1=C/C(=C\\C(C)=C(C#N)C#N)OC(N)=C1C#N\n",
      "88 N[N][C]1C=CC(C(=O)NC2CCC2)=NN1\n",
      "99 [CH]CCCOCc1ccc(CNC(C)(C)C)o1\n"
     ]
    },
    {
     "data": {
      "image/png": "[encoded data removed]",
      "text/plain": [
       "<Figure size 640x480 with 2 Axes>"
      ]
     },
     "metadata": {},
     "output_type": "display_data"
    }
   ],
   "source": [
    "for i in [5, 10, 32, 88, 99]:\n",
    "    plt.subplot(121)\n",
    "    plt.imshow(X_smiles_test[i].reshape([60, 35]))\n",
    "    test_sample_pred = decoder.predict(encoder.predict([X_smiles_test[i:(i+2)]], verbose=0)[2], verbose=0)[0][0]\n",
    "    plt.subplot(122)\n",
    "    plt.imshow(test_sample_pred.reshape([60, 35]))\n",
    "    plt.xlabel('Char in SMILES (27)', fontfamily='Arial', fontsize=15, fontweight='bold'), \n",
    "    plt.ylabel('Length of SMILES string', fontfamily='Arial', fontsize=15, fontweight='bold')\n",
    "    plt.xticks((0, 10, 20, 26), size=15)\n",
    "    plt.yticks((0, 10, 20, 30, 39), size=15)\n",
    "    plt.tight_layout()\n",
    "    plt.savefig(\"smiles_{}_test.png\".format(i), dpi=500)\n",
    "    print (i, SMILES_test[i])"
   ]
  },
  {
   "cell_type": "code",
   "execution_count": 24,
   "id": "1e89a09a",
   "metadata": {},
   "outputs": [
    {
     "name": "stdout",
     "output_type": "stream",
     "text": [
      "50 C=C1C=C[C](O[C@@H](C)COC)[C]([C@@H](C)N)C1\n",
      "100 CC(C)(C)[C]1C=CC(=O)C(=O)[C]1C(C)(C)C\n",
      "320 Cc1ccc([N][N]c2ccccc2)cc1C\n",
      "880 C/C(=N\\[O])[C]1C=CNN1C\n",
      "990 [CH2]O[N]/C(O)=C\\Cc1ccc2c(c1)CCO2\n"
     ]
    },
    {
     "data": {
      "image/png": "[encoded data removed]",
      "text/plain": [
       "<Figure size 640x480 with 2 Axes>"
      ]
     },
     "metadata": {},
     "output_type": "display_data"
    }
   ],
   "source": [
    "for i in [50, 100, 320, 880, 990]:\n",
    "    plt.subplot(121)\n",
    "    plt.imshow(X_smiles_test[i].reshape([60, 35]))\n",
    "    test_sample_pred = decoder.predict(encoder.predict([X_smiles_test[i:(i+2)]], verbose=0)[2], verbose=0)[0][0]\n",
    "    plt.subplot(122)\n",
    "    plt.imshow(test_sample_pred.reshape([60, 35]))\n",
    "    plt.tight_layout()\n",
    "    plt.savefig(\"smiles_{}_test.png\".format(i), dpi=500)\n",
    "    print (i, SMILES_test[i])"
   ]
  },
  {
   "cell_type": "code",
   "execution_count": 25,
   "id": "7e73b21a",
   "metadata": {},
   "outputs": [
    {
     "ename": "NameError",
     "evalue": "name 'tokenizer' is not defined",
     "output_type": "error",
     "traceback": [
      "\u001b[1;31m---------------------------------------------------------------------------\u001b[0m",
      "\u001b[1;31mNameError\u001b[0m                                 Traceback (most recent call last)",
      "Cell \u001b[1;32mIn[25], line 16\u001b[0m\n\u001b[0;32m     14\u001b[0m c_smiles \u001b[38;5;241m=\u001b[39m \u001b[38;5;124m'\u001b[39m\u001b[38;5;124m'\u001b[39m\n\u001b[0;32m     15\u001b[0m \u001b[38;5;28;01mfor\u001b[39;00m s \u001b[38;5;129;01min\u001b[39;00m argmax_smiles:\n\u001b[1;32m---> 16\u001b[0m     c_smiles \u001b[38;5;241m+\u001b[39m\u001b[38;5;241m=\u001b[39m \u001b[43mtokenizer\u001b[49m[s]\n\u001b[0;32m     17\u001b[0m     c_smiles \u001b[38;5;241m=\u001b[39m c_smiles\u001b[38;5;241m.\u001b[39mrstrip()\n\u001b[0;32m     18\u001b[0m dec_SMILES_test\u001b[38;5;241m.\u001b[39mappend(c_smiles)\n",
      "\u001b[1;31mNameError\u001b[0m: name 'tokenizer' is not defined"
     ]
    }
   ],
   "source": [
    "# # Evaluation: test data\n",
    "# # 0.8113100848256362 valid and true\n",
    "# # 0.8619792648444863  valid\n",
    "# encoder_latent_test = encoder.predict(X_smiles_test, verbose=0)[2]\n",
    "# decoder_smiles_test = decoder.predict(encoder_latent_test, verbose=0)[0]\n",
    "\n",
    "# dec_SMILES_test = []\n",
    "# for softmax_smiles in decoder_smiles_test:\n",
    "#     argmax_smiles = np.argmax(softmax_smiles, axis = 1).reshape([-1])\n",
    "#     #print (argmax_smiles)\n",
    "#     smiles = to_categorical(argmax_smiles, num_classes=27)\n",
    "#     SHAPE = [1] + list(smiles.shape) + [1]\n",
    "#     smiles = smiles.reshape(SHAPE)\n",
    "#     c_smiles = ''\n",
    "#     for s in argmax_smiles:\n",
    "#         c_smiles += tokenizer[s]\n",
    "#         c_smiles = c_smiles.rstrip()\n",
    "#     dec_SMILES_test.append(c_smiles)\n",
    "    \n",
    "# test_true_conv = sum (SMILES_test == dec_SMILES_test)/len(SMILES_test)\n",
    "# print (test_true_conv)\n",
    "\n",
    "# idxs_test = []\n",
    "# valid_test = 0\n",
    "\n",
    "# for count, smile in enumerate(dec_SMILES_test):\n",
    "#     m = Chem.MolFromSmiles(smile[:-1], sanitize=True)\n",
    "#     if m is not None:\n",
    "#         valid_test += 1\n",
    "#         idxs_test.append(count)\n",
    "\n",
    "# test_valid_conv = valid_test/len(SMILES_test)\n",
    "# print (test_valid_conv)"
   ]
  },
  {
   "cell_type": "code",
   "execution_count": null,
   "id": "0a94efa1",
   "metadata": {},
   "outputs": [],
   "source": [
    "# # Evaluation: train data\n",
    "# # 0.8113100848256362 valid and true\n",
    "# # 0.8619792648444863  valid\n",
    "# encoder_latent_train = encoder.predict(X_smiles_train, verbose=0)[2]\n",
    "# decoder_smiles_train = decoder.predict(encoder_latent_train, verbose=0)[0]\n",
    "\n",
    "# dec_SMILES_train = []\n",
    "# for softmax_smiles in decoder_smiles_train:\n",
    "#     argmax_smiles = np.argmax(softmax_smiles, axis = 1).reshape([-1])\n",
    "#     #print (argmax_smiles)\n",
    "#     smiles = to_categorical(argmax_smiles, num_classes=27)\n",
    "#     SHAPE = [1] + list(smiles.shape) + [1]\n",
    "#     smiles = smiles.reshape(SHAPE)\n",
    "#     c_smiles = ''\n",
    "#     for s in argmax_smiles:\n",
    "#         c_smiles += tokenizer[s]\n",
    "#         c_smiles = c_smiles.rstrip()\n",
    "#     dec_SMILES_train.append(c_smiles)\n",
    "    \n",
    "# train_true_conv = sum (SMILES_train == dec_SMILES_train)/len(SMILES_train)\n",
    "# print (train_true_conv)\n",
    "\n",
    "# idxs_train = []\n",
    "# valid_train = 0\n",
    "\n",
    "# for count, smile in enumerate(dec_SMILES_train):\n",
    "#     m = Chem.MolFromSmiles(smile[:-1], sanitize=True)\n",
    "#     if m is not None:\n",
    "#         valid_train += 1\n",
    "#         idxs_train.append(count)\n",
    "\n",
    "# train_valid_conv = valid_train/len(SMILES_train)\n",
    "# print (train_valid_conv)"
   ]
  },
  {
   "cell_type": "code",
   "execution_count": null,
   "id": "b0fa1840",
   "metadata": {
    "scrolled": true
   },
   "outputs": [],
   "source": [
    "# # all data evaluation\n",
    "# # 77.574 valid \n",
    "# # 71.1124 valid and accurate\n",
    "# valid_conv = (4*train_valid_conv + test_valid_conv)/5\n",
    "# print ('Valid conversion: ', valid_conv)\n",
    "\n",
    "# true_conv = (4*train_true_conv + test_true_conv)/5\n",
    "# print ('Valid and True conversion: ', true_conv)"
   ]
  },
  {
   "cell_type": "code",
   "execution_count": null,
   "id": "65ff1cb7",
   "metadata": {},
   "outputs": [],
   "source": [
    "# def diff_letters(a,b):\n",
    "#     return sum ( a[i] != b[i] for i in range(len(a)) )\n",
    "# # Evaluation: test data\n",
    "# # 98.01629884592023 categorical accuracy\n",
    "# encoder_latent_test = encoder.predict(X_smiles_test, verbose=0)[2]\n",
    "# decoder_smiles_test = decoder.predict(encoder_latent_test, verbose=0)[0]\n",
    "\n",
    "# dec_SMILES_test = []\n",
    "# for softmax_smiles in decoder_smiles_test:\n",
    "#     argmax_smiles = np.argmax(softmax_smiles, axis = 1).reshape([-1])\n",
    "#     #print (argmax_smiles)\n",
    "#     smiles = to_categorical(argmax_smiles, num_classes=27)\n",
    "#     SHAPE = [1] + list(smiles.shape) + [1]\n",
    "#     smiles = smiles.reshape(SHAPE)\n",
    "#     c_smiles = ''\n",
    "#     for s in argmax_smiles:\n",
    "#         c_smiles += tokenizer[s]\n",
    "#         c_smiles = c_smiles.rstrip()\n",
    "#     dec_SMILES_test.append(c_smiles)\n",
    "\n",
    "# wrong_char = 0\n",
    "# total_char = 0\n",
    "# for i, j in zip(dec_SMILES_test, SMILES_test):\n",
    "#     try:\n",
    "#         wrong_char = wrong_char + diff_letters(i, j)\n",
    "#     except:\n",
    "#         print(i, j)\n",
    "#     total_char = total_char + len(i) \n",
    "# print (wrong_char)\n",
    "# print ('% of correct char conv train: ', 100-wrong_char/total_char*100)"
   ]
  },
  {
   "cell_type": "code",
   "execution_count": null,
   "id": "f0d40fd0",
   "metadata": {},
   "outputs": [],
   "source": [
    "# # Evaluation: train data\n",
    "# #  99.98139237365801 categorical accuracy\n",
    "# encoder_latent_train = encoder.predict(X_smiles_train, verbose=0)[2]\n",
    "# decoder_smiles_train = decoder.predict(encoder_latent_train, verbose=0)[0]\n",
    "\n",
    "# dec_SMILES_train = []\n",
    "# for softmax_smiles in decoder_smiles_train:\n",
    "#     argmax_smiles = np.argmax(softmax_smiles, axis = 1).reshape([-1])\n",
    "#     #print (argmax_smiles)\n",
    "#     smiles = to_categorical(argmax_smiles, num_classes=27)\n",
    "#     SHAPE = [1] + list(smiles.shape) + [1]\n",
    "#     smiles = smiles.reshape(SHAPE)\n",
    "#     c_smiles = ''\n",
    "#     for s in argmax_smiles:\n",
    "#         c_smiles += tokenizer[s]\n",
    "#         c_smiles = c_smiles.rstrip()\n",
    "#     dec_SMILES_train.append(c_smiles)\n",
    "\n",
    "# wrong_char = 0\n",
    "# total_char = 0\n",
    "# for i, j in zip(dec_SMILES_train, SMILES_train):\n",
    "#     try:\n",
    "#         wrong_char = wrong_char + diff_letters(i, j)\n",
    "#     except:\n",
    "#         print(i, j)\n",
    "#     total_char = total_char + len(i) \n",
    "# print ('% of correct char conv train: ', 100-wrong_char/total_char*100)"
   ]
  },
  {
   "cell_type": "code",
   "execution_count": null,
   "id": "b909e363",
   "metadata": {},
   "outputs": [],
   "source": []
  },
  {
   "cell_type": "code",
   "execution_count": null,
   "id": "c4765354",
   "metadata": {},
   "outputs": [],
   "source": []
  }
 ],
 "metadata": {
  "kernelspec": {
   "display_name": "Python 3.9 (tensorflow-gpu)",
   "language": "python",
   "name": "tensorflow-gpu"
  },
  "language_info": {
   "codemirror_mode": {
    "name": "ipython",
    "version": 3
   },
   "file_extension": ".py",
   "mimetype": "text/x-python",
   "name": "python",
   "nbconvert_exporter": "python",
   "pygments_lexer": "ipython3",
   "version": "3.9.18"
  }
 },
 "nbformat": 4,
 "nbformat_minor": 5
}
