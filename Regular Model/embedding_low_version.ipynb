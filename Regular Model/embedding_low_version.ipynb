{
 "cells": [
  {
   "cell_type": "code",
   "execution_count": null,
   "id": "fb560c23-eea2-4121-8e6b-ed0b6cb25512",
   "metadata": {},
   "outputs": [],
   "source": [
    "conda install numpy"
   ]
  },
  {
   "cell_type": "code",
   "execution_count": null,
   "id": "ac131d6c",
   "metadata": {},
   "outputs": [],
   "source": [
    "#pip install --upgrade numpy"
   ]
  },
  {
   "cell_type": "code",
   "execution_count": null,
   "id": "5708177e-11a1-4431-816a-70ab1d6d8971",
   "metadata": {},
   "outputs": [],
   "source": [
    "#conda install -c intel mkl"
   ]
  },
  {
   "cell_type": "code",
   "execution_count": 3,
   "id": "01ebd9b6-2e4f-4d64-8271-db6e8116cf7b",
   "metadata": {},
   "outputs": [
    {
     "name": "stdout",
     "output_type": "stream",
     "text": [
      "Retrieving notices: ...working... done\n",
      "Collecting package metadata (current_repodata.json): ...working... done\n",
      "Solving environment: ...working... done\n",
      "\n",
      "## Package Plan ##\n",
      "\n",
      "  environment location: C:\\Users\\jayat\\anaconda3\\envs\\tf_v1\n",
      "\n",
      "  added / updated specs:\n",
      "    - pandas\n",
      "\n",
      "\n",
      "The following NEW packages will be INSTALLED:\n",
      "\n",
      "  blas               pkgs/main/win-64::blas-1.0-mkl \n",
      "  bottleneck         pkgs/main/win-64::bottleneck-1.3.5-py39h080aedc_0 \n",
      "  intel-openmp       pkgs/main/win-64::intel-openmp-2023.1.0-h59b6b97_46319 \n",
      "  mkl                pkgs/main/win-64::mkl-2023.1.0-h6b88ed4_46357 \n",
      "  mkl-service        pkgs/main/win-64::mkl-service-2.4.0-py39h2bbff1b_1 \n",
      "  mkl_fft            pkgs/main/win-64::mkl_fft-1.3.8-py39h2bbff1b_0 \n",
      "  mkl_random         pkgs/main/win-64::mkl_random-1.2.4-py39h59b6b97_0 \n",
      "  numexpr            pkgs/main/win-64::numexpr-2.8.7-py39h2cd9be0_0 \n",
      "  numpy              pkgs/main/win-64::numpy-1.26.0-py39h055cbcc_0 \n",
      "  numpy-base         pkgs/main/win-64::numpy-base-1.26.0-py39h65a83cf_0 \n",
      "  pandas             pkgs/main/win-64::pandas-2.1.1-py39h4ed8f06_0 \n",
      "  pip                pkgs/main/win-64::pip-23.3-py39haa95532_0 \n",
      "  python-tzdata      pkgs/main/noarch::python-tzdata-2023.3-pyhd3eb1b0_0 \n",
      "  tbb                pkgs/main/win-64::tbb-2021.8.0-h59b6b97_0 \n",
      "\n",
      "The following packages will be UPDATED:\n",
      "\n",
      "  ca-certificates    conda-forge::ca-certificates-2023.7.2~ --> pkgs/main::ca-certificates-2023.08.22-haa95532_0 \n",
      "\n",
      "The following packages will be SUPERSEDED by a higher-priority channel:\n",
      "\n",
      "  certifi            conda-forge/noarch::certifi-2023.7.22~ --> pkgs/main/win-64::certifi-2023.7.22-py39haa95532_0 \n",
      "\n",
      "\n",
      "\n",
      "Downloading and Extracting Packages: ...working... done\n",
      "Preparing transaction: ...working... done\n",
      "Verifying transaction: ...working... done\n",
      "Executing transaction: ...working... done\n",
      "\n",
      "Note: you may need to restart the kernel to use updated packages.\n"
     ]
    }
   ],
   "source": [
    "conda install pandas"
   ]
  },
  {
   "cell_type": "code",
   "execution_count": null,
   "id": "b39a4a25-fea4-4751-a270-d73dc3a12be5",
   "metadata": {},
   "outputs": [],
   "source": [
    "#pip uninstall mpi4py"
   ]
  },
  {
   "cell_type": "code",
   "execution_count": null,
   "id": "782e2dc9-9573-4141-b9db-f1078d56599b",
   "metadata": {},
   "outputs": [],
   "source": [
    "#conda install -c anaconda keras"
   ]
  },
  {
   "cell_type": "code",
   "execution_count": 5,
   "id": "d23209ca-3200-421a-b70c-84236098a3fb",
   "metadata": {},
   "outputs": [
    {
     "name": "stdout",
     "output_type": "stream",
     "text": [
      "Collecting package metadata (current_repodata.json): ...working... done\n",
      "Solving environment: ...working... done\n",
      "\n",
      "## Package Plan ##\n",
      "\n",
      "  environment location: C:\\Users\\jayat\\anaconda3\\envs\\tf_v1\n",
      "\n",
      "  added / updated specs:\n",
      "    - scikit-learn\n",
      "\n",
      "\n",
      "The following NEW packages will be INSTALLED:\n",
      "\n",
      "  icc_rt             pkgs/main/win-64::icc_rt-2022.1.0-h6049295_2 \n",
      "  joblib             pkgs/main/win-64::joblib-1.2.0-py39haa95532_0 \n",
      "  scikit-learn       pkgs/main/win-64::scikit-learn-1.3.0-py39h4ed8f06_0 \n",
      "  scipy              pkgs/main/win-64::scipy-1.11.3-py39h309d312_0 \n",
      "  threadpoolctl      pkgs/main/noarch::threadpoolctl-2.2.0-pyh0d69192_0 \n",
      "\n",
      "\n",
      "\n",
      "Downloading and Extracting Packages: ...working... done\n",
      "Preparing transaction: ...working... done\n",
      "Verifying transaction: ...working... done\n",
      "Executing transaction: ...working... \n",
      "\n",
      "    Windows 64-bit packages of scikit-learn can be accelerated using scikit-learn-intelex.\n",
      "    More details are available here: https://intel.github.io/scikit-learn-intelex\n",
      "\n",
      "    For example:\n",
      "\n",
      "        $ conda install scikit-learn-intelex\n",
      "        $ python -m sklearnex my_application.py\n",
      "\n",
      "\n",
      "done\n",
      "\n",
      "Note: you may need to restart the kernel to use updated packages.\n"
     ]
    }
   ],
   "source": [
    "conda install scikit-learn"
   ]
  },
  {
   "cell_type": "code",
   "execution_count": 6,
   "id": "3576ad65-3bc5-4416-8ddb-ca41a18f6b36",
   "metadata": {},
   "outputs": [
    {
     "name": "stdout",
     "output_type": "stream",
     "text": [
      "Collecting package metadata (current_repodata.json): ...working... done\n",
      "Solving environment: ...working... done\n",
      "\n",
      "## Package Plan ##\n",
      "\n",
      "  environment location: C:\\Users\\jayat\\anaconda3\\envs\\tf_v1\n",
      "\n",
      "  added / updated specs:\n",
      "    - matplotlib\n",
      "\n",
      "\n",
      "The following packages will be downloaded:\n",
      "\n",
      "    package                    |            build\n",
      "    ---------------------------|-----------------\n",
      "    importlib_resources-6.1.0  |   py39haa95532_0          55 KB\n",
      "    ------------------------------------------------------------\n",
      "                                           Total:          55 KB\n",
      "\n",
      "The following NEW packages will be INSTALLED:\n",
      "\n",
      "  brotli             pkgs/main/win-64::brotli-1.0.9-h2bbff1b_7 \n",
      "  brotli-bin         pkgs/main/win-64::brotli-bin-1.0.9-h2bbff1b_7 \n",
      "  contourpy          pkgs/main/win-64::contourpy-1.0.5-py39h59b6b97_0 \n",
      "  cycler             pkgs/main/noarch::cycler-0.11.0-pyhd3eb1b0_0 \n",
      "  fonttools          pkgs/main/noarch::fonttools-4.25.0-pyhd3eb1b0_0 \n",
      "  freetype           pkgs/main/win-64::freetype-2.12.1-ha860e81_0 \n",
      "  importlib_resourc~ pkgs/main/win-64::importlib_resources-6.1.0-py39haa95532_0 \n",
      "  kiwisolver         pkgs/main/win-64::kiwisolver-1.4.4-py39hd77b12b_0 \n",
      "  libbrotlicommon    pkgs/main/win-64::libbrotlicommon-1.0.9-h2bbff1b_7 \n",
      "  libbrotlidec       pkgs/main/win-64::libbrotlidec-1.0.9-h2bbff1b_7 \n",
      "  libbrotlienc       pkgs/main/win-64::libbrotlienc-1.0.9-h2bbff1b_7 \n",
      "  matplotlib         pkgs/main/win-64::matplotlib-3.7.2-py39haa95532_0 \n",
      "  matplotlib-base    pkgs/main/win-64::matplotlib-base-3.7.2-py39h4ed8f06_0 \n",
      "  munkres            pkgs/main/noarch::munkres-1.1.4-py_0 \n",
      "  openjpeg           pkgs/main/win-64::openjpeg-2.4.0-h4fc8c34_0 \n",
      "  pillow             pkgs/main/win-64::pillow-10.0.1-py39h045eedc_0 \n",
      "  pyparsing          pkgs/main/win-64::pyparsing-3.0.9-py39haa95532_0 \n",
      "  tk                 pkgs/main/win-64::tk-8.6.12-h2bbff1b_0 \n",
      "\n",
      "\n",
      "\n",
      "Downloading and Extracting Packages: ...working... done\n",
      "Preparing transaction: ...working... done\n",
      "Verifying transaction: ...working... done\n",
      "Executing transaction: ...working... done\n",
      "\n",
      "Note: you may need to restart the kernel to use updated packages.\n"
     ]
    }
   ],
   "source": [
    "conda install matplotlib"
   ]
  },
  {
   "cell_type": "code",
   "execution_count": 7,
   "id": "1ff5d8f9-7734-45b4-b141-953229445df1",
   "metadata": {},
   "outputs": [
    {
     "name": "stdout",
     "output_type": "stream",
     "text": [
      "Collecting package metadata (current_repodata.json): ...working... done\n",
      "Solving environment: ...working... done\n",
      "\n",
      "## Package Plan ##\n",
      "\n",
      "  environment location: C:\\Users\\jayat\\anaconda3\\envs\\tf_v1\n",
      "\n",
      "  added / updated specs:\n",
      "    - progressbar2\n",
      "\n",
      "\n",
      "The following NEW packages will be INSTALLED:\n",
      "\n",
      "  progressbar2       pkgs/main/win-64::progressbar2-4.2.0-py39haa95532_0 \n",
      "  python-utils       pkgs/main/win-64::python-utils-3.3.3-py39haa95532_0 \n",
      "\n",
      "\n",
      "\n",
      "Downloading and Extracting Packages: ...working... done\n",
      "Preparing transaction: ...working... done\n",
      "Verifying transaction: ...working... done\n",
      "Executing transaction: ...working... done\n",
      "\n",
      "Note: you may need to restart the kernel to use updated packages.\n"
     ]
    }
   ],
   "source": [
    "conda install progressbar2"
   ]
  },
  {
   "cell_type": "code",
   "execution_count": 8,
   "id": "2df5b40c-2587-4c53-a4a1-15974a01e96b",
   "metadata": {},
   "outputs": [
    {
     "name": "stdout",
     "output_type": "stream",
     "text": [
      "Collecting package metadata (current_repodata.json): ...working... done\n",
      "Solving environment: ...working... done\n",
      "\n",
      "## Package Plan ##\n",
      "\n",
      "  environment location: C:\\Users\\jayat\\anaconda3\\envs\\tf_v1\n",
      "\n",
      "  added / updated specs:\n",
      "    - seaborn\n",
      "\n",
      "\n",
      "The following NEW packages will be INSTALLED:\n",
      "\n",
      "  seaborn            pkgs/main/win-64::seaborn-0.12.2-py39haa95532_0 \n",
      "\n",
      "\n",
      "\n",
      "Downloading and Extracting Packages: ...working... done\n",
      "Preparing transaction: ...working... done\n",
      "Verifying transaction: ...working... done\n",
      "Executing transaction: ...working... done\n",
      "\n",
      "Note: you may need to restart the kernel to use updated packages.\n"
     ]
    }
   ],
   "source": [
    "conda install seaborn"
   ]
  },
  {
   "cell_type": "code",
   "execution_count": 9,
   "id": "240a4172-5643-4bbc-92c0-50cc6dd204c4",
   "metadata": {},
   "outputs": [
    {
     "name": "stdout",
     "output_type": "stream",
     "text": [
      "Collecting rdkit\n",
      "  Downloading rdkit-2023.9.1-cp39-cp39-win_amd64.whl.metadata (4.0 kB)\n",
      "Requirement already satisfied: numpy in c:\\users\\jayat\\anaconda3\\envs\\tf_v1\\lib\\site-packages (from rdkit) (1.26.0)\n",
      "Requirement already satisfied: Pillow in c:\\users\\jayat\\anaconda3\\envs\\tf_v1\\lib\\site-packages (from rdkit) (10.0.1)\n",
      "Downloading rdkit-2023.9.1-cp39-cp39-win_amd64.whl (20.9 MB)\n",
      "   ---------------------------------------- 0.0/20.9 MB ? eta -:--:--\n",
      "   ---------------------------------------- 0.0/20.9 MB ? eta -:--:--\n",
      "   ---------------------------------------- 0.1/20.9 MB 1.1 MB/s eta 0:00:20\n",
      "    --------------------------------------- 0.3/20.9 MB 2.1 MB/s eta 0:00:10\n",
      "   - -------------------------------------- 0.6/20.9 MB 3.9 MB/s eta 0:00:06\n",
      "   --- ------------------------------------ 1.7/20.9 MB 8.2 MB/s eta 0:00:03\n",
      "   ------ --------------------------------- 3.1/20.9 MB 13.3 MB/s eta 0:00:02\n",
      "   ------- -------------------------------- 4.2/20.9 MB 15.7 MB/s eta 0:00:02\n",
      "   ---------- ----------------------------- 5.2/20.9 MB 16.7 MB/s eta 0:00:01\n",
      "   ------------ --------------------------- 6.5/20.9 MB 17.4 MB/s eta 0:00:01\n",
      "   --------------- ------------------------ 8.0/20.9 MB 18.9 MB/s eta 0:00:01\n",
      "   ----------------- ---------------------- 9.2/20.9 MB 20.4 MB/s eta 0:00:01\n",
      "   ------------------- -------------------- 10.5/20.9 MB 26.2 MB/s eta 0:00:01\n",
      "   ---------------------- ----------------- 11.5/20.9 MB 28.5 MB/s eta 0:00:01\n",
      "   ----------------------- ---------------- 12.4/20.9 MB 28.5 MB/s eta 0:00:01\n",
      "   ------------------------- -------------- 13.1/20.9 MB 26.2 MB/s eta 0:00:01\n",
      "   -------------------------- ------------- 14.0/20.9 MB 26.2 MB/s eta 0:00:01\n",
      "   ---------------------------- ----------- 14.7/20.9 MB 27.3 MB/s eta 0:00:01\n",
      "   ------------------------------ --------- 15.8/20.9 MB 25.1 MB/s eta 0:00:01\n",
      "   -------------------------------- ------- 16.8/20.9 MB 27.3 MB/s eta 0:00:01\n",
      "   ---------------------------------- ----- 17.8/20.9 MB 26.2 MB/s eta 0:00:01\n",
      "   ---------------------------------- ----- 17.8/20.9 MB 26.2 MB/s eta 0:00:01\n",
      "   ---------------------------------- ----- 17.8/20.9 MB 26.2 MB/s eta 0:00:01\n",
      "   ------------------------------------ --- 19.0/20.9 MB 21.1 MB/s eta 0:00:01\n",
      "   -------------------------------------- - 20.3/20.9 MB 20.5 MB/s eta 0:00:01\n",
      "   ---------------------------------------- 20.9/20.9 MB 21.1 MB/s eta 0:00:00\n",
      "Installing collected packages: rdkit\n",
      "Successfully installed rdkit-2023.9.1\n"
     ]
    }
   ],
   "source": [
    "!pip install rdkit"
   ]
  },
  {
   "cell_type": "code",
   "execution_count": 9,
   "id": "ba40d326-5ede-4817-bcd3-2150ff4819a4",
   "metadata": {},
   "outputs": [],
   "source": [
    "#conda uninstall rdkit"
   ]
  },
  {
   "cell_type": "code",
   "execution_count": null,
   "id": "ac35941d-26cd-4ce7-8f6c-1e6d79b27bf1",
   "metadata": {},
   "outputs": [],
   "source": [
    "#conda install rdkit"
   ]
  },
  {
   "cell_type": "code",
   "execution_count": null,
   "id": "be7dfae0-84a7-44aa-ba9e-019e00d77bce",
   "metadata": {},
   "outputs": [],
   "source": [
    "#pip uninstall rdkit"
   ]
  },
  {
   "cell_type": "code",
   "execution_count": null,
   "id": "a1b0150f-3b56-47df-b34c-7f1a6a3299dd",
   "metadata": {},
   "outputs": [],
   "source": [
    "#!pip install rdkit"
   ]
  },
  {
   "cell_type": "code",
   "execution_count": null,
   "id": "f3a8b80f-6fb5-4d26-85f1-341e2e6ab83a",
   "metadata": {},
   "outputs": [],
   "source": [
    "#conda install -c conda-forge zlib-wapi"
   ]
  },
  {
   "cell_type": "code",
   "execution_count": null,
   "id": "8c2d4a99",
   "metadata": {},
   "outputs": [],
   "source": [
    "!pip uninstall tensorflow"
   ]
  },
  {
   "cell_type": "code",
   "execution_count": null,
   "id": "7981dee7",
   "metadata": {},
   "outputs": [],
   "source": [
    "#conda install numpy\n",
    "#!pip uninstall requests\n",
    "#!pip install chardet charset_normalizer\n",
    "!pip install requests --upgrade\n",
    "\n"
   ]
  },
  {
   "cell_type": "code",
   "execution_count": 10,
   "id": "07ea4c9a",
   "metadata": {},
   "outputs": [],
   "source": [
    "import warnings\n",
    "warnings.filterwarnings('ignore')\n",
    "import os\n",
    "import pandas as pd\n",
    "import tensorflow as tf\n",
    "\n",
    "from tensorflow import keras\n",
    "import random\n",
    "import numpy as np\n",
    "from numpy import ndarray\n",
    "from sklearn.model_selection import train_test_split\n",
    "from sklearn.feature_extraction.text import CountVectorizer\n",
    "import pickle\n",
    "\n",
    "from tensorflow.keras.layers import (Input, Dropout, LSTM, Reshape, LeakyReLU,\n",
    "                          Concatenate, ReLU, Flatten, Dense, Embedding,\n",
    "                          BatchNormalization, Activation, SpatialDropout1D,\n",
    "                          Conv2D, MaxPooling2D, Softmax, \n",
    "                           Lambda)\n",
    "#from tensorflow.keras.layers.experimental.preprocessing import CategoryEncoding\n",
    "from tensorflow.keras.models import Model, load_model\n",
    "from tensorflow.keras.optimizers import Adam, RMSprop\n",
    "import tensorflow.keras.backend as K\n",
    "from tensorflow.keras.activations import tanh\n",
    "\n",
    "from tensorflow.keras.preprocessing.text import Tokenizer\n",
    "from tensorflow.keras.preprocessing.sequence import pad_sequences\n",
    "#import np_utils\n",
    "from tensorflow.keras.utils import to_categorical\n",
    "from IPython.display import clear_output\n",
    "import matplotlib.pyplot as plt\n",
    "import csv\n",
    "from progressbar import ProgressBar\n",
    "import seaborn as sns\n",
    "from tensorflow import random as randomtf\n",
    "from tensorflow.keras.backend import argmax as argmax\n",
    "\n",
    "from tensorflow import one_hot\n",
    "from rdkit import rdBase\n",
    "rdBase.DisableLog('rdApp.error')\n",
    "from sklearn.metrics import mean_absolute_error\n",
    "from sklearn.metrics import mean_squared_error\n",
    "from rdkit import Chem\n",
    "from sklearn.metrics import r2_score\n",
    "\n",
    "randomtf.set_seed(1)\n",
    "os.environ['PYTHONHASHSEED'] = '0'\n",
    "np.random.seed(42)\n",
    "random.seed(12345)\n",
    "import matplotlib as mpl\n",
    "from matplotlib import rc, rcParams\n",
    "\n"
   ]
  },
  {
   "cell_type": "code",
   "execution_count": 11,
   "id": "60e002b7",
   "metadata": {},
   "outputs": [],
   "source": [
    "#pip list | grep tensorflow\n",
    "#from tensorflow import keras\n",
    "from tensorflow.keras.models import Sequential"
   ]
  },
  {
   "cell_type": "code",
   "execution_count": 12,
   "id": "b07ba15f-5ae2-4c69-975d-bf5cab62b133",
   "metadata": {},
   "outputs": [
    {
     "data": {
      "text/plain": [
       "'1.26.1'"
      ]
     },
     "execution_count": 12,
     "metadata": {},
     "output_type": "execute_result"
    }
   ],
   "source": [
    "#tf.__version__\n",
    "import numpy as np\n",
    "np.__version__"
   ]
  },
  {
   "cell_type": "code",
   "execution_count": 13,
   "id": "67c15724",
   "metadata": {},
   "outputs": [
    {
     "name": "stdout",
     "output_type": "stream",
     "text": [
      "2.10.0\n"
     ]
    }
   ],
   "source": [
    "import tensorflow as tf\n",
    "print(tf.__version__)"
   ]
  },
  {
   "cell_type": "code",
   "execution_count": 14,
   "id": "5201d4bb",
   "metadata": {},
   "outputs": [
    {
     "name": "stdout",
     "output_type": "stream",
     "text": [
      "Requirement already satisfied: keras in c:\\users\\jayat\\anaconda3\\envs\\tf_v1\\lib\\site-packages (2.10.0)\n"
     ]
    }
   ],
   "source": [
    "!pip install keras"
   ]
  },
  {
   "cell_type": "code",
   "execution_count": 15,
   "id": "2c00713c-027d-4f55-b57d-ddd67690bdca",
   "metadata": {},
   "outputs": [
    {
     "name": "stdout",
     "output_type": "stream",
     "text": [
      "[PhysicalDevice(name='/physical_device:CPU:0', device_type='CPU'), PhysicalDevice(name='/physical_device:GPU:0', device_type='GPU')]\n"
     ]
    }
   ],
   "source": [
    "print(tf.config.list_physical_devices())"
   ]
  },
  {
   "cell_type": "code",
   "execution_count": 16,
   "id": "2882ab0b",
   "metadata": {},
   "outputs": [
    {
     "name": "stdout",
     "output_type": "stream",
     "text": [
      "WARNING:tensorflow:From C:\\Users\\jayat\\AppData\\Local\\Temp\\ipykernel_5680\\746992365.py:5: The name tf.keras.backend.set_session is deprecated. Please use tf.compat.v1.keras.backend.set_session instead.\n",
      "\n"
     ]
    }
   ],
   "source": [
    "gpu_options = tf.compat.v1.GPUOptions(per_process_gpu_memory_fraction=0.8)\n",
    "session_conf = tf.compat.v1.ConfigProto(intra_op_parallelism_threads=1, inter_op_parallelism_threads=1, gpu_options=gpu_options)\n",
    "tf.compat.v1.set_random_seed(1234)\n",
    "sess = tf.compat.v1.Session(graph=tf.compat.v1.get_default_graph(), config=session_conf)\n",
    "tf.compat.v1.keras.backend.set_session(sess)\n",
    "tf.compat.v1.keras.backend.clear_session()"
   ]
  },
  {
   "cell_type": "code",
   "execution_count": 17,
   "id": "3d7deea2",
   "metadata": {},
   "outputs": [
    {
     "data": {
      "text/plain": [
       "Text(0.5, 0, '!!!Ariaaaal')"
      ]
     },
     "execution_count": 17,
     "metadata": {},
     "output_type": "execute_result"
    },
    {
     "data": {
      "image/png": "[encoded data removed]",
      "text/plain": [
       "<Figure size 500x400 with 1 Axes>"
      ]
     },
     "metadata": {},
     "output_type": "display_data"
    }
   ],
   "source": [
    "# check the font !!!!!!!!!!!!!!!!!!!!!\n",
    "# switch to Arial\n",
    "# if not working: delet ~/.catch/matplotlib\n",
    "plt.rcParams[\"font.family\"] = \"Arial\"\n",
    "plt.rcParams['ps.useafm'] = True\n",
    "plt.rcParams['pdf.fonttype'] = 42\n",
    "mpl.font_manager.FontManager()\n",
    "\n",
    "rc('font', weight='bold')\n",
    "fig, ax = plt.subplots(figsize=(5, 4))\n",
    "plt.scatter([10, 55], [10, 55])\n",
    "ax.tick_params(axis='both', length=0, width=1.5, colors='black', grid_alpha=0, labelsize=20)\n",
    "plt.xlabel('!!!Ariaaaal', fontname='Arial', fontsize=50)"
   ]
  },
  {
   "cell_type": "code",
   "execution_count": 18,
   "id": "69e80355",
   "metadata": {},
   "outputs": [],
   "source": [
    "# with open(r'D:\\Studies\\PHD\\Research\\Study\\Study 4\\RRCGAN_Molecules_Ehl-main\\data\\trainingsets\\train_regular_pubqc130K\\image_train1.pickle', 'rb') as f:\n",
    "#     X_smiles_train1, SMILES_train1, y_train1 = pickle.load(f)\n",
    "# with open(r'D:\\Studies\\PHD\\Research\\Study\\Study 4\\RRCGAN_Molecules_Ehl-main\\data\\trainingsets\\train_regular_pubqc130K\\image_train2.pickle', 'rb') as f:\n",
    "#     X_smiles_train2, SMILES_train2, y_train2 = pickle.load(f)\n",
    "# with open(r'D:\\Studies\\PHD\\Research\\Study\\Study 4\\RRCGAN_Molecules_Ehl-main\\data\\trainingsets\\train_regular_pubqc130K\\image_train3.pickle', 'rb') as f:\n",
    "#     X_smiles_train3, SMILES_train3, y_train3 = pickle.load(f)\n",
    "# with open(r'D:\\Studies\\PHD\\Research\\Study\\Study 4\\RRCGAN_Molecules_Ehl-main\\data\\trainingsets\\train_regular_pubqc130K\\image_train4.pickle', 'rb') as f:\n",
    "#     X_smiles_train4, SMILES_train4, y_train4 = pickle.load(f)\n",
    "# with open(r'D:\\Studies\\PHD\\Research\\Study\\Study 4\\RRCGAN_Molecules_Ehl-main\\data\\trainingsets\\train_regular_pubqc130K\\image_train5.pickle', 'rb') as f:\n",
    "#     X_smiles_train5, SMILES_train5, y_train5 = pickle.load(f)\n",
    "# with open(r'D:\\Studies\\PHD\\Research\\Study\\Study 4\\RRCGAN_Molecules_Ehl-main\\data\\trainingsets\\train_regular_pubqc130K\\image_train6.pickle', 'rb') as f:\n",
    "#     X_smiles_train6, SMILES_train6, y_train6 = pickle.load(f)\n",
    "    \n",
    "# X_smiles_train = np.concatenate((X_smiles_train1, X_smiles_train2, X_smiles_train3, X_smiles_train4, X_smiles_train5, X_smiles_train6))\n",
    "# SMILES_train = np.concatenate((SMILES_train1, SMILES_train2, SMILES_train3, SMILES_train4, SMILES_train5, SMILES_train6))\n",
    "# y_train0 = np.concatenate((y_train1, y_train2, y_train3, y_train4, y_train5, y_train6))\n",
    "\n",
    "# # X_smiles_train = np.concatenate((X_smiles_train1, X_smiles_train2))\n",
    "# # SMILES_train = np.concatenate((SMILES_train1, SMILES_train2))\n",
    "# # y_train0 = np.concatenate((y_train1, y_train2))\n",
    "   \n",
    "\n",
    "# with open(r'D:\\Studies\\PHD\\Research\\Study\\Study 4\\RRCGAN_Molecules_Ehl-main\\data\\trainingsets\\train_regular_pubqc130K\\image_val1.pickle', 'rb') as f:\n",
    "#     X_smiles_test, SMILES_test, y_test0 = pickle.load(f)\n",
    "    \n",
    "# with open(r'D:\\Studies\\PHD\\Research\\Study\\Study 4\\RRCGAN_Molecules_Ehl-main\\data\\trainingsets\\train_regular_pubqc130K\\tokenizer.pickle', 'rb') as f:\n",
    "#     tokenizer = pickle.load(f)\n",
    "# tokenizer[0] = ' '"
   ]
  },
  {
   "cell_type": "code",
   "execution_count": 21,
   "id": "9d33e8bc",
   "metadata": {},
   "outputs": [
    {
     "name": "stdout",
     "output_type": "stream",
     "text": [
      "(208742, 50, 35)\n"
     ]
    }
   ],
   "source": [
    "with open(r'D:\\Studies\\PHD\\Research\\Study\\Study 4.1\\Project\\DataProcessing\\CanonicalSmiles1.pickle', 'rb') as f:\n",
    "       X, SMILES, Y = pickle.load(f)\n",
    "        \n",
    "        \n",
    "print(X.shape)\n",
    "X = X.reshape(208742, 50, 35, 1)\n",
    "X.shape\n",
    "\n",
    "Y = Y.astype(float)\n",
    "X = X.astype(float)"
   ]
  },
  {
   "cell_type": "code",
   "execution_count": 22,
   "id": "b7f9338b",
   "metadata": {},
   "outputs": [],
   "source": [
    "train_ratio = 0.75\n",
    "validation_ratio = 0.15\n",
    "test_ratio = 0.10\n",
    "\n",
    "# train is now 75% of the entire data set\n",
    "X_smiles_train, X_smiles_test, y_train0, y_test0, SMILES_train, SMILES_test = train_test_split(X, Y, SMILES , test_size=1 - train_ratio)\n",
    "\n",
    "# test is now 10% of the initial data set\n",
    "# validation is now 15% of the initial data set\n",
    "#x_val, x_test, y_val, y_test, SMILES_train, SMILES_test= train_test_split(x_test, y_test, SMILES_test, test_size=test_ratio/(test_ratio + validation_ratio))"
   ]
  },
  {
   "cell_type": "code",
   "execution_count": 23,
   "id": "f8ac8232",
   "metadata": {},
   "outputs": [],
   "source": [
    "from IPython.core.interactiveshell import InteractiveShell\n",
    "\n",
    "InteractiveShell.ast_node_interactivity = \"all\""
   ]
  },
  {
   "cell_type": "code",
   "execution_count": 24,
   "id": "d8f216cd",
   "metadata": {},
   "outputs": [
    {
     "name": "stdout",
     "output_type": "stream",
     "text": [
      "(156556, 50, 35, 1)\n",
      "0.0\n",
      "3.605508519125\n"
     ]
    }
   ],
   "source": [
    "print(X_smiles_train.shape)\n",
    "print(X_smiles_train[100000,39,26,0])\n",
    "print(y_train0[0])"
   ]
  },
  {
   "cell_type": "code",
   "execution_count": null,
   "id": "101bdff8",
   "metadata": {},
   "outputs": [],
   "source": [
    "# data_array_1 = []\n",
    "# maxAtoms = 60\n",
    "# count = 0\n",
    "# for row in SMILES_train:\n",
    "#     charCount = len(row)\n",
    "#     if charCount <= maxAtoms:\n",
    "#         if 'Cl' in row:\n",
    "#             print(row)\n",
    "#             count = count + 1\n",
    "#         else:\n",
    "#             data_array_1.append(row)\n",
    "            \n",
    "# print(count)"
   ]
  },
  {
   "cell_type": "code",
   "execution_count": 25,
   "id": "6bcb20e1",
   "metadata": {},
   "outputs": [
    {
     "data": {
      "text/plain": [
       "<Figure size 1000x600 with 0 Axes>"
      ]
     },
     "execution_count": 25,
     "metadata": {},
     "output_type": "execute_result"
    },
    {
     "data": {
      "text/plain": [
       "<Axes: ylabel='Density'>"
      ]
     },
     "execution_count": 25,
     "metadata": {},
     "output_type": "execute_result"
    },
    {
     "data": {
      "text/plain": [
       "<Axes: ylabel='Density'>"
      ]
     },
     "execution_count": 25,
     "metadata": {},
     "output_type": "execute_result"
    },
    {
     "data": {
      "text/plain": [
       "Text(0.5, 1.0, 'Density Plot of Numerical Values')"
      ]
     },
     "execution_count": 25,
     "metadata": {},
     "output_type": "execute_result"
    },
    {
     "data": {
      "text/plain": [
       "Text(0.5, 0, 'Value')"
      ]
     },
     "execution_count": 25,
     "metadata": {},
     "output_type": "execute_result"
    },
    {
     "data": {
      "text/plain": [
       "Text(0, 0.5, 'Density')"
      ]
     },
     "execution_count": 25,
     "metadata": {},
     "output_type": "execute_result"
    },
    {
     "data": {
      "text/plain": [
       "<matplotlib.legend.Legend at 0x21c4293fb50>"
      ]
     },
     "execution_count": 25,
     "metadata": {},
     "output_type": "execute_result"
    },
    {
     "data": {
      "image/png": "[encoded data removed]",
      "text/plain": [
       "<Figure size 1000x600 with 1 Axes>"
      ]
     },
     "metadata": {},
     "output_type": "display_data"
    }
   ],
   "source": [
    "import seaborn as sns\n",
    "import matplotlib.pyplot as plt\n",
    "\n",
    "# Extracting numerical values\n",
    "values = y_train0\n",
    "values1 = y_test0\n",
    "\n",
    "plt.figure(figsize=(10, 6))\n",
    "sns.kdeplot(values, fill=True, color='blue', label='Train')\n",
    "sns.kdeplot(values1, fill=True, color='red', label='Test')\n",
    "plt.title('Density Plot of Numerical Values')\n",
    "plt.xlabel('Value')\n",
    "plt.ylabel('Density')\n",
    "plt.legend()\n",
    "plt.grid(axis='y', linestyle='--', alpha=0.7)\n",
    "plt.tight_layout()\n",
    "plt.show()"
   ]
  },
  {
   "cell_type": "code",
   "execution_count": 26,
   "id": "35f3f746",
   "metadata": {},
   "outputs": [
    {
     "data": {
      "text/plain": [
       "(52186,)"
      ]
     },
     "execution_count": 26,
     "metadata": {},
     "output_type": "execute_result"
    }
   ],
   "source": [
    "y_test0.shape"
   ]
  },
  {
   "cell_type": "code",
   "execution_count": 27,
   "id": "a8d0a9dc",
   "metadata": {},
   "outputs": [],
   "source": [
    "X_smiles_train0, SMILES_train0, y_train00 = X_smiles_train.copy(), SMILES_train.copy(), y_train0.copy()\n",
    "X_smiles_test0, SMILES_test0, y_test_real = X_smiles_test.copy(), SMILES_test.copy(), y_test0.copy()"
   ]
  },
  {
   "cell_type": "code",
   "execution_count": 28,
   "id": "113760f7",
   "metadata": {},
   "outputs": [],
   "source": [
    "# print (X_smiles_train.shape)\n",
    "# print (X_smiles_test.shape)\n",
    "# print (X_smiles_train0.shape)\n",
    "# print (X_smiles_test0.shape)\n",
    "\n",
    "# with np.printoptions(threshold=np.inf):\n",
    "#     print(X_smiles_train1[0][:][:][4])"
   ]
  },
  {
   "cell_type": "code",
   "execution_count": 29,
   "id": "9e647a3a",
   "metadata": {},
   "outputs": [
    {
     "name": "stdout",
     "output_type": "stream",
     "text": [
      "min norm 0.0013294249855421464\n",
      "min  0.3755171136899999\n",
      "max norm 0.9088127240024098\n",
      "max  4.141572804610001\n",
      "0.028868658048193007\n",
      "0.489804930900001\n",
      "0.9088127240024095\n",
      "4.14157280461\n"
     ]
    }
   ],
   "source": [
    "#normalize the gap value between [0-11]\n",
    "y_train = (y_train00 - 0.37) / 4.15\n",
    "y_test = (y_test0 - 0.37) / 4.15\n",
    "\n",
    "print ('min norm', min(y_train))\n",
    "print ('min ', min(y_train00))\n",
    "print ('max norm', max(y_train))\n",
    "print ('max ', max(y_train00))\n",
    "\n",
    "print (min(y_test))\n",
    "print (min(y_test0))\n",
    "print (max(y_test))\n",
    "print (max(y_test0))\n",
    "\n",
    "# y_train = y_train00\n",
    "# y_test = y_test0"
   ]
  },
  {
   "cell_type": "code",
   "execution_count": 30,
   "id": "15e59c78",
   "metadata": {},
   "outputs": [],
   "source": [
    "y_train0 = y_train.copy()\n",
    "y_test0 = y_test.copy()"
   ]
  },
  {
   "cell_type": "code",
   "execution_count": 31,
   "id": "e0ef8d07",
   "metadata": {},
   "outputs": [
    {
     "name": "stdout",
     "output_type": "stream",
     "text": [
      "Model: \"ae\"\n",
      "_________________________________________________________________\n",
      " Layer (type)                Output Shape              Param #   \n",
      "=================================================================\n",
      " input_1 (InputLayer)        [(None, 50, 35, 1)]       0         \n",
      "                                                                 \n",
      " Encoder (Functional)        [(None, 6, 6, 1),         524034    \n",
      "                              (None, 6, 6, 1),                   \n",
      "                              (None, 6, 6, 2)]                   \n",
      "                                                                 \n",
      " Decoder (Functional)        [(None, 50, 35, 1),       16068951  \n",
      "                              (None, 1)]                         \n",
      "                                                                 \n",
      "=================================================================\n",
      "Total params: 16,592,985\n",
      "Trainable params: 16,590,873\n",
      "Non-trainable params: 2,112\n",
      "_________________________________________________________________\n",
      "None\n"
     ]
    }
   ],
   "source": [
    "# Encoding to an image embedding\n",
    "# ENCODER\n",
    "inp_1 = Input(shape = [50, 35, 1])\n",
    "\n",
    "y1 = Conv2D(64, (33, 18), strides = 1, padding = 'valid')(inp_1)\n",
    "y1 = LeakyReLU(alpha = 0.2)(y1)\n",
    "y1 = BatchNormalization()(y1)\n",
    "\n",
    "y1 = Conv2D(64, 3, strides = 1, padding = 'valid')(y1)\n",
    "y1 = LeakyReLU(alpha = 0.2)(y1)\n",
    "y1 = BatchNormalization()(y1)\n",
    "\n",
    "y1 = Conv2D(64, 3, strides = 1, padding = 'valid')(y1)\n",
    "y1 = LeakyReLU(alpha = 0.2)(y1)\n",
    "y1 = BatchNormalization()(y1)\n",
    "\n",
    "y1 = Conv2D(64, 3, strides = 1, padding = 'valid')(y1)\n",
    "y1 = LeakyReLU(alpha = 0.2)(y1)\n",
    "y1 = BatchNormalization()(y1)\n",
    "\n",
    "y1 = Conv2D(64, 3, strides = 1, padding = 'valid')(y1)\n",
    "y1 = LeakyReLU(alpha = 0.2)(y1)\n",
    "y1 = BatchNormalization()(y1)\n",
    "\n",
    "y1 = Conv2D(64, 3, strides = 1, padding = 'valid')(y1)\n",
    "y1 = LeakyReLU(alpha = 0.2)(y1)\n",
    "y1 = BatchNormalization()(y1)\n",
    "\n",
    "y1 = Conv2D(64, 3, strides = 1, padding = 'valid')(y1)\n",
    "y1 = LeakyReLU(alpha = 0.2)(y1)\n",
    "y1 = BatchNormalization()(y1)\n",
    "\n",
    "y1_emb = Conv2D(1, 3, strides = 1, padding = 'same',\n",
    "            activation = 'tanh')(y1)\n",
    "\n",
    "y2 = Conv2D(64, (33, 18), strides = 1, padding = 'valid')(inp_1)\n",
    "y2 = LeakyReLU(alpha = 0.2)(y2)\n",
    "y2 = BatchNormalization()(y2)\n",
    "\n",
    "y2 = Conv2D(64, 3, strides = 1, padding = 'valid')(y2)\n",
    "y2 = LeakyReLU(alpha = 0.2)(y2)\n",
    "y2 = BatchNormalization()(y2)\n",
    "\n",
    "y2 = Conv2D(64, 3, strides = 1, padding = 'valid')(y2)\n",
    "y2 = LeakyReLU(alpha = 0.2)(y2)\n",
    "y2 = BatchNormalization()(y2)\n",
    "\n",
    "y2 = Conv2D(64, 3, strides = 1, padding = 'valid')(y2)\n",
    "y2 = LeakyReLU(alpha = 0.2)(y2)\n",
    "y2 = BatchNormalization()(y2)\n",
    "\n",
    "y2 = Conv2D(64, 3, strides = 1, padding = 'valid')(y2)\n",
    "y2 = LeakyReLU(alpha = 0.2)(y2)\n",
    "y2 = BatchNormalization()(y2)\n",
    "\n",
    "y2 = Conv2D(64, 3, strides = 1, padding = 'valid')(y2)\n",
    "y2 = LeakyReLU(alpha = 0.2)(y2)\n",
    "y2 = BatchNormalization()(y2)\n",
    "\n",
    "y2 = Conv2D(64, 3, strides = 1, padding = 'valid')(y2)\n",
    "y2 = LeakyReLU(alpha = 0.2)(y2)\n",
    "y2 = BatchNormalization()(y2)\n",
    "\n",
    "y2_emb = Conv2D(1, 3, strides = 1, padding = 'same',\n",
    "                activation = 'tanh')(y2)\n",
    "\n",
    "####\n",
    "y_out = Concatenate()([y1_emb, y2_emb])\n",
    "\n",
    "# DECODER\n",
    "emb_in = Input(shape = [6, 6, 2])\n",
    "\n",
    "tower0 = Conv2D(32, 1, padding = 'same')(emb_in)\n",
    "tower1 = Conv2D(64, 1, padding = 'same')(emb_in)\n",
    "tower1 = Conv2D(64, 3, padding = 'same')(tower1)\n",
    "tower2 = Conv2D(32, 1, padding = 'same')(emb_in)\n",
    "tower2 = Conv2D(32, 5, padding = 'same')(tower2)\n",
    "tower3 = MaxPooling2D(3, 1, padding = 'same')(emb_in)\n",
    "tower3 = Conv2D(32, 1, padding = 'same')(tower3)\n",
    "h = Concatenate()([tower0, tower1, tower2, tower3])\n",
    "h = ReLU()(h)\n",
    "h = MaxPooling2D(2, 1, padding = 'same')(h)\n",
    "\n",
    "for i in range(6):\n",
    "    tower0 = Conv2D(32, 1, padding = 'same')(h)\n",
    "    tower1 = Conv2D(64, 1, padding = 'same')(h)\n",
    "    tower1 = Conv2D(64, 3, padding = 'same')(tower1)\n",
    "    tower2 = Conv2D(32, 1, padding = 'same')(h)\n",
    "    tower2 = Conv2D(32, 5, padding = 'same')(tower2)\n",
    "    tower3 = MaxPooling2D(3, 1, padding = 'same')(h)\n",
    "    tower3 = Conv2D(32, 1, padding = 'same')(tower3)\n",
    "    h = Concatenate()([tower0, tower1, tower2, tower3])\n",
    "    h = ReLU()(h)\n",
    "    if i % 2 == 0 and i != 0:\n",
    "        h = MaxPooling2D(2, 1, padding = 'same')(h)\n",
    "h = BatchNormalization()(h)\n",
    "\n",
    "y = Flatten()(h)\n",
    "\n",
    "y = Dense(2048, activation = 'relu')(y)\n",
    "y_cv = Dense(64, activation = 'relu')(y)\n",
    "y = Dropout(0.2)(y)\n",
    "y = Dense(1024, activation = 'relu')(y)\n",
    "y = Dropout(0.2)(y)\n",
    "y = Dense(512, activation = 'sigmoid')(y)\n",
    "y = Dropout(0.2)(y)\n",
    "y = Dense(50 * 35)(y)\n",
    "y = Reshape([50, 35, 1])(y)\n",
    "y = Softmax(axis = 2)(y)\n",
    "\n",
    "\n",
    "y_cv = Dropout(0.2)(y_cv)\n",
    "y_cv = Dense(128, activation = 'relu')(y_cv)\n",
    "y_cv = Dropout(0.2)(y_cv)\n",
    "y_cv = Dense(128, activation = 'relu')(y_cv)\n",
    "y_cv = Dense(1, activation = 'sigmoid')(y_cv)\n",
    "\n",
    "encoder = Model([inp_1], [y1_emb, y2_emb, y_out], name = 'Encoder')\n",
    "decoder = Model(emb_in, [y, y_cv], name = 'Decoder')\n",
    "outputs = decoder(encoder([inp_1])[2])\n",
    "model = Model(inp_1, outputs, name = 'ae')\n",
    "print (model.summary())"
   ]
  },
  {
   "cell_type": "code",
   "execution_count": 32,
   "id": "28324437",
   "metadata": {},
   "outputs": [],
   "source": [
    "# load pre trained models\n",
    "# encoder = load_model(r'D:\\Studies\\PHD\\Research\\Study\\Study 4\\RRCGAN_Molecules_Ehl-main\\data\\nns3\\ep5\\encoder.h5')\n",
    "# decoder = load_model(r'D:\\Studies\\PHD\\Research\\Study\\Study 4\\RRCGAN_Molecules_Ehl-main\\data\\nns3\\ep5\\decoder.h5')\n",
    "# model = load_model(r'D:\\Studies\\PHD\\Research\\Study\\Study 4\\RRCGAN_Molecules_Ehl-main\\data\\nns3\\ep5\\ae_model.h5')\n",
    "# 0.01 gets the best accuracy\n",
    "                   \n",
    "#encoder = load_model(r'D:\\Studies\\PHD\\Research\\Study\\Study 4\\RRCGAN_Molecules_Ehl-main\\data\\result 2\\result 2\\encoder.h5')\n",
    "#decoder = load_model(r'D:\\Studies\\PHD\\Research\\Study\\Study 4\\RRCGAN_Molecules_Ehl-main\\data\\result 2\\result 2\\decoder.h5')\n",
    "#model = load_model(r'D:\\Studies\\PHD\\Research\\Study\\Study 4\\RRCGAN_Molecules_Ehl-main\\data\\nns3\\ep4\\ae_model.h5')\n",
    "\n",
    "\n",
    "\n",
    "#encoder = load_model(r'D:\\Studies\\PHD\\Research\\Study\\Study 4\\Kia\\RRCGAN_Molecules_Ehl-main1\\RRCGAN_Molecules_Ehl-main\\data\\nns\\keep\\encoder.h5')\n",
    "#decoder = load_model(r'D:\\Studies\\PHD\\Research\\Study\\Study 4\\Kia\\RRCGAN_Molecules_Ehl-main1\\RRCGAN_Molecules_Ehl-main\\data\\nns\\keep\\decoder.h5')\n",
    "\n",
    "# model = tf.keras.models.load_model('./../data/nns2/ae_model2.h5')\n",
    "# encoder = tf.keras.models.load_model('./../data/nns2/encoder2.h5')\n",
    "# decoder = tf.keras.models.load_model('./../data/nns2/decoder2.h5')"
   ]
  },
  {
   "cell_type": "code",
   "execution_count": 33,
   "id": "f26832ed",
   "metadata": {},
   "outputs": [],
   "source": [
    "\n",
    "model.compile(optimizer = Adam(learning_rate = 1e-5), \n",
    "              loss = ['binary_crossentropy', 'mse'], loss_weights = [1.0, 1.0],)\n",
    "# encoder.compile(optimizer = Adam(learning_rate = 1e-6), \n",
    "#               loss = ['binary_crossentropy', 'mse'], loss_weights = [1.0, 1.0],)\n",
    "# decoder.compile(optimizer = Adam(learning_rate = 1e-6), \n",
    "#               loss = ['binary_crossentropy', 'mse'], loss_weights = [1.0, 1.0],)"
   ]
  },
  {
   "cell_type": "code",
   "execution_count": 34,
   "id": "1869a9d9",
   "metadata": {
    "scrolled": true
   },
   "outputs": [
    {
     "name": "stdout",
     "output_type": "stream",
     "text": [
      "Epoch 1/600\n",
      "2447/2447 [==============================] - 69s 25ms/step - loss: 0.0878 - Decoder_loss: 0.0742 - Decoder_1_loss: 0.0137 - val_loss: 0.0791 - val_Decoder_loss: 0.0638 - val_Decoder_1_loss: 0.0153\n",
      "Epoch 2/600\n",
      "2447/2447 [==============================] - 59s 24ms/step - loss: 0.0744 - Decoder_loss: 0.0627 - Decoder_1_loss: 0.0117 - val_loss: 0.0752 - val_Decoder_loss: 0.0605 - val_Decoder_1_loss: 0.0146\n",
      "Epoch 3/600\n",
      "2447/2447 [==============================] - 60s 24ms/step - loss: 0.0710 - Decoder_loss: 0.0606 - Decoder_1_loss: 0.0104 - val_loss: 0.0735 - val_Decoder_loss: 0.0590 - val_Decoder_1_loss: 0.0145\n",
      "Epoch 4/600\n",
      "2447/2447 [==============================] - 59s 24ms/step - loss: 0.0685 - Decoder_loss: 0.0591 - Decoder_1_loss: 0.0094 - val_loss: 0.0721 - val_Decoder_loss: 0.0577 - val_Decoder_1_loss: 0.0143\n",
      "Epoch 5/600\n",
      "2447/2447 [==============================] - 59s 24ms/step - loss: 0.0666 - Decoder_loss: 0.0581 - Decoder_1_loss: 0.0085 - val_loss: 0.0698 - val_Decoder_loss: 0.0569 - val_Decoder_1_loss: 0.0129\n",
      "Epoch 6/600\n",
      "2447/2447 [==============================] - 59s 24ms/step - loss: 0.0650 - Decoder_loss: 0.0573 - Decoder_1_loss: 0.0077 - val_loss: 0.0699 - val_Decoder_loss: 0.0561 - val_Decoder_1_loss: 0.0138\n",
      "Epoch 7/600\n",
      "2447/2447 [==============================] - 59s 24ms/step - loss: 0.0637 - Decoder_loss: 0.0565 - Decoder_1_loss: 0.0071 - val_loss: 0.0716 - val_Decoder_loss: 0.0555 - val_Decoder_1_loss: 0.0161\n",
      "Epoch 8/600\n",
      "2447/2447 [==============================] - 59s 24ms/step - loss: 0.0625 - Decoder_loss: 0.0559 - Decoder_1_loss: 0.0066 - val_loss: 0.0698 - val_Decoder_loss: 0.0549 - val_Decoder_1_loss: 0.0149\n",
      "Epoch 9/600\n",
      "2447/2447 [==============================] - 59s 24ms/step - loss: 0.0614 - Decoder_loss: 0.0553 - Decoder_1_loss: 0.0062 - val_loss: 0.0680 - val_Decoder_loss: 0.0543 - val_Decoder_1_loss: 0.0138\n",
      "Epoch 10/600\n",
      "2447/2447 [==============================] - 59s 24ms/step - loss: 0.0605 - Decoder_loss: 0.0547 - Decoder_1_loss: 0.0058 - val_loss: 0.0691 - val_Decoder_loss: 0.0537 - val_Decoder_1_loss: 0.0153\n",
      "Epoch 11/600\n",
      "2447/2447 [==============================] - 59s 24ms/step - loss: 0.0596 - Decoder_loss: 0.0541 - Decoder_1_loss: 0.0055 - val_loss: 0.0672 - val_Decoder_loss: 0.0531 - val_Decoder_1_loss: 0.0140\n",
      "Epoch 12/600\n",
      "2447/2447 [==============================] - 58s 24ms/step - loss: 0.0588 - Decoder_loss: 0.0535 - Decoder_1_loss: 0.0053 - val_loss: 0.0669 - val_Decoder_loss: 0.0526 - val_Decoder_1_loss: 0.0143\n",
      "Epoch 13/600\n",
      "2447/2447 [==============================] - 58s 24ms/step - loss: 0.0580 - Decoder_loss: 0.0530 - Decoder_1_loss: 0.0050 - val_loss: 0.0659 - val_Decoder_loss: 0.0521 - val_Decoder_1_loss: 0.0138\n",
      "Epoch 14/600\n",
      "2447/2447 [==============================] - 58s 24ms/step - loss: 0.0573 - Decoder_loss: 0.0525 - Decoder_1_loss: 0.0048 - val_loss: 0.0657 - val_Decoder_loss: 0.0516 - val_Decoder_1_loss: 0.0141\n",
      "Epoch 15/600\n",
      "2447/2447 [==============================] - 58s 24ms/step - loss: 0.0566 - Decoder_loss: 0.0520 - Decoder_1_loss: 0.0046 - val_loss: 0.0643 - val_Decoder_loss: 0.0512 - val_Decoder_1_loss: 0.0132\n",
      "Epoch 16/600\n",
      "2447/2447 [==============================] - 58s 24ms/step - loss: 0.0560 - Decoder_loss: 0.0515 - Decoder_1_loss: 0.0045 - val_loss: 0.0650 - val_Decoder_loss: 0.0507 - val_Decoder_1_loss: 0.0143\n",
      "Epoch 17/600\n",
      "2447/2447 [==============================] - 59s 24ms/step - loss: 0.0554 - Decoder_loss: 0.0511 - Decoder_1_loss: 0.0043 - val_loss: 0.0647 - val_Decoder_loss: 0.0503 - val_Decoder_1_loss: 0.0145\n",
      "Epoch 18/600\n",
      "2447/2447 [==============================] - 58s 24ms/step - loss: 0.0548 - Decoder_loss: 0.0506 - Decoder_1_loss: 0.0042 - val_loss: 0.0635 - val_Decoder_loss: 0.0498 - val_Decoder_1_loss: 0.0136\n",
      "Epoch 19/600\n",
      "2447/2447 [==============================] - 58s 24ms/step - loss: 0.0543 - Decoder_loss: 0.0502 - Decoder_1_loss: 0.0041 - val_loss: 0.0632 - val_Decoder_loss: 0.0494 - val_Decoder_1_loss: 0.0137\n",
      "Epoch 20/600\n",
      "2447/2447 [==============================] - 58s 24ms/step - loss: 0.0538 - Decoder_loss: 0.0498 - Decoder_1_loss: 0.0040 - val_loss: 0.0634 - val_Decoder_loss: 0.0491 - val_Decoder_1_loss: 0.0143\n",
      "Epoch 21/600\n",
      "2447/2447 [==============================] - 59s 24ms/step - loss: 0.0533 - Decoder_loss: 0.0494 - Decoder_1_loss: 0.0039 - val_loss: 0.0626 - val_Decoder_loss: 0.0487 - val_Decoder_1_loss: 0.0139\n",
      "Epoch 22/600\n",
      "2447/2447 [==============================] - 58s 24ms/step - loss: 0.0528 - Decoder_loss: 0.0491 - Decoder_1_loss: 0.0037 - val_loss: 0.0638 - val_Decoder_loss: 0.0484 - val_Decoder_1_loss: 0.0154\n",
      "Epoch 23/600\n",
      "2447/2447 [==============================] - 59s 24ms/step - loss: 0.0524 - Decoder_loss: 0.0487 - Decoder_1_loss: 0.0037 - val_loss: 0.0627 - val_Decoder_loss: 0.0480 - val_Decoder_1_loss: 0.0146\n",
      "Epoch 24/600\n",
      "2447/2447 [==============================] - 59s 24ms/step - loss: 0.0519 - Decoder_loss: 0.0484 - Decoder_1_loss: 0.0036 - val_loss: 0.0631 - val_Decoder_loss: 0.0477 - val_Decoder_1_loss: 0.0154\n",
      "Epoch 25/600\n",
      "2447/2447 [==============================] - 59s 24ms/step - loss: 0.0515 - Decoder_loss: 0.0480 - Decoder_1_loss: 0.0035 - val_loss: 0.0608 - val_Decoder_loss: 0.0474 - val_Decoder_1_loss: 0.0134\n",
      "Epoch 26/600\n",
      "2447/2447 [==============================] - 58s 24ms/step - loss: 0.0511 - Decoder_loss: 0.0477 - Decoder_1_loss: 0.0034 - val_loss: 0.0604 - val_Decoder_loss: 0.0471 - val_Decoder_1_loss: 0.0133\n",
      "Epoch 27/600\n",
      "2447/2447 [==============================] - 58s 24ms/step - loss: 0.0508 - Decoder_loss: 0.0474 - Decoder_1_loss: 0.0033 - val_loss: 0.0632 - val_Decoder_loss: 0.0468 - val_Decoder_1_loss: 0.0164\n",
      "Epoch 28/600\n",
      "2447/2447 [==============================] - 58s 24ms/step - loss: 0.0504 - Decoder_loss: 0.0471 - Decoder_1_loss: 0.0033 - val_loss: 0.0617 - val_Decoder_loss: 0.0465 - val_Decoder_1_loss: 0.0152\n",
      "Epoch 29/600\n",
      "2447/2447 [==============================] - 59s 24ms/step - loss: 0.0500 - Decoder_loss: 0.0468 - Decoder_1_loss: 0.0032 - val_loss: 0.0606 - val_Decoder_loss: 0.0462 - val_Decoder_1_loss: 0.0144\n",
      "Epoch 30/600\n",
      "2447/2447 [==============================] - 58s 24ms/step - loss: 0.0497 - Decoder_loss: 0.0465 - Decoder_1_loss: 0.0032 - val_loss: 0.0611 - val_Decoder_loss: 0.0459 - val_Decoder_1_loss: 0.0152\n",
      "Epoch 31/600\n",
      "2447/2447 [==============================] - 59s 24ms/step - loss: 0.0493 - Decoder_loss: 0.0462 - Decoder_1_loss: 0.0031 - val_loss: 0.0603 - val_Decoder_loss: 0.0456 - val_Decoder_1_loss: 0.0146\n",
      "Epoch 32/600\n",
      "2447/2447 [==============================] - 59s 24ms/step - loss: 0.0489 - Decoder_loss: 0.0459 - Decoder_1_loss: 0.0030 - val_loss: 0.0622 - val_Decoder_loss: 0.0453 - val_Decoder_1_loss: 0.0168\n",
      "Epoch 33/600\n",
      "2447/2447 [==============================] - 58s 24ms/step - loss: 0.0486 - Decoder_loss: 0.0457 - Decoder_1_loss: 0.0030 - val_loss: 0.0579 - val_Decoder_loss: 0.0451 - val_Decoder_1_loss: 0.0128\n",
      "Epoch 34/600\n",
      "2447/2447 [==============================] - 58s 24ms/step - loss: 0.0483 - Decoder_loss: 0.0454 - Decoder_1_loss: 0.0029 - val_loss: 0.0610 - val_Decoder_loss: 0.0448 - val_Decoder_1_loss: 0.0162\n",
      "Epoch 35/600\n",
      "2447/2447 [==============================] - 58s 24ms/step - loss: 0.0480 - Decoder_loss: 0.0451 - Decoder_1_loss: 0.0029 - val_loss: 0.0609 - val_Decoder_loss: 0.0445 - val_Decoder_1_loss: 0.0163\n",
      "Epoch 36/600\n",
      "2447/2447 [==============================] - 58s 24ms/step - loss: 0.0476 - Decoder_loss: 0.0448 - Decoder_1_loss: 0.0028 - val_loss: 0.0593 - val_Decoder_loss: 0.0443 - val_Decoder_1_loss: 0.0150\n",
      "Epoch 37/600\n",
      "2447/2447 [==============================] - 58s 24ms/step - loss: 0.0474 - Decoder_loss: 0.0446 - Decoder_1_loss: 0.0028 - val_loss: 0.0574 - val_Decoder_loss: 0.0440 - val_Decoder_1_loss: 0.0134\n",
      "Epoch 38/600\n",
      "2447/2447 [==============================] - 58s 24ms/step - loss: 0.0470 - Decoder_loss: 0.0443 - Decoder_1_loss: 0.0027 - val_loss: 0.0599 - val_Decoder_loss: 0.0437 - val_Decoder_1_loss: 0.0162\n",
      "Epoch 39/600\n",
      "2447/2447 [==============================] - 58s 24ms/step - loss: 0.0467 - Decoder_loss: 0.0440 - Decoder_1_loss: 0.0027 - val_loss: 0.0601 - val_Decoder_loss: 0.0436 - val_Decoder_1_loss: 0.0165\n",
      "Epoch 40/600\n"
     ]
    },
    {
     "name": "stdout",
     "output_type": "stream",
     "text": [
      "2447/2447 [==============================] - 58s 24ms/step - loss: 0.0464 - Decoder_loss: 0.0438 - Decoder_1_loss: 0.0026 - val_loss: 0.0597 - val_Decoder_loss: 0.0432 - val_Decoder_1_loss: 0.0165\n",
      "Epoch 41/600\n",
      "2447/2447 [==============================] - 58s 24ms/step - loss: 0.0461 - Decoder_loss: 0.0435 - Decoder_1_loss: 0.0026 - val_loss: 0.0576 - val_Decoder_loss: 0.0430 - val_Decoder_1_loss: 0.0146\n",
      "Epoch 42/600\n",
      "2447/2447 [==============================] - 58s 24ms/step - loss: 0.0458 - Decoder_loss: 0.0433 - Decoder_1_loss: 0.0026 - val_loss: 0.0565 - val_Decoder_loss: 0.0427 - val_Decoder_1_loss: 0.0138\n",
      "Epoch 43/600\n",
      "2447/2447 [==============================] - 58s 24ms/step - loss: 0.0455 - Decoder_loss: 0.0430 - Decoder_1_loss: 0.0025 - val_loss: 0.0603 - val_Decoder_loss: 0.0425 - val_Decoder_1_loss: 0.0178\n",
      "Epoch 44/600\n",
      "2447/2447 [==============================] - 58s 24ms/step - loss: 0.0453 - Decoder_loss: 0.0428 - Decoder_1_loss: 0.0025 - val_loss: 0.0571 - val_Decoder_loss: 0.0422 - val_Decoder_1_loss: 0.0148\n",
      "Epoch 45/600\n",
      "2447/2447 [==============================] - 58s 24ms/step - loss: 0.0450 - Decoder_loss: 0.0425 - Decoder_1_loss: 0.0025 - val_loss: 0.0588 - val_Decoder_loss: 0.0420 - val_Decoder_1_loss: 0.0168\n",
      "Epoch 46/600\n",
      "2447/2447 [==============================] - 58s 24ms/step - loss: 0.0447 - Decoder_loss: 0.0423 - Decoder_1_loss: 0.0024 - val_loss: 0.0584 - val_Decoder_loss: 0.0417 - val_Decoder_1_loss: 0.0167\n",
      "Epoch 47/600\n",
      "2447/2447 [==============================] - 58s 24ms/step - loss: 0.0444 - Decoder_loss: 0.0420 - Decoder_1_loss: 0.0024 - val_loss: 0.0580 - val_Decoder_loss: 0.0415 - val_Decoder_1_loss: 0.0165\n",
      "Epoch 48/600\n",
      "2447/2447 [==============================] - 58s 24ms/step - loss: 0.0441 - Decoder_loss: 0.0418 - Decoder_1_loss: 0.0024 - val_loss: 0.0571 - val_Decoder_loss: 0.0413 - val_Decoder_1_loss: 0.0159\n",
      "Epoch 49/600\n",
      "2447/2447 [==============================] - 58s 24ms/step - loss: 0.0439 - Decoder_loss: 0.0415 - Decoder_1_loss: 0.0023 - val_loss: 0.0573 - val_Decoder_loss: 0.0411 - val_Decoder_1_loss: 0.0162\n",
      "Epoch 50/600\n",
      "2447/2447 [==============================] - 58s 24ms/step - loss: 0.0436 - Decoder_loss: 0.0413 - Decoder_1_loss: 0.0023 - val_loss: 0.0558 - val_Decoder_loss: 0.0408 - val_Decoder_1_loss: 0.0150\n",
      "Epoch 51/600\n",
      "2447/2447 [==============================] - 58s 24ms/step - loss: 0.0434 - Decoder_loss: 0.0411 - Decoder_1_loss: 0.0023 - val_loss: 0.0555 - val_Decoder_loss: 0.0406 - val_Decoder_1_loss: 0.0149\n",
      "Epoch 52/600\n",
      "2447/2447 [==============================] - 58s 24ms/step - loss: 0.0431 - Decoder_loss: 0.0409 - Decoder_1_loss: 0.0022 - val_loss: 0.0562 - val_Decoder_loss: 0.0404 - val_Decoder_1_loss: 0.0158\n",
      "Epoch 53/600\n",
      "2447/2447 [==============================] - 58s 24ms/step - loss: 0.0428 - Decoder_loss: 0.0406 - Decoder_1_loss: 0.0022 - val_loss: 0.0560 - val_Decoder_loss: 0.0401 - val_Decoder_1_loss: 0.0159\n",
      "Epoch 54/600\n",
      "2447/2447 [==============================] - 58s 24ms/step - loss: 0.0426 - Decoder_loss: 0.0404 - Decoder_1_loss: 0.0022 - val_loss: 0.0556 - val_Decoder_loss: 0.0399 - val_Decoder_1_loss: 0.0158\n",
      "Epoch 55/600\n",
      "2447/2447 [==============================] - 58s 24ms/step - loss: 0.0424 - Decoder_loss: 0.0402 - Decoder_1_loss: 0.0022 - val_loss: 0.0556 - val_Decoder_loss: 0.0397 - val_Decoder_1_loss: 0.0159\n",
      "Epoch 56/600\n",
      "2447/2447 [==============================] - 58s 24ms/step - loss: 0.0421 - Decoder_loss: 0.0400 - Decoder_1_loss: 0.0021 - val_loss: 0.0584 - val_Decoder_loss: 0.0395 - val_Decoder_1_loss: 0.0189\n",
      "Epoch 57/600\n",
      "2447/2447 [==============================] - 58s 24ms/step - loss: 0.0418 - Decoder_loss: 0.0398 - Decoder_1_loss: 0.0021 - val_loss: 0.0555 - val_Decoder_loss: 0.0393 - val_Decoder_1_loss: 0.0162\n",
      "Epoch 58/600\n",
      "2447/2447 [==============================] - 58s 24ms/step - loss: 0.0416 - Decoder_loss: 0.0395 - Decoder_1_loss: 0.0021 - val_loss: 0.0545 - val_Decoder_loss: 0.0390 - val_Decoder_1_loss: 0.0155\n",
      "Epoch 59/600\n",
      "2447/2447 [==============================] - 58s 24ms/step - loss: 0.0414 - Decoder_loss: 0.0393 - Decoder_1_loss: 0.0021 - val_loss: 0.0541 - val_Decoder_loss: 0.0388 - val_Decoder_1_loss: 0.0152\n",
      "Epoch 60/600\n",
      "2447/2447 [==============================] - 58s 24ms/step - loss: 0.0411 - Decoder_loss: 0.0391 - Decoder_1_loss: 0.0020 - val_loss: 0.0570 - val_Decoder_loss: 0.0386 - val_Decoder_1_loss: 0.0183\n",
      "Epoch 61/600\n",
      "2447/2447 [==============================] - 58s 24ms/step - loss: 0.0409 - Decoder_loss: 0.0389 - Decoder_1_loss: 0.0020 - val_loss: 0.0542 - val_Decoder_loss: 0.0384 - val_Decoder_1_loss: 0.0158\n",
      "Epoch 62/600\n",
      "2447/2447 [==============================] - 58s 24ms/step - loss: 0.0407 - Decoder_loss: 0.0387 - Decoder_1_loss: 0.0020 - val_loss: 0.0541 - val_Decoder_loss: 0.0382 - val_Decoder_1_loss: 0.0159\n",
      "Epoch 63/600\n",
      "2447/2447 [==============================] - 58s 24ms/step - loss: 0.0405 - Decoder_loss: 0.0385 - Decoder_1_loss: 0.0020 - val_loss: 0.0548 - val_Decoder_loss: 0.0381 - val_Decoder_1_loss: 0.0167\n",
      "Epoch 64/600\n",
      "2447/2447 [==============================] - 58s 24ms/step - loss: 0.0402 - Decoder_loss: 0.0383 - Decoder_1_loss: 0.0019 - val_loss: 0.0577 - val_Decoder_loss: 0.0378 - val_Decoder_1_loss: 0.0199\n",
      "Epoch 65/600\n",
      "2447/2447 [==============================] - 58s 24ms/step - loss: 0.0400 - Decoder_loss: 0.0381 - Decoder_1_loss: 0.0019 - val_loss: 0.0530 - val_Decoder_loss: 0.0376 - val_Decoder_1_loss: 0.0154\n",
      "Epoch 66/600\n",
      "2447/2447 [==============================] - 58s 24ms/step - loss: 0.0398 - Decoder_loss: 0.0379 - Decoder_1_loss: 0.0019 - val_loss: 0.0547 - val_Decoder_loss: 0.0375 - val_Decoder_1_loss: 0.0172\n",
      "Epoch 67/600\n",
      "2447/2447 [==============================] - 59s 24ms/step - loss: 0.0396 - Decoder_loss: 0.0377 - Decoder_1_loss: 0.0019 - val_loss: 0.0542 - val_Decoder_loss: 0.0372 - val_Decoder_1_loss: 0.0170\n",
      "Epoch 68/600\n",
      "2447/2447 [==============================] - 59s 24ms/step - loss: 0.0393 - Decoder_loss: 0.0375 - Decoder_1_loss: 0.0019 - val_loss: 0.0531 - val_Decoder_loss: 0.0370 - val_Decoder_1_loss: 0.0160\n",
      "Epoch 69/600\n",
      "2447/2447 [==============================] - 59s 24ms/step - loss: 0.0391 - Decoder_loss: 0.0373 - Decoder_1_loss: 0.0018 - val_loss: 0.0539 - val_Decoder_loss: 0.0369 - val_Decoder_1_loss: 0.0170\n",
      "Epoch 70/600\n",
      "2447/2447 [==============================] - 59s 24ms/step - loss: 0.0389 - Decoder_loss: 0.0371 - Decoder_1_loss: 0.0018 - val_loss: 0.0540 - val_Decoder_loss: 0.0367 - val_Decoder_1_loss: 0.0174\n",
      "Epoch 71/600\n",
      "2447/2447 [==============================] - 59s 24ms/step - loss: 0.0387 - Decoder_loss: 0.0369 - Decoder_1_loss: 0.0018 - val_loss: 0.0522 - val_Decoder_loss: 0.0364 - val_Decoder_1_loss: 0.0158\n",
      "Epoch 72/600\n",
      "2447/2447 [==============================] - 59s 24ms/step - loss: 0.0385 - Decoder_loss: 0.0367 - Decoder_1_loss: 0.0018 - val_loss: 0.0524 - val_Decoder_loss: 0.0362 - val_Decoder_1_loss: 0.0162\n",
      "Epoch 73/600\n",
      "2447/2447 [==============================] - 59s 24ms/step - loss: 0.0383 - Decoder_loss: 0.0365 - Decoder_1_loss: 0.0018 - val_loss: 0.0539 - val_Decoder_loss: 0.0360 - val_Decoder_1_loss: 0.0179\n",
      "Epoch 74/600\n",
      "2447/2447 [==============================] - 59s 24ms/step - loss: 0.0381 - Decoder_loss: 0.0363 - Decoder_1_loss: 0.0018 - val_loss: 0.0507 - val_Decoder_loss: 0.0359 - val_Decoder_1_loss: 0.0148\n",
      "Epoch 75/600\n",
      "2447/2447 [==============================] - 59s 24ms/step - loss: 0.0379 - Decoder_loss: 0.0361 - Decoder_1_loss: 0.0018 - val_loss: 0.0521 - val_Decoder_loss: 0.0357 - val_Decoder_1_loss: 0.0164\n",
      "Epoch 76/600\n",
      "2447/2447 [==============================] - 59s 24ms/step - loss: 0.0377 - Decoder_loss: 0.0359 - Decoder_1_loss: 0.0017 - val_loss: 0.0546 - val_Decoder_loss: 0.0355 - val_Decoder_1_loss: 0.0191\n",
      "Epoch 77/600\n",
      "2447/2447 [==============================] - 59s 24ms/step - loss: 0.0374 - Decoder_loss: 0.0357 - Decoder_1_loss: 0.0017 - val_loss: 0.0526 - val_Decoder_loss: 0.0353 - val_Decoder_1_loss: 0.0173\n",
      "Epoch 78/600\n",
      "2447/2447 [==============================] - 59s 24ms/step - loss: 0.0372 - Decoder_loss: 0.0355 - Decoder_1_loss: 0.0017 - val_loss: 0.0528 - val_Decoder_loss: 0.0351 - val_Decoder_1_loss: 0.0177\n",
      "Epoch 79/600\n",
      "2447/2447 [==============================] - 59s 24ms/step - loss: 0.0371 - Decoder_loss: 0.0354 - Decoder_1_loss: 0.0017 - val_loss: 0.0526 - val_Decoder_loss: 0.0349 - val_Decoder_1_loss: 0.0177\n",
      "Epoch 80/600\n",
      "2447/2447 [==============================] - 59s 24ms/step - loss: 0.0368 - Decoder_loss: 0.0352 - Decoder_1_loss: 0.0017 - val_loss: 0.0534 - val_Decoder_loss: 0.0347 - val_Decoder_1_loss: 0.0186\n",
      "Epoch 81/600\n",
      "2447/2447 [==============================] - 60s 24ms/step - loss: 0.0366 - Decoder_loss: 0.0350 - Decoder_1_loss: 0.0017 - val_loss: 0.0521 - val_Decoder_loss: 0.0345 - val_Decoder_1_loss: 0.0175\n",
      "Epoch 82/600\n",
      " 231/2447 [=>............................] - ETA: 48s - loss: 0.0364 - Decoder_loss: 0.0348 - Decoder_1_loss: 0.0016"
     ]
    },
    {
     "ename": "KeyboardInterrupt",
     "evalue": "",
     "output_type": "error",
     "traceback": [
      "\u001b[1;31m---------------------------------------------------------------------------\u001b[0m",
      "\u001b[1;31mKeyboardInterrupt\u001b[0m                         Traceback (most recent call last)",
      "File \u001b[1;32m<timed exec>:2\u001b[0m\n",
      "File \u001b[1;32m~\\anaconda3\\envs\\tf\\lib\\site-packages\\keras\\utils\\traceback_utils.py:65\u001b[0m, in \u001b[0;36mfilter_traceback.<locals>.error_handler\u001b[1;34m(*args, **kwargs)\u001b[0m\n\u001b[0;32m     63\u001b[0m filtered_tb \u001b[38;5;241m=\u001b[39m \u001b[38;5;28;01mNone\u001b[39;00m\n\u001b[0;32m     64\u001b[0m \u001b[38;5;28;01mtry\u001b[39;00m:\n\u001b[1;32m---> 65\u001b[0m     \u001b[38;5;28;01mreturn\u001b[39;00m fn(\u001b[38;5;241m*\u001b[39margs, \u001b[38;5;241m*\u001b[39m\u001b[38;5;241m*\u001b[39mkwargs)\n\u001b[0;32m     66\u001b[0m \u001b[38;5;28;01mexcept\u001b[39;00m \u001b[38;5;167;01mException\u001b[39;00m \u001b[38;5;28;01mas\u001b[39;00m e:\n\u001b[0;32m     67\u001b[0m     filtered_tb \u001b[38;5;241m=\u001b[39m _process_traceback_frames(e\u001b[38;5;241m.\u001b[39m__traceback__)\n",
      "File \u001b[1;32m~\\anaconda3\\envs\\tf\\lib\\site-packages\\keras\\engine\\training.py:1564\u001b[0m, in \u001b[0;36mModel.fit\u001b[1;34m(self, x, y, batch_size, epochs, verbose, callbacks, validation_split, validation_data, shuffle, class_weight, sample_weight, initial_epoch, steps_per_epoch, validation_steps, validation_batch_size, validation_freq, max_queue_size, workers, use_multiprocessing)\u001b[0m\n\u001b[0;32m   1556\u001b[0m \u001b[38;5;28;01mwith\u001b[39;00m tf\u001b[38;5;241m.\u001b[39mprofiler\u001b[38;5;241m.\u001b[39mexperimental\u001b[38;5;241m.\u001b[39mTrace(\n\u001b[0;32m   1557\u001b[0m     \u001b[38;5;124m\"\u001b[39m\u001b[38;5;124mtrain\u001b[39m\u001b[38;5;124m\"\u001b[39m,\n\u001b[0;32m   1558\u001b[0m     epoch_num\u001b[38;5;241m=\u001b[39mepoch,\n\u001b[1;32m   (...)\u001b[0m\n\u001b[0;32m   1561\u001b[0m     _r\u001b[38;5;241m=\u001b[39m\u001b[38;5;241m1\u001b[39m,\n\u001b[0;32m   1562\u001b[0m ):\n\u001b[0;32m   1563\u001b[0m     callbacks\u001b[38;5;241m.\u001b[39mon_train_batch_begin(step)\n\u001b[1;32m-> 1564\u001b[0m     tmp_logs \u001b[38;5;241m=\u001b[39m \u001b[38;5;28;43mself\u001b[39;49m\u001b[38;5;241;43m.\u001b[39;49m\u001b[43mtrain_function\u001b[49m\u001b[43m(\u001b[49m\u001b[43miterator\u001b[49m\u001b[43m)\u001b[49m\n\u001b[0;32m   1565\u001b[0m     \u001b[38;5;28;01mif\u001b[39;00m data_handler\u001b[38;5;241m.\u001b[39mshould_sync:\n\u001b[0;32m   1566\u001b[0m         context\u001b[38;5;241m.\u001b[39masync_wait()\n",
      "File \u001b[1;32m~\\anaconda3\\envs\\tf\\lib\\site-packages\\tensorflow\\python\\util\\traceback_utils.py:150\u001b[0m, in \u001b[0;36mfilter_traceback.<locals>.error_handler\u001b[1;34m(*args, **kwargs)\u001b[0m\n\u001b[0;32m    148\u001b[0m filtered_tb \u001b[38;5;241m=\u001b[39m \u001b[38;5;28;01mNone\u001b[39;00m\n\u001b[0;32m    149\u001b[0m \u001b[38;5;28;01mtry\u001b[39;00m:\n\u001b[1;32m--> 150\u001b[0m   \u001b[38;5;28;01mreturn\u001b[39;00m fn(\u001b[38;5;241m*\u001b[39margs, \u001b[38;5;241m*\u001b[39m\u001b[38;5;241m*\u001b[39mkwargs)\n\u001b[0;32m    151\u001b[0m \u001b[38;5;28;01mexcept\u001b[39;00m \u001b[38;5;167;01mException\u001b[39;00m \u001b[38;5;28;01mas\u001b[39;00m e:\n\u001b[0;32m    152\u001b[0m   filtered_tb \u001b[38;5;241m=\u001b[39m _process_traceback_frames(e\u001b[38;5;241m.\u001b[39m__traceback__)\n",
      "File \u001b[1;32m~\\anaconda3\\envs\\tf\\lib\\site-packages\\tensorflow\\python\\eager\\def_function.py:915\u001b[0m, in \u001b[0;36mFunction.__call__\u001b[1;34m(self, *args, **kwds)\u001b[0m\n\u001b[0;32m    912\u001b[0m compiler \u001b[38;5;241m=\u001b[39m \u001b[38;5;124m\"\u001b[39m\u001b[38;5;124mxla\u001b[39m\u001b[38;5;124m\"\u001b[39m \u001b[38;5;28;01mif\u001b[39;00m \u001b[38;5;28mself\u001b[39m\u001b[38;5;241m.\u001b[39m_jit_compile \u001b[38;5;28;01melse\u001b[39;00m \u001b[38;5;124m\"\u001b[39m\u001b[38;5;124mnonXla\u001b[39m\u001b[38;5;124m\"\u001b[39m\n\u001b[0;32m    914\u001b[0m \u001b[38;5;28;01mwith\u001b[39;00m OptionalXlaContext(\u001b[38;5;28mself\u001b[39m\u001b[38;5;241m.\u001b[39m_jit_compile):\n\u001b[1;32m--> 915\u001b[0m   result \u001b[38;5;241m=\u001b[39m \u001b[38;5;28mself\u001b[39m\u001b[38;5;241m.\u001b[39m_call(\u001b[38;5;241m*\u001b[39margs, \u001b[38;5;241m*\u001b[39m\u001b[38;5;241m*\u001b[39mkwds)\n\u001b[0;32m    917\u001b[0m new_tracing_count \u001b[38;5;241m=\u001b[39m \u001b[38;5;28mself\u001b[39m\u001b[38;5;241m.\u001b[39mexperimental_get_tracing_count()\n\u001b[0;32m    918\u001b[0m without_tracing \u001b[38;5;241m=\u001b[39m (tracing_count \u001b[38;5;241m==\u001b[39m new_tracing_count)\n",
      "File \u001b[1;32m~\\anaconda3\\envs\\tf\\lib\\site-packages\\tensorflow\\python\\eager\\def_function.py:947\u001b[0m, in \u001b[0;36mFunction._call\u001b[1;34m(self, *args, **kwds)\u001b[0m\n\u001b[0;32m    944\u001b[0m   \u001b[38;5;28mself\u001b[39m\u001b[38;5;241m.\u001b[39m_lock\u001b[38;5;241m.\u001b[39mrelease()\n\u001b[0;32m    945\u001b[0m   \u001b[38;5;66;03m# In this case we have created variables on the first call, so we run the\u001b[39;00m\n\u001b[0;32m    946\u001b[0m   \u001b[38;5;66;03m# defunned version which is guaranteed to never create variables.\u001b[39;00m\n\u001b[1;32m--> 947\u001b[0m   \u001b[38;5;28;01mreturn\u001b[39;00m \u001b[38;5;28mself\u001b[39m\u001b[38;5;241m.\u001b[39m_stateless_fn(\u001b[38;5;241m*\u001b[39margs, \u001b[38;5;241m*\u001b[39m\u001b[38;5;241m*\u001b[39mkwds)  \u001b[38;5;66;03m# pylint: disable=not-callable\u001b[39;00m\n\u001b[0;32m    948\u001b[0m \u001b[38;5;28;01melif\u001b[39;00m \u001b[38;5;28mself\u001b[39m\u001b[38;5;241m.\u001b[39m_stateful_fn \u001b[38;5;129;01mis\u001b[39;00m \u001b[38;5;129;01mnot\u001b[39;00m \u001b[38;5;28;01mNone\u001b[39;00m:\n\u001b[0;32m    949\u001b[0m   \u001b[38;5;66;03m# Release the lock early so that multiple threads can perform the call\u001b[39;00m\n\u001b[0;32m    950\u001b[0m   \u001b[38;5;66;03m# in parallel.\u001b[39;00m\n\u001b[0;32m    951\u001b[0m   \u001b[38;5;28mself\u001b[39m\u001b[38;5;241m.\u001b[39m_lock\u001b[38;5;241m.\u001b[39mrelease()\n",
      "File \u001b[1;32m~\\anaconda3\\envs\\tf\\lib\\site-packages\\tensorflow\\python\\eager\\function.py:2496\u001b[0m, in \u001b[0;36mFunction.__call__\u001b[1;34m(self, *args, **kwargs)\u001b[0m\n\u001b[0;32m   2493\u001b[0m \u001b[38;5;28;01mwith\u001b[39;00m \u001b[38;5;28mself\u001b[39m\u001b[38;5;241m.\u001b[39m_lock:\n\u001b[0;32m   2494\u001b[0m   (graph_function,\n\u001b[0;32m   2495\u001b[0m    filtered_flat_args) \u001b[38;5;241m=\u001b[39m \u001b[38;5;28mself\u001b[39m\u001b[38;5;241m.\u001b[39m_maybe_define_function(args, kwargs)\n\u001b[1;32m-> 2496\u001b[0m \u001b[38;5;28;01mreturn\u001b[39;00m \u001b[43mgraph_function\u001b[49m\u001b[38;5;241;43m.\u001b[39;49m\u001b[43m_call_flat\u001b[49m\u001b[43m(\u001b[49m\n\u001b[0;32m   2497\u001b[0m \u001b[43m    \u001b[49m\u001b[43mfiltered_flat_args\u001b[49m\u001b[43m,\u001b[49m\u001b[43m \u001b[49m\u001b[43mcaptured_inputs\u001b[49m\u001b[38;5;241;43m=\u001b[39;49m\u001b[43mgraph_function\u001b[49m\u001b[38;5;241;43m.\u001b[39;49m\u001b[43mcaptured_inputs\u001b[49m\u001b[43m)\u001b[49m\n",
      "File \u001b[1;32m~\\anaconda3\\envs\\tf\\lib\\site-packages\\tensorflow\\python\\eager\\function.py:1862\u001b[0m, in \u001b[0;36mConcreteFunction._call_flat\u001b[1;34m(self, args, captured_inputs, cancellation_manager)\u001b[0m\n\u001b[0;32m   1858\u001b[0m possible_gradient_type \u001b[38;5;241m=\u001b[39m gradients_util\u001b[38;5;241m.\u001b[39mPossibleTapeGradientTypes(args)\n\u001b[0;32m   1859\u001b[0m \u001b[38;5;28;01mif\u001b[39;00m (possible_gradient_type \u001b[38;5;241m==\u001b[39m gradients_util\u001b[38;5;241m.\u001b[39mPOSSIBLE_GRADIENT_TYPES_NONE\n\u001b[0;32m   1860\u001b[0m     \u001b[38;5;129;01mand\u001b[39;00m executing_eagerly):\n\u001b[0;32m   1861\u001b[0m   \u001b[38;5;66;03m# No tape is watching; skip to running the function.\u001b[39;00m\n\u001b[1;32m-> 1862\u001b[0m   \u001b[38;5;28;01mreturn\u001b[39;00m \u001b[38;5;28mself\u001b[39m\u001b[38;5;241m.\u001b[39m_build_call_outputs(\u001b[38;5;28;43mself\u001b[39;49m\u001b[38;5;241;43m.\u001b[39;49m\u001b[43m_inference_function\u001b[49m\u001b[38;5;241;43m.\u001b[39;49m\u001b[43mcall\u001b[49m\u001b[43m(\u001b[49m\n\u001b[0;32m   1863\u001b[0m \u001b[43m      \u001b[49m\u001b[43mctx\u001b[49m\u001b[43m,\u001b[49m\u001b[43m \u001b[49m\u001b[43margs\u001b[49m\u001b[43m,\u001b[49m\u001b[43m \u001b[49m\u001b[43mcancellation_manager\u001b[49m\u001b[38;5;241;43m=\u001b[39;49m\u001b[43mcancellation_manager\u001b[49m\u001b[43m)\u001b[49m)\n\u001b[0;32m   1864\u001b[0m forward_backward \u001b[38;5;241m=\u001b[39m \u001b[38;5;28mself\u001b[39m\u001b[38;5;241m.\u001b[39m_select_forward_and_backward_functions(\n\u001b[0;32m   1865\u001b[0m     args,\n\u001b[0;32m   1866\u001b[0m     possible_gradient_type,\n\u001b[0;32m   1867\u001b[0m     executing_eagerly)\n\u001b[0;32m   1868\u001b[0m forward_function, args_with_tangents \u001b[38;5;241m=\u001b[39m forward_backward\u001b[38;5;241m.\u001b[39mforward()\n",
      "File \u001b[1;32m~\\anaconda3\\envs\\tf\\lib\\site-packages\\tensorflow\\python\\eager\\function.py:499\u001b[0m, in \u001b[0;36m_EagerDefinedFunction.call\u001b[1;34m(self, ctx, args, cancellation_manager)\u001b[0m\n\u001b[0;32m    497\u001b[0m \u001b[38;5;28;01mwith\u001b[39;00m _InterpolateFunctionError(\u001b[38;5;28mself\u001b[39m):\n\u001b[0;32m    498\u001b[0m   \u001b[38;5;28;01mif\u001b[39;00m cancellation_manager \u001b[38;5;129;01mis\u001b[39;00m \u001b[38;5;28;01mNone\u001b[39;00m:\n\u001b[1;32m--> 499\u001b[0m     outputs \u001b[38;5;241m=\u001b[39m \u001b[43mexecute\u001b[49m\u001b[38;5;241;43m.\u001b[39;49m\u001b[43mexecute\u001b[49m\u001b[43m(\u001b[49m\n\u001b[0;32m    500\u001b[0m \u001b[43m        \u001b[49m\u001b[38;5;28;43mstr\u001b[39;49m\u001b[43m(\u001b[49m\u001b[38;5;28;43mself\u001b[39;49m\u001b[38;5;241;43m.\u001b[39;49m\u001b[43msignature\u001b[49m\u001b[38;5;241;43m.\u001b[39;49m\u001b[43mname\u001b[49m\u001b[43m)\u001b[49m\u001b[43m,\u001b[49m\n\u001b[0;32m    501\u001b[0m \u001b[43m        \u001b[49m\u001b[43mnum_outputs\u001b[49m\u001b[38;5;241;43m=\u001b[39;49m\u001b[38;5;28;43mself\u001b[39;49m\u001b[38;5;241;43m.\u001b[39;49m\u001b[43m_num_outputs\u001b[49m\u001b[43m,\u001b[49m\n\u001b[0;32m    502\u001b[0m \u001b[43m        \u001b[49m\u001b[43minputs\u001b[49m\u001b[38;5;241;43m=\u001b[39;49m\u001b[43margs\u001b[49m\u001b[43m,\u001b[49m\n\u001b[0;32m    503\u001b[0m \u001b[43m        \u001b[49m\u001b[43mattrs\u001b[49m\u001b[38;5;241;43m=\u001b[39;49m\u001b[43mattrs\u001b[49m\u001b[43m,\u001b[49m\n\u001b[0;32m    504\u001b[0m \u001b[43m        \u001b[49m\u001b[43mctx\u001b[49m\u001b[38;5;241;43m=\u001b[39;49m\u001b[43mctx\u001b[49m\u001b[43m)\u001b[49m\n\u001b[0;32m    505\u001b[0m   \u001b[38;5;28;01melse\u001b[39;00m:\n\u001b[0;32m    506\u001b[0m     outputs \u001b[38;5;241m=\u001b[39m execute\u001b[38;5;241m.\u001b[39mexecute_with_cancellation(\n\u001b[0;32m    507\u001b[0m         \u001b[38;5;28mstr\u001b[39m(\u001b[38;5;28mself\u001b[39m\u001b[38;5;241m.\u001b[39msignature\u001b[38;5;241m.\u001b[39mname),\n\u001b[0;32m    508\u001b[0m         num_outputs\u001b[38;5;241m=\u001b[39m\u001b[38;5;28mself\u001b[39m\u001b[38;5;241m.\u001b[39m_num_outputs,\n\u001b[1;32m   (...)\u001b[0m\n\u001b[0;32m    511\u001b[0m         ctx\u001b[38;5;241m=\u001b[39mctx,\n\u001b[0;32m    512\u001b[0m         cancellation_manager\u001b[38;5;241m=\u001b[39mcancellation_manager)\n",
      "File \u001b[1;32m~\\anaconda3\\envs\\tf\\lib\\site-packages\\tensorflow\\python\\eager\\execute.py:54\u001b[0m, in \u001b[0;36mquick_execute\u001b[1;34m(op_name, num_outputs, inputs, attrs, ctx, name)\u001b[0m\n\u001b[0;32m     52\u001b[0m \u001b[38;5;28;01mtry\u001b[39;00m:\n\u001b[0;32m     53\u001b[0m   ctx\u001b[38;5;241m.\u001b[39mensure_initialized()\n\u001b[1;32m---> 54\u001b[0m   tensors \u001b[38;5;241m=\u001b[39m \u001b[43mpywrap_tfe\u001b[49m\u001b[38;5;241;43m.\u001b[39;49m\u001b[43mTFE_Py_Execute\u001b[49m\u001b[43m(\u001b[49m\u001b[43mctx\u001b[49m\u001b[38;5;241;43m.\u001b[39;49m\u001b[43m_handle\u001b[49m\u001b[43m,\u001b[49m\u001b[43m \u001b[49m\u001b[43mdevice_name\u001b[49m\u001b[43m,\u001b[49m\u001b[43m \u001b[49m\u001b[43mop_name\u001b[49m\u001b[43m,\u001b[49m\n\u001b[0;32m     55\u001b[0m \u001b[43m                                      \u001b[49m\u001b[43minputs\u001b[49m\u001b[43m,\u001b[49m\u001b[43m \u001b[49m\u001b[43mattrs\u001b[49m\u001b[43m,\u001b[49m\u001b[43m \u001b[49m\u001b[43mnum_outputs\u001b[49m\u001b[43m)\u001b[49m\n\u001b[0;32m     56\u001b[0m \u001b[38;5;28;01mexcept\u001b[39;00m core\u001b[38;5;241m.\u001b[39m_NotOkStatusException \u001b[38;5;28;01mas\u001b[39;00m e:\n\u001b[0;32m     57\u001b[0m   \u001b[38;5;28;01mif\u001b[39;00m name \u001b[38;5;129;01mis\u001b[39;00m \u001b[38;5;129;01mnot\u001b[39;00m \u001b[38;5;28;01mNone\u001b[39;00m:\n",
      "\u001b[1;31mKeyboardInterrupt\u001b[0m: "
     ]
    }
   ],
   "source": [
    "%%time\n",
    "\n",
    "#with tf.device('/GPU'):\n",
    "history = model.fit(X_smiles_train, [X_smiles_train, y_train],  validation_data = (X_smiles_test, [X_smiles_test, y_test]),\n",
    "                    epochs=600,\n",
    "                    batch_size=64,\n",
    "                    verbose=1)\n",
    "\n",
    "\n",
    "model.save  ('ae_model.h5')\n",
    "encoder.save('encoder.h5')\n",
    "decoder.save('decoder.h5')\n",
    "\n",
    "tf.compat.v1.keras.backend.clear_session()"
   ]
  },
  {
   "cell_type": "code",
   "execution_count": null,
   "id": "94f4badf",
   "metadata": {
    "scrolled": false
   },
   "outputs": [],
   "source": [
    "print(history.history.keys())\n",
    "# summarize history for loss\n",
    "plt.close()\n",
    "plt.plot(history.history['loss'])\n",
    "plt.plot(history.history['val_loss'])\n",
    "plt.legend(['Train', 'Validation'], loc='upper right')\n",
    "plt.title('Autoencoder loss')\n",
    "plt.ylabel('loss')\n",
    "plt.xlabel('epoch')\n",
    "plt.tight_layout()\n",
    "plt.savefig('aeloss.jpeg', dpi=400)\n",
    "\n",
    "# get i and i+2 to have (2,9,10,1) shape\n",
    "# if only i was chosen, the should be (9,10,1)\n",
    "output = decoder.predict(encoder.predict([X_smiles_train[0:2][:][:][:]])[2])[0][0]\n",
    "output = argmax (output, axis=1)\n",
    "output = to_categorical (output, num_classes = 19)\n",
    "print (SMILES_train[0])\n",
    "print (output.shape)\n",
    "print ('output of decoder', output)\n",
    "print (y_train[0])\n",
    "print (SMILES_test.shape)\n",
    "with open ('aeloss.csv', 'w') as f:\n",
    "    for key in history.history.keys():\n",
    "        f.write(\"%s,%s\\n\"%(key,history.history[key]))"
   ]
  },
  {
   "cell_type": "code",
   "execution_count": null,
   "id": "a3417b0d",
   "metadata": {},
   "outputs": [],
   "source": [
    "tf.compat.v1.keras.backend.clear_session()"
   ]
  },
  {
   "cell_type": "code",
   "execution_count": null,
   "id": "2872d2b0",
   "metadata": {},
   "outputs": [],
   "source": [
    "print(X_smiles_test[200].shape)\n",
    "plt.imshow(X_smiles_test[200].reshape([50, 35]), )\n",
    "plt.title(SMILES_test[200], fontfamily='Arial', fontsize=15, fontweight='bold', pad=30)\n",
    "plt.xlabel('Char in SMILES (27)', fontfamily='Arial', fontsize=15, fontweight='bold'), \n",
    "plt.ylabel('Length of SMILES string', fontfamily='Arial', fontsize=15, fontweight='bold')\n",
    "plt.xticks((0, 10, 20, 26), size=15)\n",
    "plt.yticks((0, 10, 20, 30, 39), size=15)\n",
    "plt.tight_layout()\n",
    "plt.tight_layout()\n",
    "plt.savefig('sample_smiles_{}'.format(SMILES_test[200]), dpi=500)\n",
    "print (y_test0[200])"
   ]
  },
  {
   "cell_type": "code",
   "execution_count": null,
   "id": "ee795f54",
   "metadata": {},
   "outputs": [],
   "source": [
    "for i in [5, 10, 32, 88, 99]:\n",
    "    plt.subplot(121)\n",
    "    plt.imshow(X_smiles_test[i].reshape([50, 35]))\n",
    "    test_sample_pred = decoder.predict(encoder.predict([X_smiles_test[i:(i+2)]], verbose=0)[2], verbose=0)[0][0]\n",
    "    plt.subplot(122)\n",
    "    plt.imshow(test_sample_pred.reshape([50, 35]))\n",
    "    plt.xlabel('Char in SMILES (27)', fontfamily='Arial', fontsize=15, fontweight='bold'), \n",
    "    plt.ylabel('Length of SMILES string', fontfamily='Arial', fontsize=15, fontweight='bold')\n",
    "    plt.xticks((0, 10, 20, 26), size=15)\n",
    "    plt.yticks((0, 10, 20, 30, 39), size=15)\n",
    "    plt.tight_layout()\n",
    "    plt.savefig(\"smiles_{}_test.png\".format(i), dpi=500)\n",
    "    print (i, SMILES_test[i])"
   ]
  },
  {
   "cell_type": "code",
   "execution_count": null,
   "id": "1e89a09a",
   "metadata": {},
   "outputs": [],
   "source": [
    "for i in [50, 100, 320, 880, 990]:\n",
    "    plt.subplot(121)\n",
    "    plt.imshow(X_smiles_test[i].reshape([50, 35]))\n",
    "    test_sample_pred = decoder.predict(encoder.predict([X_smiles_test[i:(i+2)]], verbose=0)[2], verbose=0)[0][0]\n",
    "    plt.subplot(122)\n",
    "    plt.imshow(test_sample_pred.reshape([50, 35]))\n",
    "    plt.tight_layout()\n",
    "    plt.savefig(\"smiles_{}_test.png\".format(i), dpi=500)\n",
    "    print (i, SMILES_test[i])"
   ]
  },
  {
   "cell_type": "code",
   "execution_count": null,
   "id": "7e73b21a",
   "metadata": {},
   "outputs": [],
   "source": [
    "# Evaluation: test data\n",
    "# 0.8113100848256362 valid and true\n",
    "# 0.8619792648444863  valid\n",
    "encoder_latent_test = encoder.predict(X_smiles_test, verbose=0)[2]\n",
    "decoder_smiles_test = decoder.predict(encoder_latent_test, verbose=0)[0]\n",
    "\n",
    "dec_SMILES_test = []\n",
    "for softmax_smiles in decoder_smiles_test:\n",
    "    argmax_smiles = np.argmax(softmax_smiles, axis = 1).reshape([-1])\n",
    "    #print (argmax_smiles)\n",
    "    smiles = to_categorical(argmax_smiles, num_classes=27)\n",
    "    SHAPE = [1] + list(smiles.shape) + [1]\n",
    "    smiles = smiles.reshape(SHAPE)\n",
    "    c_smiles = ''\n",
    "    for s in argmax_smiles:\n",
    "        c_smiles += tokenizer[s]\n",
    "        c_smiles = c_smiles.rstrip()\n",
    "    dec_SMILES_test.append(c_smiles)\n",
    "    \n",
    "test_true_conv = sum (SMILES_test == dec_SMILES_test)/len(SMILES_test)\n",
    "print (test_true_conv)\n",
    "\n",
    "idxs_test = []\n",
    "valid_test = 0\n",
    "\n",
    "for count, smile in enumerate(dec_SMILES_test):\n",
    "    m = Chem.MolFromSmiles(smile[:-1], sanitize=True)\n",
    "    if m is not None:\n",
    "        valid_test += 1\n",
    "        idxs_test.append(count)\n",
    "\n",
    "test_valid_conv = valid_test/len(SMILES_test)\n",
    "print (test_valid_conv)"
   ]
  },
  {
   "cell_type": "code",
   "execution_count": null,
   "id": "0a94efa1",
   "metadata": {},
   "outputs": [],
   "source": [
    "# Evaluation: train data\n",
    "# 0.8113100848256362 valid and true\n",
    "# 0.8619792648444863  valid\n",
    "encoder_latent_train = encoder.predict(X_smiles_train, verbose=0)[2]\n",
    "decoder_smiles_train = decoder.predict(encoder_latent_train, verbose=0)[0]\n",
    "\n",
    "dec_SMILES_train = []\n",
    "for softmax_smiles in decoder_smiles_train:\n",
    "    argmax_smiles = np.argmax(softmax_smiles, axis = 1).reshape([-1])\n",
    "    #print (argmax_smiles)\n",
    "    smiles = to_categorical(argmax_smiles, num_classes=27)\n",
    "    SHAPE = [1] + list(smiles.shape) + [1]\n",
    "    smiles = smiles.reshape(SHAPE)\n",
    "    c_smiles = ''\n",
    "    for s in argmax_smiles:\n",
    "        c_smiles += tokenizer[s]\n",
    "        c_smiles = c_smiles.rstrip()\n",
    "    dec_SMILES_train.append(c_smiles)\n",
    "    \n",
    "train_true_conv = sum (SMILES_train == dec_SMILES_train)/len(SMILES_train)\n",
    "print (train_true_conv)\n",
    "\n",
    "idxs_train = []\n",
    "valid_train = 0\n",
    "\n",
    "for count, smile in enumerate(dec_SMILES_train):\n",
    "    m = Chem.MolFromSmiles(smile[:-1], sanitize=True)\n",
    "    if m is not None:\n",
    "        valid_train += 1\n",
    "        idxs_train.append(count)\n",
    "\n",
    "train_valid_conv = valid_train/len(SMILES_train)\n",
    "print (train_valid_conv)"
   ]
  },
  {
   "cell_type": "code",
   "execution_count": null,
   "id": "b0fa1840",
   "metadata": {
    "scrolled": true
   },
   "outputs": [],
   "source": [
    "# all data evaluation\n",
    "# 77.574 valid \n",
    "# 71.1124 valid and accurate\n",
    "valid_conv = (4*train_valid_conv + test_valid_conv)/5\n",
    "print ('Valid conversion: ', valid_conv)\n",
    "\n",
    "true_conv = (4*train_true_conv + test_true_conv)/5\n",
    "print ('Valid and True conversion: ', true_conv)"
   ]
  },
  {
   "cell_type": "code",
   "execution_count": null,
   "id": "65ff1cb7",
   "metadata": {},
   "outputs": [],
   "source": [
    "def diff_letters(a,b):\n",
    "    return sum ( a[i] != b[i] for i in range(len(a)) )\n",
    "# Evaluation: test data\n",
    "# 98.01629884592023 categorical accuracy\n",
    "encoder_latent_test = encoder.predict(X_smiles_test, verbose=0)[2]\n",
    "decoder_smiles_test = decoder.predict(encoder_latent_test, verbose=0)[0]\n",
    "\n",
    "dec_SMILES_test = []\n",
    "for softmax_smiles in decoder_smiles_test:\n",
    "    argmax_smiles = np.argmax(softmax_smiles, axis = 1).reshape([-1])\n",
    "    #print (argmax_smiles)\n",
    "    smiles = to_categorical(argmax_smiles, num_classes=27)\n",
    "    SHAPE = [1] + list(smiles.shape) + [1]\n",
    "    smiles = smiles.reshape(SHAPE)\n",
    "    c_smiles = ''\n",
    "    for s in argmax_smiles:\n",
    "        c_smiles += tokenizer[s]\n",
    "        c_smiles = c_smiles.rstrip()\n",
    "    dec_SMILES_test.append(c_smiles)\n",
    "\n",
    "wrong_char = 0\n",
    "total_char = 0\n",
    "for i, j in zip(dec_SMILES_test, SMILES_test):\n",
    "    try:\n",
    "        wrong_char = wrong_char + diff_letters(i, j)\n",
    "    except:\n",
    "        print(i, j)\n",
    "    total_char = total_char + len(i) \n",
    "print (wrong_char)\n",
    "print ('% of correct char conv train: ', 100-wrong_char/total_char*100)"
   ]
  },
  {
   "cell_type": "code",
   "execution_count": null,
   "id": "f0d40fd0",
   "metadata": {},
   "outputs": [],
   "source": [
    "# Evaluation: train data\n",
    "#  99.98139237365801 categorical accuracy\n",
    "encoder_latent_train = encoder.predict(X_smiles_train, verbose=0)[2]\n",
    "decoder_smiles_train = decoder.predict(encoder_latent_train, verbose=0)[0]\n",
    "\n",
    "dec_SMILES_train = []\n",
    "for softmax_smiles in decoder_smiles_train:\n",
    "    argmax_smiles = np.argmax(softmax_smiles, axis = 1).reshape([-1])\n",
    "    #print (argmax_smiles)\n",
    "    smiles = to_categorical(argmax_smiles, num_classes=27)\n",
    "    SHAPE = [1] + list(smiles.shape) + [1]\n",
    "    smiles = smiles.reshape(SHAPE)\n",
    "    c_smiles = ''\n",
    "    for s in argmax_smiles:\n",
    "        c_smiles += tokenizer[s]\n",
    "        c_smiles = c_smiles.rstrip()\n",
    "    dec_SMILES_train.append(c_smiles)\n",
    "\n",
    "wrong_char = 0\n",
    "total_char = 0\n",
    "for i, j in zip(dec_SMILES_train, SMILES_train):\n",
    "    try:\n",
    "        wrong_char = wrong_char + diff_letters(i, j)\n",
    "    except:\n",
    "        print(i, j)\n",
    "    total_char = total_char + len(i) \n",
    "print ('% of correct char conv train: ', 100-wrong_char/total_char*100)"
   ]
  },
  {
   "cell_type": "code",
   "execution_count": null,
   "id": "b909e363",
   "metadata": {},
   "outputs": [],
   "source": [
    "import numpy as np\n",
    "import matplotlib.pyplot as plt\n",
    "\n",
    "# Simulating the dataset (replace this with your data)\n",
    "data_values = np.random.beta(2, 5, 10000)\n",
    "print(data_values)\n",
    "# Log transformation (ensure there are no zero or negative values)\n",
    "log_data = np.log(data_values)\n",
    "print(log_data)\n",
    "# Square root transformation\n",
    "sqrt_data = np.sqrt(data_values)\n",
    "print(sqrt_data)\n",
    "# Standardizing the log-transformed data\n",
    "standardized_log_data = (log_data - np.mean(log_data)) / np.std(log_data)\n",
    "\n",
    "# Standardizing the sqrt-transformed data\n",
    "standardized_sqrt_data = (sqrt_data - np.mean(sqrt_data)) / np.std(sqrt_data)\n",
    "\n",
    "# Plot histograms to visualize\n",
    "plt.figure(figsize=(12, 5))\n",
    "\n",
    "plt.subplot(1, 2, 1)\n",
    "plt.hist(standardized_log_data, bins=50, density=True)\n",
    "plt.title('Log Transformed Data')\n",
    "\n",
    "plt.subplot(1, 2, 2)\n",
    "plt.hist(standardized_sqrt_data, bins=50, density=True)\n",
    "plt.title('Square Root Transformed Data')\n",
    "\n",
    "plt.tight_layout()\n",
    "plt.show()\n"
   ]
  },
  {
   "cell_type": "code",
   "execution_count": null,
   "id": "182f15a3",
   "metadata": {},
   "outputs": [],
   "source": [
    "#!pip install scikit-learn\n",
    "\n",
    "!conda install -c conda-forge scikit-optimize\n",
    "\n",
    "#!pip install matplotlib\n",
    "\n",
    "#!pip install bayesian-optimization"
   ]
  },
  {
   "cell_type": "code",
   "execution_count": null,
   "id": "2973e6d3",
   "metadata": {},
   "outputs": [],
   "source": [
    "scikit-optimize"
   ]
  },
  {
   "cell_type": "code",
   "execution_count": null,
   "id": "9c636373",
   "metadata": {},
   "outputs": [],
   "source": []
  }
 ],
 "metadata": {
  "kernelspec": {
   "display_name": "Python 3 (ipykernel)",
   "language": "python",
   "name": "python3"
  },
  "language_info": {
   "codemirror_mode": {
    "name": "ipython",
    "version": 3
   },
   "file_extension": ".py",
   "mimetype": "text/x-python",
   "name": "python",
   "nbconvert_exporter": "python",
   "pygments_lexer": "ipython3",
   "version": "3.9.18"
  }
 },
 "nbformat": 4,
 "nbformat_minor": 5
}
