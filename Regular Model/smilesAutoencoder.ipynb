{
 "cells": [
  {
   "cell_type": "code",
   "execution_count": 17,
   "id": "5bbaca59",
   "metadata": {},
   "outputs": [],
   "source": [
    "import pickle\n",
    "from sklearn.model_selection import train_test_split"
   ]
  },
  {
   "cell_type": "code",
   "execution_count": 18,
   "id": "90109e92",
   "metadata": {},
   "outputs": [],
   "source": [
    "with open(r'D:\\Studies\\PHD\\Research\\Study\\Study 4.1\\Project\\DataProcessing\\CanonicalSmiles.pickle', 'rb') as f:\n",
    "        X, SMILES, Y = pickle.load(f)"
   ]
  },
  {
   "cell_type": "code",
   "execution_count": 19,
   "id": "4a03efc0",
   "metadata": {},
   "outputs": [
    {
     "data": {
      "text/plain": [
       "array(['C=Cc1ccc(C[N][O])cc1',\n",
       "       'O=C1[CH][CH][CH][CH]C(C(=O)/C=C/c2ccc(Cl)cc2)=C1O',\n",
       "       'CCN(CC(=O)C=S)C(C)=O', ..., 'C[C@@H]1CCN(C(=O)Cn2cc(N)ccc2=O)C1',\n",
       "       'Cn1cc(C(=O)c2cc(Cl)cnc2N)cn1', 'N=C(N)c1nnccc1-c1ccccc1N'],\n",
       "      dtype='<U60')"
      ]
     },
     "execution_count": 19,
     "metadata": {},
     "output_type": "execute_result"
    }
   ],
   "source": [
    "SMILES"
   ]
  },
  {
   "cell_type": "code",
   "execution_count": 21,
   "id": "1b3e0074",
   "metadata": {},
   "outputs": [
    {
     "name": "stdout",
     "output_type": "stream",
     "text": [
      "['3.52659550248' '3.997352463845' '3.49938411743' ... '3.360606053675'\n",
      " '3.942929693745' '3.665373566235']\n"
     ]
    }
   ],
   "source": [
    "train_ratio = 0.75\n",
    "validation_ratio = 0.15\n",
    "test_ratio = 0.10\n",
    "\n",
    "# train is now 75% of the entire data set\n",
    "x_train, x_test, y_train, y_test = train_test_split(X, Y, test_size=1 - train_ratio)\n",
    "\n",
    "# test is now 10% of the initial data set\n",
    "# validation is now 15% of the initial data set\n",
    "x_val, x_test, y_val, y_test = train_test_split(x_test, y_test, test_size=test_ratio/(test_ratio + validation_ratio)) "
   ]
  }
 ],
 "metadata": {
  "kernelspec": {
   "display_name": "Python 3.9 (tensorflow-gpu)",
   "language": "python",
   "name": "tensorflow-gpu"
  },
  "language_info": {
   "codemirror_mode": {
    "name": "ipython",
    "version": 3
   },
   "file_extension": ".py",
   "mimetype": "text/x-python",
   "name": "python",
   "nbconvert_exporter": "python",
   "pygments_lexer": "ipython3",
   "version": "3.9.17"
  }
 },
 "nbformat": 4,
 "nbformat_minor": 5
}
