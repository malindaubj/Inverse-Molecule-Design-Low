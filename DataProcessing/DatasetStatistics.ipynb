{
 "cells": [
  {
   "cell_type": "code",
   "execution_count": 1,
   "id": "a600ea3f",
   "metadata": {},
   "outputs": [],
   "source": [
    "# !pip install -U ogb"
   ]
  },
  {
   "cell_type": "code",
   "execution_count": 2,
   "id": "8381e33b",
   "metadata": {},
   "outputs": [],
   "source": [
    "import ogb\n",
    "import ssl\n",
    "import pandas as pd\n",
    "import pickle\n",
    "from rdkit import Chem\n",
    "from rdkit.Chem import Draw\n",
    "import matplotlib.pyplot as plt\n",
    "import matplotlib as mpl\n",
    "from matplotlib import rc, rcParams\n",
    "import numpy as np"
   ]
  },
  {
   "cell_type": "code",
   "execution_count": 3,
   "id": "bad1feaf",
   "metadata": {},
   "outputs": [
    {
     "data": {
      "text/plain": [
       "<matplotlib.font_manager.FontManager at 0x2703eab27f0>"
      ]
     },
     "execution_count": 3,
     "metadata": {},
     "output_type": "execute_result"
    }
   ],
   "source": [
    "# check the font !!!!!!!!!!!!!!!!!!!!!\n",
    "# switch to Arial\n",
    "# if not working: delet ~/.catch/matplotlib\n",
    "\n",
    "plt.rcParams[\"font.family\"] = \"Arial\"\n",
    "plt.rcParams['ps.useafm'] = True\n",
    "plt.rcParams['pdf.fonttype'] = 42\n",
    "mpl.font_manager.FontManager()\n",
    "\n",
    "# rc('font', weight='bold')\n",
    "# fig, ax = plt.subplots(figsize=(5, 4))\n",
    "# plt.scatter([10, 55], [10, 55])\n",
    "# ax.tick_params(axis='both', length=0, width=1.5, colors='black', grid_alpha=0, labelsize=20)\n",
    "# plt.xlabel('!!!Ariaaaal', fontname='Arial', fontsize=50)"
   ]
  },
  {
   "cell_type": "code",
   "execution_count": 3,
   "id": "7cfadbc4",
   "metadata": {},
   "outputs": [
    {
     "name": "stdout",
     "output_type": "stream",
     "text": [
      "1.3.6\n"
     ]
    }
   ],
   "source": [
    "print(ogb.__version__)\n",
    "ssl._create_default_https_context = ssl._create_unverified_context"
   ]
  },
  {
   "cell_type": "code",
   "execution_count": 4,
   "id": "926196aa",
   "metadata": {},
   "outputs": [],
   "source": [
    "from ogb.lsc import PCQM4Mv2Dataset\n",
    "dataset = PCQM4Mv2Dataset(root = 'Data' , only_smiles = True)"
   ]
  },
  {
   "cell_type": "code",
   "execution_count": 7,
   "id": "e6213ee4",
   "metadata": {},
   "outputs": [
    {
     "name": "stdout",
     "output_type": "stream",
     "text": [
      "                                  SMILES     Label\n",
      "0  O=C1[N]c2ccncc2[CH][C@@H]1c1ccc(cc1)C  3.047675\n",
      "1          COc1cc(OC)ccc1/C=C/N(C(=O)C)C  4.410966\n",
      "2            C=CCN(C(=O)C)/C=C/c1ccccc1C  4.639541\n",
      "3            C=CCN(C(=O)C)/C=C/c1ccccc1F  4.492600\n",
      "4           C=CCN(C(=O)C)/C=C/c1ccccc1Cl  4.612330\n"
     ]
    }
   ],
   "source": [
    "# Initialize lists to store SMILES strings and labels\n",
    "data_list = []\n",
    "\n",
    "# Loop through the dataset to populate the list\n",
    "for data_point in dataset:\n",
    "    smiles, label = data_point\n",
    "    data_list.append([smiles, label])\n",
    "\n",
    "# Convert list of lists to DataFrame\n",
    "df = pd.DataFrame(data_list, columns=['SMILES', 'Label'])\n",
    "\n",
    "# Save the DataFrame to a CSV file\n",
    "df.to_csv('Data\\PCQM4Mv2Dataset.csv', index=False)\n",
    "\n",
    "# Show the DataFrame\n",
    "print(df.head())"
   ]
  },
  {
   "cell_type": "code",
   "execution_count": 8,
   "id": "4b0ea4ea",
   "metadata": {},
   "outputs": [
    {
     "name": "stdout",
     "output_type": "stream",
     "text": [
      "                               SMILES     Label\n",
      "1742663           [CH]c1ccc(s1)C(=O)O  0.375517\n",
      "1737445                  N[CH]SS[CH]N  0.386402\n",
      "102274   C/C=C/c1oc2c(c1C)ccc(c2)[CH]  0.410892\n",
      "3129826          [CH2]c1cccc(c1)[CH2]  0.413613\n",
      "1687505  [CH]c1cccc2c1ccc1c2cccc1[CH]  0.435382\n"
     ]
    }
   ],
   "source": [
    "# Sort the DataFrame based on the 'Label' column, in ascending order\n",
    "sorted_df = df.sort_values(by='Label', ascending=True)\n",
    "\n",
    "# Show the sorted DataFrame\n",
    "print(sorted_df.head())"
   ]
  },
  {
   "cell_type": "code",
   "execution_count": 10,
   "id": "573fd24a",
   "metadata": {},
   "outputs": [],
   "source": [
    "# Split the DataFrame into 4 parts with 1,000,000 rows each\n",
    "df1 = sorted_df.iloc[:250000]\n",
    "# df2 = sorted_df.iloc[1000000:2000000]\n",
    "# df3 = sorted_df.iloc[2000000:3000000]\n",
    "# df4 = sorted_df.iloc[3000000:4000000]\n",
    "\n",
    "# Save these parts into separate CSV files\n",
    "df1.to_csv('Data/Dataset250ksamples.csv', index=False)\n",
    "# df2.to_csv('your_file_part2.csv', index=False)\n",
    "# df3.to_csv('your_file_part3.csv', index=False)\n",
    "# df4.to_csv('your_file_part4.csv', index=False)"
   ]
  },
  {
   "cell_type": "code",
   "execution_count": 3,
   "id": "870d746f",
   "metadata": {},
   "outputs": [
    {
     "name": "stdout",
     "output_type": "stream",
     "text": [
      "{1: 'C', 2: 'c', 3: '(', 4: ')', 5: '1', 6: 'O', 7: '=', 8: '.', 9: 'N', 10: '2', 11: '[', 12: ']', 13: 'n', 14: '3', 15: 'H', 16: 'S', 17: '-', 18: '#', 19: '+', 20: 's', 21: 'o', 22: 'P', 23: 'F', 24: '4', 25: 'l', 26: 'p', 0: ' '}\n"
     ]
    }
   ],
   "source": [
    "with open(r'D:\\Studies\\PHD\\Research\\Study\\Study 4\\RRCGAN_Molecules_Ehl-main\\data\\trainingsets\\train_regular_pubqc130K\\tokenizer.pickle', 'rb') as f:\n",
    "    tokenizer = pickle.load(f)\n",
    "tokenizer[0] = ' '\n",
    "\n",
    "print(tokenizer)"
   ]
  },
  {
   "cell_type": "code",
   "execution_count": 2,
   "id": "d9edc462",
   "metadata": {},
   "outputs": [
    {
     "data": {
      "image/png": "[encoded data removed]",
      "text/plain": [
       "<PIL.PngImagePlugin.PngImageFile image mode=RGB size=300x300>"
      ]
     },
     "execution_count": 2,
     "metadata": {},
     "output_type": "execute_result"
    }
   ],
   "source": [
    "# Create RDKit molecule object from SMILES string\n",
    "mol = Chem.MolFromSmiles(\"NCC[C@H](C1=CC=[C]C=C1)C1=CC=[C]C=C1\")\n",
    "# Generate a depiction of the molecule\n",
    "Draw.MolToImage(mol)"
   ]
  },
  {
   "cell_type": "code",
   "execution_count": 28,
   "id": "34e3e9ea",
   "metadata": {},
   "outputs": [
    {
     "name": "stdout",
     "output_type": "stream",
     "text": [
      "<_csv.reader object at 0x0000018BF3F21A00>\n"
     ]
    }
   ],
   "source": [
    "import csv\n",
    "with open(r'D:\\Studies\\PHD\\Research\\Study\\Study 4.1\\Experiments\\200ksamples.csv', newline='') as csvfile:\n",
    "    spamreader = csv.reader(csvfile, delimiter=' ', quotechar='|')\n",
    "\n",
    "print(spamreader)"
   ]
  },
  {
   "cell_type": "code",
   "execution_count": 29,
   "id": "35cbc4ab",
   "metadata": {},
   "outputs": [],
   "source": [
    "with open(r'D:\\Studies\\PHD\\Research\\Study\\Study 4\\RRCGAN_Molecules_Ehl-main\\data\\trainingsets\\train_regular_pubqc130K\\image_train1.pickle', 'rb') as f:\n",
    "     alldata = pickle.load(f)\n",
    "    #X_smiles_train1, SMILES_train1, y_train1 = pickle.load(f)"
   ]
  },
  {
   "cell_type": "code",
   "execution_count": 3,
   "id": "566a1832",
   "metadata": {},
   "outputs": [
    {
     "name": "stdout",
     "output_type": "stream",
     "text": [
      "{1: 'C', 2: 'c', 3: '(', 4: ')', 5: '1', 6: 'O', 7: '=', 8: '.', 9: 'N', 10: '2', 11: '[', 12: ']', 13: 'n', 14: '3', 15: 'H', 16: 'S', 17: '-', 18: '#', 19: '+', 20: 's', 21: 'o', 22: 'P', 23: 'F', 24: '4', 25: 'l', 26: 'p', 0: ' '}\n"
     ]
    }
   ],
   "source": [
    "import pickle\n",
    "import numpy as np\n",
    "\n",
    "# Load the tokenizer\n",
    "with open(r'D:\\Studies\\PHD\\Research\\Study\\Study 4\\RRCGAN_Molecules_Ehl-main\\data\\trainingsets\\train_regular_pubqc130K\\tokenizer.pickle', 'rb') as f:\n",
    "    tokenizer = pickle.load(f)\n",
    "tokenizer[0] = ' '\n",
    "\n",
    "print(tokenizer)\n",
    "\n",
    "# Inverse tokenizer for mapping symbols to integers\n",
    "inv_tokenizer = {v: k for k, v in tokenizer.items()}"
   ]
  },
  {
   "cell_type": "code",
   "execution_count": 34,
   "id": "e0f9972d",
   "metadata": {},
   "outputs": [],
   "source": [
    "import pickle\n",
    "import numpy as np\n",
    "\n",
    "# Load the tokenizer\n",
    "with open(r'D:\\Studies\\PHD\\Research\\Study\\Study 4\\RRCGAN_Molecules_Ehl-main\\data\\trainingsets\\train_regular_pubqc130K\\tokenizer.pickle', 'rb') as f:\n",
    "    tokenizer = pickle.load(f)\n",
    "tokenizer[0] = ' '\n",
    "\n",
    "# Inverse tokenizer for mapping symbols to integers\n",
    "inv_tokenizer = {v: k for k, v in tokenizer.items()}\n",
    "\n",
    "# Define max_length as 40\n",
    "max_length = 40\n",
    "\n",
    "def smiles_to_one_hot(smiles, tokenizer, inv_tokenizer, max_length):\n",
    "    # Pad the smiles string to ensure it's of length 40\n",
    "    smiles = smiles.ljust(max_length)\n",
    "    \n",
    "    # Convert the SMILES string to integer representation\n",
    "    int_representation = [inv_tokenizer.get(symbol, 0) for symbol in smiles]  # using get() to avoid KeyError\n",
    "    \n",
    "    # One-hot encoding\n",
    "    one_hot = np.zeros((max_length, len(tokenizer)))\n",
    "    for i, integer in enumerate(int_representation):\n",
    "        one_hot[i, integer] = 1\n",
    "    \n",
    "    return one_hot\n",
    "\n",
    "# Your sample data\n",
    "data = [\n",
    "    (\"[CH]c1ccc(s1)C(=O)O\", 0.375517114),\n",
    "    (\"N[CH]SS[CH]N\", 0.386401668),\n",
    "    # ... Add the rest of your data here ...\n",
    "]\n",
    "\n",
    "# Extract SMILES strings and HOMO-LUMO gaps\n",
    "smiles_strings = [item[0] for item in data]\n",
    "values = [item[1] for item in data]\n",
    "\n",
    "# Convert the SMILES strings to one-hot encoding\n",
    "#one_hot_encoded_data = [smiles_to_one_hot(smiles, tokenizer, inv_tokenizer) for smiles in smiles_strings]\n",
    "\n",
    "# Convert the SMILES strings to one-hot encoding\n",
    "one_hot_encoded_data = [smiles_to_one_hot(smiles, tokenizer, inv_tokenizer, max_length) for smiles in smiles_strings]\n",
    "\n",
    "# Create the data structure to be saved\n",
    "alldata = (one_hot_encoded_data, smiles_strings, values)\n",
    "\n",
    "# Save as pickle file\n",
    "with open('your_output_path.pickle', 'wb') as f:\n",
    "    pickle.dump(alldata, f)"
   ]
  },
  {
   "cell_type": "code",
   "execution_count": 35,
   "id": "bd78ca02",
   "metadata": {},
   "outputs": [],
   "source": [
    "with open('your_output_path.pickle', 'rb') as f:\n",
    "        X_smiles_train1, SMILES_train1, y_train1 = pickle.load(f)"
   ]
  },
  {
   "cell_type": "code",
   "execution_count": 43,
   "id": "2516ea56",
   "metadata": {},
   "outputs": [
    {
     "name": "stdout",
     "output_type": "stream",
     "text": [
      "(40, 27)\n",
      "N[CH]SS[CH]N\n",
      "0.386401668\n"
     ]
    }
   ],
   "source": [
    "print(X_smiles_train1[0].shape)\n",
    "print(SMILES_train1[1])\n",
    "print(y_train1[1])\n"
   ]
  },
  {
   "cell_type": "code",
   "execution_count": 37,
   "id": "a9f3c27f",
   "metadata": {},
   "outputs": [
    {
     "name": "stdout",
     "output_type": "stream",
     "text": [
      "0.386401668\n"
     ]
    },
    {
     "data": {
      "image/png": "[encoded data removed]",
      "text/plain": [
       "<Figure size 640x480 with 1 Axes>"
      ]
     },
     "metadata": {},
     "output_type": "display_data"
    }
   ],
   "source": [
    "plt.imshow(X_smiles_train1[1].reshape([40, 27]), )\n",
    "plt.title(SMILES_train1[1], fontfamily='Arial', fontsize=15, fontweight='bold', pad=30)\n",
    "plt.xlabel('Char in SMILES (27)', fontfamily='Arial', fontsize=15, fontweight='bold'), \n",
    "plt.ylabel('Length of SMILES string', fontfamily='Arial', fontsize=15, fontweight='bold')\n",
    "plt.xticks((0, 10, 20, 26), size=15)\n",
    "plt.yticks((0, 10, 20, 30, 39), size=15)\n",
    "plt.tight_layout()\n",
    "plt.tight_layout()\n",
    "# plt.savefig('./../data/nns3/ep4/sample_smiles_{}'.format(SMILES_train1[0]), dpi=500)\n",
    "print (y_train1[1])"
   ]
  }
 ],
 "metadata": {
  "kernelspec": {
   "display_name": "Python 3.9 (tensorflow-gpu)",
   "language": "python",
   "name": "tensorflow-gpu"
  },
  "language_info": {
   "codemirror_mode": {
    "name": "ipython",
    "version": 3
   },
   "file_extension": ".py",
   "mimetype": "text/x-python",
   "name": "python",
   "nbconvert_exporter": "python",
   "pygments_lexer": "ipython3",
   "version": "3.9.17"
  }
 },
 "nbformat": 4,
 "nbformat_minor": 5
}
