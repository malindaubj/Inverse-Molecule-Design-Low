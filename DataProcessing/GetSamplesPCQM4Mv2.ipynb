{
 "cells": [
  {
   "cell_type": "code",
   "execution_count": 1,
   "id": "a600ea3f",
   "metadata": {},
   "outputs": [
    {
     "name": "stdout",
     "output_type": "stream",
     "text": [
      "Requirement already satisfied: ogb in c:\\users\\jayat\\anaconda3\\envs\\tensorflow-gpu\\lib\\site-packages (1.3.6)\n",
      "Requirement already satisfied: torch>=1.6.0 in c:\\users\\jayat\\anaconda3\\envs\\tensorflow-gpu\\lib\\site-packages (from ogb) (2.0.1)\n",
      "Requirement already satisfied: numpy>=1.16.0 in c:\\users\\jayat\\anaconda3\\envs\\tensorflow-gpu\\lib\\site-packages (from ogb) (1.25.2)\n",
      "Requirement already satisfied: tqdm>=4.29.0 in c:\\users\\jayat\\anaconda3\\envs\\tensorflow-gpu\\lib\\site-packages (from ogb) (4.66.1)\n",
      "Requirement already satisfied: scikit-learn>=0.20.0 in c:\\users\\jayat\\anaconda3\\envs\\tensorflow-gpu\\lib\\site-packages (from ogb) (1.3.0)\n",
      "Requirement already satisfied: pandas>=0.24.0 in c:\\users\\jayat\\anaconda3\\envs\\tensorflow-gpu\\lib\\site-packages (from ogb) (2.0.3)\n",
      "Requirement already satisfied: six>=1.12.0 in c:\\users\\jayat\\anaconda3\\envs\\tensorflow-gpu\\lib\\site-packages (from ogb) (1.16.0)\n",
      "Requirement already satisfied: urllib3>=1.24.0 in c:\\users\\jayat\\anaconda3\\envs\\tensorflow-gpu\\lib\\site-packages (from ogb) (1.26.16)\n",
      "Requirement already satisfied: outdated>=0.2.0 in c:\\users\\jayat\\anaconda3\\envs\\tensorflow-gpu\\lib\\site-packages (from ogb) (0.2.2)\n",
      "Requirement already satisfied: setuptools>=44 in c:\\users\\jayat\\anaconda3\\envs\\tensorflow-gpu\\lib\\site-packages (from outdated>=0.2.0->ogb) (68.0.0)\n",
      "Requirement already satisfied: littleutils in c:\\users\\jayat\\anaconda3\\envs\\tensorflow-gpu\\lib\\site-packages (from outdated>=0.2.0->ogb) (0.2.2)\n",
      "Requirement already satisfied: requests in c:\\users\\jayat\\anaconda3\\envs\\tensorflow-gpu\\lib\\site-packages (from outdated>=0.2.0->ogb) (2.31.0)\n",
      "Requirement already satisfied: python-dateutil>=2.8.2 in c:\\users\\jayat\\anaconda3\\envs\\tensorflow-gpu\\lib\\site-packages (from pandas>=0.24.0->ogb) (2.8.2)\n",
      "Requirement already satisfied: pytz>=2020.1 in c:\\users\\jayat\\anaconda3\\envs\\tensorflow-gpu\\lib\\site-packages (from pandas>=0.24.0->ogb) (2022.7)\n",
      "Requirement already satisfied: tzdata>=2022.1 in c:\\users\\jayat\\anaconda3\\envs\\tensorflow-gpu\\lib\\site-packages (from pandas>=0.24.0->ogb) (2023.3)\n",
      "Requirement already satisfied: scipy>=1.5.0 in c:\\users\\jayat\\anaconda3\\envs\\tensorflow-gpu\\lib\\site-packages (from scikit-learn>=0.20.0->ogb) (1.11.1)\n",
      "Requirement already satisfied: joblib>=1.1.1 in c:\\users\\jayat\\anaconda3\\envs\\tensorflow-gpu\\lib\\site-packages (from scikit-learn>=0.20.0->ogb) (1.2.0)\n",
      "Requirement already satisfied: threadpoolctl>=2.0.0 in c:\\users\\jayat\\anaconda3\\envs\\tensorflow-gpu\\lib\\site-packages (from scikit-learn>=0.20.0->ogb) (2.2.0)\n",
      "Requirement already satisfied: filelock in c:\\users\\jayat\\anaconda3\\envs\\tensorflow-gpu\\lib\\site-packages (from torch>=1.6.0->ogb) (3.12.2)\n",
      "Requirement already satisfied: typing-extensions in c:\\users\\jayat\\anaconda3\\envs\\tensorflow-gpu\\lib\\site-packages (from torch>=1.6.0->ogb) (4.7.1)\n",
      "Requirement already satisfied: sympy in c:\\users\\jayat\\anaconda3\\envs\\tensorflow-gpu\\lib\\site-packages (from torch>=1.6.0->ogb) (1.12)\n",
      "Requirement already satisfied: networkx in c:\\users\\jayat\\anaconda3\\envs\\tensorflow-gpu\\lib\\site-packages (from torch>=1.6.0->ogb) (3.1)\n",
      "Requirement already satisfied: jinja2 in c:\\users\\jayat\\anaconda3\\envs\\tensorflow-gpu\\lib\\site-packages (from torch>=1.6.0->ogb) (3.1.2)\n",
      "Requirement already satisfied: colorama in c:\\users\\jayat\\anaconda3\\envs\\tensorflow-gpu\\lib\\site-packages (from tqdm>=4.29.0->ogb) (0.4.6)\n",
      "Requirement already satisfied: MarkupSafe>=2.0 in c:\\users\\jayat\\anaconda3\\envs\\tensorflow-gpu\\lib\\site-packages (from jinja2->torch>=1.6.0->ogb) (2.1.1)\n",
      "Requirement already satisfied: charset-normalizer<4,>=2 in c:\\users\\jayat\\anaconda3\\envs\\tensorflow-gpu\\lib\\site-packages (from requests->outdated>=0.2.0->ogb) (3.2.0)\n",
      "Requirement already satisfied: idna<4,>=2.5 in c:\\users\\jayat\\anaconda3\\envs\\tensorflow-gpu\\lib\\site-packages (from requests->outdated>=0.2.0->ogb) (3.4)\n",
      "Requirement already satisfied: certifi>=2017.4.17 in c:\\users\\jayat\\anaconda3\\envs\\tensorflow-gpu\\lib\\site-packages (from requests->outdated>=0.2.0->ogb) (2023.7.22)\n",
      "Requirement already satisfied: mpmath>=0.19 in c:\\users\\jayat\\anaconda3\\envs\\tensorflow-gpu\\lib\\site-packages (from sympy->torch>=1.6.0->ogb) (1.3.0)\n"
     ]
    }
   ],
   "source": [
    "!pip install -U ogb"
   ]
  },
  {
   "cell_type": "code",
   "execution_count": 2,
   "id": "8381e33b",
   "metadata": {},
   "outputs": [
    {
     "name": "stdout",
     "output_type": "stream",
     "text": [
      "1.3.6\n"
     ]
    }
   ],
   "source": [
    "# Make sure below prints the required package version for the dataset you are working on.\n",
    "import ogb\n",
    "print(ogb.__version__)"
   ]
  },
  {
   "cell_type": "code",
   "execution_count": 3,
   "id": "e6997b7c",
   "metadata": {},
   "outputs": [],
   "source": [
    "import ssl\n",
    "ssl._create_default_https_context = ssl._create_unverified_context"
   ]
  },
  {
   "cell_type": "code",
   "execution_count": 4,
   "id": "926196aa",
   "metadata": {},
   "outputs": [],
   "source": [
    "from ogb.lsc import PCQM4Mv2Dataset"
   ]
  },
  {
   "cell_type": "code",
   "execution_count": null,
   "id": "54fcf498",
   "metadata": {
    "scrolled": false
   },
   "outputs": [
    {
     "name": "stdout",
     "output_type": "stream",
     "text": [
      "Downloading https://dgl-data.s3-accelerate.amazonaws.com/dataset/OGB-LSC/pcqm4m-v2.zip\n"
     ]
    }
   ],
   "source": [
    "dataset = PCQM4Mv2Dataset(root = 'Data' , only_smiles = True)"
   ]
  },
  {
   "cell_type": "code",
   "execution_count": 14,
   "id": "b1e1abd3",
   "metadata": {},
   "outputs": [
    {
     "name": "stdout",
     "output_type": "stream",
     "text": [
      "PCQM4Mv2Dataset(3746620)\n"
     ]
    }
   ],
   "source": [
    "# get i-th molecule and its target value (nan for test data)\n",
    "i = 1234\n",
    "print(dataset) # ('O=C1C=CC(O1)C(c1ccccc1C)O', 5.292614392225) samples 3746620"
   ]
  },
  {
   "cell_type": "code",
   "execution_count": 70,
   "id": "46d98d1b",
   "metadata": {},
   "outputs": [
    {
     "name": "stdout",
     "output_type": "stream",
     "text": [
      "3.0476751256\n"
     ]
    }
   ],
   "source": [
    "for i in range(1):\n",
    "    print(dataset[i][1])"
   ]
  },
  {
   "cell_type": "code",
   "execution_count": 19,
   "id": "63403a52",
   "metadata": {},
   "outputs": [],
   "source": [
    "import pandas as pd"
   ]
  },
  {
   "cell_type": "code",
   "execution_count": 55,
   "id": "75363e90",
   "metadata": {},
   "outputs": [
    {
     "data": {
      "image/png": "[encoded data removed]",
      "text/plain": [
       "<Figure size 640x480 with 1 Axes>"
      ]
     },
     "metadata": {},
     "output_type": "display_data"
    }
   ],
   "source": [
    "import matplotlib.pyplot as plt\n",
    "import numpy as np\n",
    "from scipy.stats import gaussian_kde\n",
    "\n",
    "# Create y_values only with finite numerical data, ignoring strings, infs, and NaNs\n",
    "y_values = [row[1] for row in dataset if isinstance(row[1], (int, float)) and np.isfinite(row[1])]\n",
    "\n",
    "# Check if y_values is not empty to proceed with KDE\n",
    "if len(y_values) > 0:\n",
    "    # Generate KDE\n",
    "    density = gaussian_kde(y_values)\n",
    "    xs = np.linspace(min(y_values), max(y_values), 200)\n",
    "    ys = density(xs)\n",
    "\n",
    "    # Create the density plot\n",
    "    plt.plot(xs, ys, label='Density')\n",
    "    plt.xlabel('Energy gap vales')\n",
    "    plt.ylabel('Density')\n",
    "    plt.title('Density Function')\n",
    "    plt.legend()\n",
    "    plt.show()\n",
    "else:\n",
    "    print(\"No valid data for plotting.\")\n"
   ]
  }
 ],
 "metadata": {
  "kernelspec": {
   "display_name": "Python 3.9 (tensorflow-gpu)",
   "language": "python",
   "name": "tensorflow-gpu"
  },
  "language_info": {
   "codemirror_mode": {
    "name": "ipython",
    "version": 3
   },
   "file_extension": ".py",
   "mimetype": "text/x-python",
   "name": "python",
   "nbconvert_exporter": "python",
   "pygments_lexer": "ipython3",
   "version": "3.9.17"
  }
 },
 "nbformat": 4,
 "nbformat_minor": 5
}
