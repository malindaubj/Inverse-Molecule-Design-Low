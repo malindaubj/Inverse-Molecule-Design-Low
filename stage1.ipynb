{
 "cells": [
  {
   "cell_type": "code",
   "execution_count": 1,
   "id": "4a0748c7-a3d7-4678-a27a-88093ea427b5",
   "metadata": {},
   "outputs": [],
   "source": [
    "import torch\n",
    "from torch_geometric.loader import DataLoader\n",
    "import torch.optim as optim\n",
    "import torch.nn.functional as F\n",
    "from torch.utils.tensorboard import SummaryWriter\n",
    "from torch.optim.lr_scheduler import StepLR\n",
    "from gnn import GNN\n",
    "import os\n",
    "from tqdm.auto import tqdm\n",
    "import argparse\n",
    "import time\n",
    "import numpy as np\n",
    "import random"
   ]
  },
  {
   "cell_type": "code",
   "execution_count": 68,
   "id": "17f7b481-e549-4f0c-83ef-5a252f8a90ba",
   "metadata": {},
   "outputs": [
    {
     "data": {
      "text/plain": [
       "Text(0.5, 0, '!!!Ariaaaal')"
      ]
     },
     "execution_count": 68,
     "metadata": {},
     "output_type": "execute_result"
    },
    {
     "data": {
      "image/png": "[encoded data removed]",
      "text/plain": [
       "<Figure size 500x400 with 1 Axes>"
      ]
     },
     "metadata": {},
     "output_type": "display_data"
    }
   ],
   "source": [
    "import matplotlib as mpl\n",
    "from matplotlib import rc, rcParams\n",
    "# check the font !!!!!!!!!!!!!!!!!!!!!\n",
    "# switch to Arial\n",
    "# if not working in Linux delet ~/.catch/matplotlib\n",
    "plt.rcParams[\"font.family\"] = \"Arial\"\n",
    "plt.rcParams['ps.useafm'] = True\n",
    "plt.rcParams['pdf.fonttype'] = 42\n",
    "mpl.font_manager.FontManager()\n",
    "\n",
    "rc('font', weight='bold')\n",
    "fig, ax = plt.subplots(figsize=(5, 4))\n",
    "plt.scatter([10, 55], [10, 55])\n",
    "ax.tick_params(axis='both', length=0, width=1.5, colors='black', grid_alpha=0, labelsize=20)\n",
    "plt.xlabel('!!!Ariaaaal', fontname='Arial', fontsize=50)"
   ]
  },
  {
   "cell_type": "code",
   "execution_count": 2,
   "id": "b2d498fd-f0ba-4606-b147-622015130576",
   "metadata": {},
   "outputs": [
    {
     "data": {
      "text/plain": [
       "True"
      ]
     },
     "execution_count": 2,
     "metadata": {},
     "output_type": "execute_result"
    }
   ],
   "source": [
    "import torch\n",
    "torch.cuda.is_available()"
   ]
  },
  {
   "cell_type": "code",
   "execution_count": 3,
   "id": "2a1852f7-b598-4c68-babc-9a84e9e7d2b0",
   "metadata": {},
   "outputs": [],
   "source": [
    "def train(model, device, loader, optimizer):\n",
    "    model.train()\n",
    "    loss_accum = 0\n",
    "\n",
    "    for step, batch in enumerate(tqdm(loader, desc=\"Iteration\")):\n",
    "        batch = batch.to(device)\n",
    "\n",
    "        pred = model(batch).view(-1,)\n",
    "        optimizer.zero_grad()\n",
    "        loss = reg_criterion(pred, batch.y)\n",
    "        loss.backward()\n",
    "        optimizer.step()\n",
    "\n",
    "        loss_accum += loss.detach().cpu().item()\n",
    "\n",
    "    return loss_accum / (step + 1)"
   ]
  },
  {
   "cell_type": "code",
   "execution_count": 4,
   "id": "e15871a9-0f52-4fcd-bfe4-49e59b91e56a",
   "metadata": {},
   "outputs": [],
   "source": [
    "def eval(model, device, loader, evaluator):\n",
    "    model.eval()\n",
    "    y_true = []\n",
    "    y_pred = []\n",
    "\n",
    "    for step, batch in enumerate(tqdm(loader, desc=\"Iteration\")):\n",
    "        batch = batch.to(device)\n",
    "\n",
    "        with torch.no_grad():\n",
    "            pred = model(batch).view(-1,)\n",
    "\n",
    "        y_true.append(batch.y.view(pred.shape).detach().cpu())\n",
    "        y_pred.append(pred.detach().cpu())\n",
    "\n",
    "    y_true = torch.cat(y_true, dim = 0)\n",
    "    y_pred = torch.cat(y_pred, dim = 0)\n",
    "\n",
    "    input_dict = {\"y_true\": y_true, \"y_pred\": y_pred}\n",
    "\n",
    "    return evaluator.eval(input_dict)[\"mae\"]"
   ]
  },
  {
   "cell_type": "code",
   "execution_count": 5,
   "id": "c9bda756-6b8b-4e98-93f2-8db400615c9b",
   "metadata": {},
   "outputs": [],
   "source": [
    "def test(model, device, loader):\n",
    "    model.eval()\n",
    "    y_pred = []\n",
    "\n",
    "    for step, batch in enumerate(tqdm(loader, desc=\"Iteration\")):\n",
    "        batch = batch.to(device)\n",
    "\n",
    "        with torch.no_grad():\n",
    "            pred = model(batch).view(-1,)\n",
    "\n",
    "        y_pred.append(pred.detach().cpu())\n",
    "\n",
    "    y_pred = torch.cat(y_pred, dim = 0)\n",
    "\n",
    "    return y_pred"
   ]
  },
  {
   "cell_type": "code",
   "execution_count": 6,
   "id": "92352be6-7d00-41b3-b0ad-c494d729acc1",
   "metadata": {},
   "outputs": [],
   "source": [
    "### importing OGB-LSC\n",
    "from ogb.lsc import PygPCQM4Mv2Dataset, PCQM4Mv2Evaluator, PCQM4Mv2Dataset\n",
    "\n",
    "reg_criterion = torch.nn.L1Loss()"
   ]
  },
  {
   "cell_type": "code",
   "execution_count": 10,
   "id": "f3a7b1e7-c4ab-44ce-83f2-c51c2153c044",
   "metadata": {},
   "outputs": [],
   "source": [
    "device = 0  # which gpu to use if any (default: 0)\n",
    "gnn = 'gin'  # GNN gin, gin-virtual, or gcn, or gcn-virtual (default: gin-virtual)\n",
    "graph_pooling = 'sum'  # graph pooling strategy mean or sum (default: sum)\n",
    "drop_ratio = 0  # dropout ratio (default: 0)\n",
    "num_layers = 5  # number of GNN message passing layers (default: 5)\n",
    "emb_dim = 600  # dimensionality of hidden units in GNNs (default: 600)\n",
    "train_subset = False  # Whether to train on a subset\n",
    "batch_size = 256  # input batch size for training (default: 256)\n",
    "epochs = 10  # number of epochs to train (default: 10)\n",
    "num_workers = 0  # number of workers (default: 0)\n",
    "log_dir = \"LOG_DIR\"  # tensorboard log directory\n",
    "checkpoint_dir = 'CHECKPOINT_DIR'  # directory to save checkpoint\n",
    "save_test_dir = 'TEST_DIR'  # directory to save test submission file"
   ]
  },
  {
   "cell_type": "code",
   "execution_count": 11,
   "id": "a6a5f067-fc28-439b-9d86-f7135ee8e23f",
   "metadata": {},
   "outputs": [
    {
     "name": "stdout",
     "output_type": "stream",
     "text": [
      "1\n",
      "2\n"
     ]
    }
   ],
   "source": [
    "np.random.seed(42)\n",
    "torch.manual_seed(42)\n",
    "torch.cuda.manual_seed(42)\n",
    "random.seed(42)\n",
    "\n",
    "device = torch.device(\"cuda:\" + str(device)) if torch.cuda.is_available() else torch.device(\"cpu\")\n",
    "\n",
    "### automatic dataloading and splitting\n",
    "dataset = PygPCQM4Mv2Dataset(root = 'dataset/')\n",
    "\n",
    "split_idx = dataset.get_idx_split()\n",
    "\n",
    "### automatic evaluator. takes dataset name as input\n",
    "evaluator = PCQM4Mv2Evaluator()\n",
    "\n",
    "# if  train_subset:\n",
    "#     subset_ratio = 0.1\n",
    "#     subset_idx = torch.randperm(len(split_idx[\"train\"]))[:int(subset_ratio*len(split_idx[\"train\"]))]\n",
    "#     train_loader = DataLoader(dataset[split_idx[\"train\"][subset_idx]], batch_size=args.batch_size, shuffle=True, num_workers = args.num_workers)\n",
    "# else:\n",
    "train_loader = DataLoader(dataset[split_idx[\"train\"]], batch_size=batch_size, shuffle=True, num_workers = num_workers)\n",
    "\n",
    "valid_loader = DataLoader(dataset[split_idx[\"valid\"]], batch_size=batch_size, shuffle=False, num_workers = num_workers)\n",
    "\n",
    "if save_test_dir != '':\n",
    "    print('1')\n",
    "    testdev_loader = DataLoader(dataset[split_idx[\"test-dev\"]], batch_size=batch_size, shuffle=False, num_workers = num_workers)\n",
    "    testchallenge_loader = DataLoader(dataset[split_idx[\"test-challenge\"]], batch_size=batch_size, shuffle=False, num_workers = num_workers)\n",
    "\n",
    "if checkpoint_dir != '':\n",
    "    print('2')\n",
    "    os.makedirs(checkpoint_dir, exist_ok = True)\n",
    "\n",
    "shared_params = {\n",
    "    'num_layers': num_layers,\n",
    "    'emb_dim': emb_dim,\n",
    "    'drop_ratio': drop_ratio,\n",
    "    'graph_pooling': graph_pooling\n",
    "}\n"
   ]
  },
  {
   "cell_type": "code",
   "execution_count": 100,
   "id": "ec79b793-6f01-4200-b786-2f510e06c654",
   "metadata": {},
   "outputs": [
    {
     "data": {
      "image/jpeg": "[encoded data removed]",
      "image/png": "[encoded data removed]",
      "text/plain": [
       "<PIL.PngImagePlugin.PngImageFile image mode=RGB size=300x300>"
      ]
     },
     "execution_count": 100,
     "metadata": {},
     "output_type": "execute_result"
    }
   ],
   "source": [
    "dataset[9968]\n",
    "\n",
    "from rdkit import Chem\n",
    "from rdkit.Chem import Draw\n",
    "\n",
    "# SMILES string for the molecule\n",
    "smiles = 'CNc1ncc(cc1N)C#C'\n",
    "\n",
    "# Convert the SMILES string to a molecule\n",
    "molecule = Chem.MolFromSmiles(smiles)\n",
    "\n",
    "# Draw the molecule\n",
    "Draw.MolToImage(molecule)\n"
   ]
  },
  {
   "cell_type": "code",
   "execution_count": 12,
   "id": "8fabae35-c558-452d-bf1c-9403d4f23333",
   "metadata": {},
   "outputs": [
    {
     "name": "stdout",
     "output_type": "stream",
     "text": [
      "#Params: 3762006\n"
     ]
    }
   ],
   "source": [
    "# if gnn == 'gin':\n",
    "#     model = GNN(gnn_type = 'gin', virtual_node = False, **shared_params).to(device)\n",
    "# elif gnn == 'gin-virtual':\n",
    "#     print('virtual')\n",
    "#     model = GNN(gnn_type = 'gin', virtual_node = True, **shared_params).to(device)\n",
    "# elif gnn == 'gcn':\n",
    "#     model = GNN(gnn_type = 'gcn', virtual_node = False, **shared_params).to(device)\n",
    "# elif gnn == 'gcn-virtual':\n",
    "#     model = GNN(gnn_type = 'gcn', virtual_node = True, **shared_params).to(device)\n",
    "# else:\n",
    "#     raise ValueError('Invalid GNN type')\n",
    "model = GNN(gnn_type = 'gin', virtual_node = False, **shared_params).to(device)\n",
    "num_params = sum(p.numel() for p in model.parameters())\n",
    "print(f'#Params: {num_params}')\n",
    "\n",
    "optimizer = optim.Adam(model.parameters(), lr=0.001)\n",
    "\n",
    "if log_dir != '':\n",
    "    writer = SummaryWriter(log_dir=log_dir)\n",
    "\n",
    "best_valid_mae = 1000\n",
    "\n",
    "if train_subset:\n",
    "    scheduler = StepLR(optimizer, step_size=300, gamma=0.25)\n",
    "    epochs = 1000\n",
    "else:\n",
    "    scheduler = StepLR(optimizer, step_size=30, gamma=0.25)"
   ]
  },
  {
   "cell_type": "code",
   "execution_count": 13,
   "id": "6d63f67c-4aa7-47c8-8af3-8bdb88ccd5a4",
   "metadata": {},
   "outputs": [
    {
     "name": "stdout",
     "output_type": "stream",
     "text": [
      "=====Epoch 1\n",
      "Training...\n"
     ]
    },
    {
     "data": {
      "application/vnd.jupyter.widget-view+json": {
       "model_id": "8c0451c72a6548a1b2890f8c033a55b8",
       "version_major": 2,
       "version_minor": 0
      },
      "text/plain": [
       "Iteration:   0%|          | 0/13198 [00:00<?, ?it/s]"
      ]
     },
     "metadata": {},
     "output_type": "display_data"
    },
    {
     "name": "stdout",
     "output_type": "stream",
     "text": [
      "Evaluating...\n"
     ]
    },
    {
     "data": {
      "application/vnd.jupyter.widget-view+json": {
       "model_id": "94f5a3ffbe1a425e9c69d8d49002d1db",
       "version_major": 2,
       "version_minor": 0
      },
      "text/plain": [
       "Iteration:   0%|          | 0/288 [00:00<?, ?it/s]"
      ]
     },
     "metadata": {},
     "output_type": "display_data"
    },
    {
     "name": "stdout",
     "output_type": "stream",
     "text": [
      "{'Train': 0.43347238924606657, 'Validation': 0.4017128050327301}\n",
      "ok\n",
      "Saving checkpoint...\n"
     ]
    },
    {
     "data": {
      "application/vnd.jupyter.widget-view+json": {
       "model_id": "c9d9a1abb64b478c9077dd7a27fb693b",
       "version_major": 2,
       "version_minor": 0
      },
      "text/plain": [
       "Iteration:   0%|          | 0/575 [00:00<?, ?it/s]"
      ]
     },
     "metadata": {},
     "output_type": "display_data"
    },
    {
     "data": {
      "application/vnd.jupyter.widget-view+json": {
       "model_id": "6d80c6d7736b483cbfbc0630e3c980da",
       "version_major": 2,
       "version_minor": 0
      },
      "text/plain": [
       "Iteration:   0%|          | 0/576 [00:00<?, ?it/s]"
      ]
     },
     "metadata": {},
     "output_type": "display_data"
    },
    {
     "name": "stdout",
     "output_type": "stream",
     "text": [
      "Saving test submission file...\n",
      "Best validation MAE so far: 0.4017128050327301\n",
      "=====Epoch 2\n",
      "Training...\n"
     ]
    },
    {
     "data": {
      "application/vnd.jupyter.widget-view+json": {
       "model_id": "25f994e38d9d44bd915688b4b6014268",
       "version_major": 2,
       "version_minor": 0
      },
      "text/plain": [
       "Iteration:   0%|          | 0/13198 [00:00<?, ?it/s]"
      ]
     },
     "metadata": {},
     "output_type": "display_data"
    },
    {
     "name": "stdout",
     "output_type": "stream",
     "text": [
      "Evaluating...\n"
     ]
    },
    {
     "data": {
      "application/vnd.jupyter.widget-view+json": {
       "model_id": "6fe09d8ed7f248a986e50ec9f825d245",
       "version_major": 2,
       "version_minor": 0
      },
      "text/plain": [
       "Iteration:   0%|          | 0/288 [00:00<?, ?it/s]"
      ]
     },
     "metadata": {},
     "output_type": "display_data"
    },
    {
     "name": "stdout",
     "output_type": "stream",
     "text": [
      "{'Train': 0.2556386063597133, 'Validation': 0.269629567861557}\n",
      "ok\n",
      "Saving checkpoint...\n"
     ]
    },
    {
     "data": {
      "application/vnd.jupyter.widget-view+json": {
       "model_id": "0f7b2dcaf7ea4389978c9d289d32e753",
       "version_major": 2,
       "version_minor": 0
      },
      "text/plain": [
       "Iteration:   0%|          | 0/575 [00:00<?, ?it/s]"
      ]
     },
     "metadata": {},
     "output_type": "display_data"
    },
    {
     "data": {
      "application/vnd.jupyter.widget-view+json": {
       "model_id": "6122aaad166a4644a657caa67fa117db",
       "version_major": 2,
       "version_minor": 0
      },
      "text/plain": [
       "Iteration:   0%|          | 0/576 [00:00<?, ?it/s]"
      ]
     },
     "metadata": {},
     "output_type": "display_data"
    },
    {
     "name": "stdout",
     "output_type": "stream",
     "text": [
      "Saving test submission file...\n",
      "Best validation MAE so far: 0.269629567861557\n",
      "=====Epoch 3\n",
      "Training...\n"
     ]
    },
    {
     "data": {
      "application/vnd.jupyter.widget-view+json": {
       "model_id": "0aba61de5a0c4e2a9de6608eb6dc71a4",
       "version_major": 2,
       "version_minor": 0
      },
      "text/plain": [
       "Iteration:   0%|          | 0/13198 [00:00<?, ?it/s]"
      ]
     },
     "metadata": {},
     "output_type": "display_data"
    },
    {
     "name": "stdout",
     "output_type": "stream",
     "text": [
      "Evaluating...\n"
     ]
    },
    {
     "data": {
      "application/vnd.jupyter.widget-view+json": {
       "model_id": "e745858345054879a6b4bd644cd8f7b5",
       "version_major": 2,
       "version_minor": 0
      },
      "text/plain": [
       "Iteration:   0%|          | 0/288 [00:00<?, ?it/s]"
      ]
     },
     "metadata": {},
     "output_type": "display_data"
    },
    {
     "name": "stdout",
     "output_type": "stream",
     "text": [
      "{'Train': 0.21519225103839054, 'Validation': 0.2649064064025879}\n",
      "ok\n",
      "Saving checkpoint...\n"
     ]
    },
    {
     "data": {
      "application/vnd.jupyter.widget-view+json": {
       "model_id": "6ab15aebe5a04c5394f3c5fea4265185",
       "version_major": 2,
       "version_minor": 0
      },
      "text/plain": [
       "Iteration:   0%|          | 0/575 [00:00<?, ?it/s]"
      ]
     },
     "metadata": {},
     "output_type": "display_data"
    },
    {
     "data": {
      "application/vnd.jupyter.widget-view+json": {
       "model_id": "8238b5503a3b4dc0b001d0dd8ca68732",
       "version_major": 2,
       "version_minor": 0
      },
      "text/plain": [
       "Iteration:   0%|          | 0/576 [00:00<?, ?it/s]"
      ]
     },
     "metadata": {},
     "output_type": "display_data"
    },
    {
     "name": "stdout",
     "output_type": "stream",
     "text": [
      "Saving test submission file...\n",
      "Best validation MAE so far: 0.2649064064025879\n",
      "=====Epoch 4\n",
      "Training...\n"
     ]
    },
    {
     "data": {
      "application/vnd.jupyter.widget-view+json": {
       "model_id": "d616e7a6ef9f4b1ba2ea8707d051d72c",
       "version_major": 2,
       "version_minor": 0
      },
      "text/plain": [
       "Iteration:   0%|          | 0/13198 [00:00<?, ?it/s]"
      ]
     },
     "metadata": {},
     "output_type": "display_data"
    },
    {
     "name": "stdout",
     "output_type": "stream",
     "text": [
      "Evaluating...\n"
     ]
    },
    {
     "data": {
      "application/vnd.jupyter.widget-view+json": {
       "model_id": "ddcb2872e1b24921a74935866133eb25",
       "version_major": 2,
       "version_minor": 0
      },
      "text/plain": [
       "Iteration:   0%|          | 0/288 [00:00<?, ?it/s]"
      ]
     },
     "metadata": {},
     "output_type": "display_data"
    },
    {
     "name": "stdout",
     "output_type": "stream",
     "text": [
      "{'Train': 0.19315369099667623, 'Validation': 0.2182794064283371}\n",
      "ok\n",
      "Saving checkpoint...\n"
     ]
    },
    {
     "data": {
      "application/vnd.jupyter.widget-view+json": {
       "model_id": "8c83df8270ce49e5beb79072aaa25b85",
       "version_major": 2,
       "version_minor": 0
      },
      "text/plain": [
       "Iteration:   0%|          | 0/575 [00:00<?, ?it/s]"
      ]
     },
     "metadata": {},
     "output_type": "display_data"
    },
    {
     "data": {
      "application/vnd.jupyter.widget-view+json": {
       "model_id": "ddbc776048914fc182d921d4911afe8a",
       "version_major": 2,
       "version_minor": 0
      },
      "text/plain": [
       "Iteration:   0%|          | 0/576 [00:00<?, ?it/s]"
      ]
     },
     "metadata": {},
     "output_type": "display_data"
    },
    {
     "name": "stdout",
     "output_type": "stream",
     "text": [
      "Saving test submission file...\n",
      "Best validation MAE so far: 0.2182794064283371\n",
      "=====Epoch 5\n",
      "Training...\n"
     ]
    },
    {
     "data": {
      "application/vnd.jupyter.widget-view+json": {
       "model_id": "e0dbd756a1204b1c840f31ac63eb8185",
       "version_major": 2,
       "version_minor": 0
      },
      "text/plain": [
       "Iteration:   0%|          | 0/13198 [00:00<?, ?it/s]"
      ]
     },
     "metadata": {},
     "output_type": "display_data"
    },
    {
     "name": "stdout",
     "output_type": "stream",
     "text": [
      "Evaluating...\n"
     ]
    },
    {
     "data": {
      "application/vnd.jupyter.widget-view+json": {
       "model_id": "04b2edf372be4cce8180789b9c277f96",
       "version_major": 2,
       "version_minor": 0
      },
      "text/plain": [
       "Iteration:   0%|          | 0/288 [00:00<?, ?it/s]"
      ]
     },
     "metadata": {},
     "output_type": "display_data"
    },
    {
     "name": "stdout",
     "output_type": "stream",
     "text": [
      "{'Train': 0.18006932201121661, 'Validation': 0.21624362468719482}\n",
      "ok\n",
      "Saving checkpoint...\n"
     ]
    },
    {
     "data": {
      "application/vnd.jupyter.widget-view+json": {
       "model_id": "75bc7209a7424303bc1a6665d4649aee",
       "version_major": 2,
       "version_minor": 0
      },
      "text/plain": [
       "Iteration:   0%|          | 0/575 [00:00<?, ?it/s]"
      ]
     },
     "metadata": {},
     "output_type": "display_data"
    },
    {
     "data": {
      "application/vnd.jupyter.widget-view+json": {
       "model_id": "4bdf6f82eabc4cb0a3801dc54704277f",
       "version_major": 2,
       "version_minor": 0
      },
      "text/plain": [
       "Iteration:   0%|          | 0/576 [00:00<?, ?it/s]"
      ]
     },
     "metadata": {},
     "output_type": "display_data"
    },
    {
     "name": "stdout",
     "output_type": "stream",
     "text": [
      "Saving test submission file...\n",
      "Best validation MAE so far: 0.21624362468719482\n",
      "=====Epoch 6\n",
      "Training...\n"
     ]
    },
    {
     "data": {
      "application/vnd.jupyter.widget-view+json": {
       "model_id": "64ce85ce04494e0aaf1ffa820236def4",
       "version_major": 2,
       "version_minor": 0
      },
      "text/plain": [
       "Iteration:   0%|          | 0/13198 [00:00<?, ?it/s]"
      ]
     },
     "metadata": {},
     "output_type": "display_data"
    },
    {
     "name": "stdout",
     "output_type": "stream",
     "text": [
      "Evaluating...\n"
     ]
    },
    {
     "data": {
      "application/vnd.jupyter.widget-view+json": {
       "model_id": "ac50ad26641140369988f42006b0fc03",
       "version_major": 2,
       "version_minor": 0
      },
      "text/plain": [
       "Iteration:   0%|          | 0/288 [00:00<?, ?it/s]"
      ]
     },
     "metadata": {},
     "output_type": "display_data"
    },
    {
     "name": "stdout",
     "output_type": "stream",
     "text": [
      "{'Train': 0.17106119917931747, 'Validation': 0.1893363744020462}\n",
      "ok\n",
      "Saving checkpoint...\n"
     ]
    },
    {
     "data": {
      "application/vnd.jupyter.widget-view+json": {
       "model_id": "7aaa016e4aaf4f5097c0ed961cb4dec4",
       "version_major": 2,
       "version_minor": 0
      },
      "text/plain": [
       "Iteration:   0%|          | 0/575 [00:00<?, ?it/s]"
      ]
     },
     "metadata": {},
     "output_type": "display_data"
    },
    {
     "data": {
      "application/vnd.jupyter.widget-view+json": {
       "model_id": "8e6fefa0f00e4dc6a82d3868445a4a95",
       "version_major": 2,
       "version_minor": 0
      },
      "text/plain": [
       "Iteration:   0%|          | 0/576 [00:00<?, ?it/s]"
      ]
     },
     "metadata": {},
     "output_type": "display_data"
    },
    {
     "name": "stdout",
     "output_type": "stream",
     "text": [
      "Saving test submission file...\n",
      "Best validation MAE so far: 0.1893363744020462\n",
      "=====Epoch 7\n",
      "Training...\n"
     ]
    },
    {
     "data": {
      "application/vnd.jupyter.widget-view+json": {
       "model_id": "82a1dec0118d4b3da6cc48d5959d1a7f",
       "version_major": 2,
       "version_minor": 0
      },
      "text/plain": [
       "Iteration:   0%|          | 0/13198 [00:00<?, ?it/s]"
      ]
     },
     "metadata": {},
     "output_type": "display_data"
    },
    {
     "name": "stdout",
     "output_type": "stream",
     "text": [
      "Evaluating...\n"
     ]
    },
    {
     "data": {
      "application/vnd.jupyter.widget-view+json": {
       "model_id": "fd323366672841e99dc40c1c61de5245",
       "version_major": 2,
       "version_minor": 0
      },
      "text/plain": [
       "Iteration:   0%|          | 0/288 [00:00<?, ?it/s]"
      ]
     },
     "metadata": {},
     "output_type": "display_data"
    },
    {
     "name": "stdout",
     "output_type": "stream",
     "text": [
      "{'Train': 0.164261101049435, 'Validation': 0.1967756748199463}\n",
      "Best validation MAE so far: 0.1893363744020462\n",
      "=====Epoch 8\n",
      "Training...\n"
     ]
    },
    {
     "data": {
      "application/vnd.jupyter.widget-view+json": {
       "model_id": "ff2ef878bd534ffa90ab0a910760b5ac",
       "version_major": 2,
       "version_minor": 0
      },
      "text/plain": [
       "Iteration:   0%|          | 0/13198 [00:00<?, ?it/s]"
      ]
     },
     "metadata": {},
     "output_type": "display_data"
    },
    {
     "name": "stdout",
     "output_type": "stream",
     "text": [
      "Evaluating...\n"
     ]
    },
    {
     "data": {
      "application/vnd.jupyter.widget-view+json": {
       "model_id": "b88cf6a74f464bdabb31f9497f63714f",
       "version_major": 2,
       "version_minor": 0
      },
      "text/plain": [
       "Iteration:   0%|          | 0/288 [00:00<?, ?it/s]"
      ]
     },
     "metadata": {},
     "output_type": "display_data"
    },
    {
     "name": "stdout",
     "output_type": "stream",
     "text": [
      "{'Train': 0.15915891072220434, 'Validation': 0.17047260701656342}\n",
      "ok\n",
      "Saving checkpoint...\n"
     ]
    },
    {
     "data": {
      "application/vnd.jupyter.widget-view+json": {
       "model_id": "b5dc7a50119f47929b71b23c8a1e90f8",
       "version_major": 2,
       "version_minor": 0
      },
      "text/plain": [
       "Iteration:   0%|          | 0/575 [00:00<?, ?it/s]"
      ]
     },
     "metadata": {},
     "output_type": "display_data"
    },
    {
     "data": {
      "application/vnd.jupyter.widget-view+json": {
       "model_id": "8410ca1fd8be4522b8621e5149acf890",
       "version_major": 2,
       "version_minor": 0
      },
      "text/plain": [
       "Iteration:   0%|          | 0/576 [00:00<?, ?it/s]"
      ]
     },
     "metadata": {},
     "output_type": "display_data"
    },
    {
     "name": "stdout",
     "output_type": "stream",
     "text": [
      "Saving test submission file...\n",
      "Best validation MAE so far: 0.17047260701656342\n",
      "=====Epoch 9\n",
      "Training...\n"
     ]
    },
    {
     "data": {
      "application/vnd.jupyter.widget-view+json": {
       "model_id": "c51684118c4f4682bb1c3995816eb58a",
       "version_major": 2,
       "version_minor": 0
      },
      "text/plain": [
       "Iteration:   0%|          | 0/13198 [00:00<?, ?it/s]"
      ]
     },
     "metadata": {},
     "output_type": "display_data"
    },
    {
     "name": "stdout",
     "output_type": "stream",
     "text": [
      "Evaluating...\n"
     ]
    },
    {
     "data": {
      "application/vnd.jupyter.widget-view+json": {
       "model_id": "065c16be261447109643b9889c7ce318",
       "version_major": 2,
       "version_minor": 0
      },
      "text/plain": [
       "Iteration:   0%|          | 0/288 [00:00<?, ?it/s]"
      ]
     },
     "metadata": {},
     "output_type": "display_data"
    },
    {
     "name": "stdout",
     "output_type": "stream",
     "text": [
      "{'Train': 0.15472673604092393, 'Validation': 0.170195534825325}\n",
      "ok\n",
      "Saving checkpoint...\n"
     ]
    },
    {
     "data": {
      "application/vnd.jupyter.widget-view+json": {
       "model_id": "e3befc95311a45c48d1f20a06d3efbf9",
       "version_major": 2,
       "version_minor": 0
      },
      "text/plain": [
       "Iteration:   0%|          | 0/575 [00:00<?, ?it/s]"
      ]
     },
     "metadata": {},
     "output_type": "display_data"
    },
    {
     "data": {
      "application/vnd.jupyter.widget-view+json": {
       "model_id": "58572030a23a4d5b859eaa5cd3c01c1b",
       "version_major": 2,
       "version_minor": 0
      },
      "text/plain": [
       "Iteration:   0%|          | 0/576 [00:00<?, ?it/s]"
      ]
     },
     "metadata": {},
     "output_type": "display_data"
    },
    {
     "name": "stdout",
     "output_type": "stream",
     "text": [
      "Saving test submission file...\n",
      "Best validation MAE so far: 0.170195534825325\n",
      "=====Epoch 10\n",
      "Training...\n"
     ]
    },
    {
     "data": {
      "application/vnd.jupyter.widget-view+json": {
       "model_id": "5bef7c53f5324ef8aecf683262d48412",
       "version_major": 2,
       "version_minor": 0
      },
      "text/plain": [
       "Iteration:   0%|          | 0/13198 [00:00<?, ?it/s]"
      ]
     },
     "metadata": {},
     "output_type": "display_data"
    },
    {
     "name": "stdout",
     "output_type": "stream",
     "text": [
      "Evaluating...\n"
     ]
    },
    {
     "data": {
      "application/vnd.jupyter.widget-view+json": {
       "model_id": "11a209f891ee42958b9afa5a0add8ca2",
       "version_major": 2,
       "version_minor": 0
      },
      "text/plain": [
       "Iteration:   0%|          | 0/288 [00:00<?, ?it/s]"
      ]
     },
     "metadata": {},
     "output_type": "display_data"
    },
    {
     "name": "stdout",
     "output_type": "stream",
     "text": [
      "{'Train': 0.15115151110856456, 'Validation': 0.16443860530853271}\n",
      "ok\n",
      "Saving checkpoint...\n"
     ]
    },
    {
     "data": {
      "application/vnd.jupyter.widget-view+json": {
       "model_id": "0e7efe4508c24d29afa1741de78db583",
       "version_major": 2,
       "version_minor": 0
      },
      "text/plain": [
       "Iteration:   0%|          | 0/575 [00:00<?, ?it/s]"
      ]
     },
     "metadata": {},
     "output_type": "display_data"
    },
    {
     "data": {
      "application/vnd.jupyter.widget-view+json": {
       "model_id": "be108e122c934be68e1ab686b09fa48c",
       "version_major": 2,
       "version_minor": 0
      },
      "text/plain": [
       "Iteration:   0%|          | 0/576 [00:00<?, ?it/s]"
      ]
     },
     "metadata": {},
     "output_type": "display_data"
    },
    {
     "name": "stdout",
     "output_type": "stream",
     "text": [
      "Saving test submission file...\n",
      "Best validation MAE so far: 0.16443860530853271\n"
     ]
    },
    {
     "ename": "NameError",
     "evalue": "name 'args' is not defined",
     "output_type": "error",
     "traceback": [
      "\u001b[1;31m---------------------------------------------------------------------------\u001b[0m",
      "\u001b[1;31mNameError\u001b[0m                                 Traceback (most recent call last)",
      "Cell \u001b[1;32mIn[13], line 38\u001b[0m\n\u001b[0;32m     34\u001b[0m     scheduler\u001b[38;5;241m.\u001b[39mstep()\n\u001b[0;32m     36\u001b[0m     \u001b[38;5;28mprint\u001b[39m(\u001b[38;5;124mf\u001b[39m\u001b[38;5;124m'\u001b[39m\u001b[38;5;124mBest validation MAE so far: \u001b[39m\u001b[38;5;132;01m{\u001b[39;00mbest_valid_mae\u001b[38;5;132;01m}\u001b[39;00m\u001b[38;5;124m'\u001b[39m)\n\u001b[1;32m---> 38\u001b[0m \u001b[38;5;28;01mif\u001b[39;00m \u001b[43margs\u001b[49m\u001b[38;5;241m.\u001b[39mlog_dir \u001b[38;5;241m!=\u001b[39m \u001b[38;5;124m'\u001b[39m\u001b[38;5;124m'\u001b[39m:\n\u001b[0;32m     39\u001b[0m     writer\u001b[38;5;241m.\u001b[39mclose()\n",
      "\u001b[1;31mNameError\u001b[0m: name 'args' is not defined"
     ]
    }
   ],
   "source": [
    "for epoch in range(1, epochs + 1):\n",
    "    print(\"=====Epoch {}\".format(epoch))\n",
    "    print('Training...')\n",
    "    train_mae = train(model, device, train_loader, optimizer)\n",
    "\n",
    "    print('Evaluating...')\n",
    "    valid_mae = eval(model, device, valid_loader, evaluator)\n",
    "\n",
    "    print({'Train': train_mae, 'Validation': valid_mae})\n",
    "\n",
    "    if log_dir != '':\n",
    "        writer.add_scalar('valid/mae', valid_mae, epoch)\n",
    "        writer.add_scalar('train/mae', train_mae, epoch)\n",
    "\n",
    "    if valid_mae < best_valid_mae:\n",
    "        print('ok')\n",
    "        best_valid_mae = valid_mae\n",
    "        if checkpoint_dir != '':\n",
    "            print('Saving checkpoint...')\n",
    "            checkpoint = {'epoch': epoch, 'model_state_dict': model.state_dict(), 'optimizer_state_dict': optimizer.state_dict(), 'scheduler_state_dict': scheduler.state_dict(), 'best_val_mae': best_valid_mae, 'num_params': num_params}\n",
    "            torch.save(checkpoint, os.path.join(checkpoint_dir, 'checkpoint.pt'))\n",
    "\n",
    "        if save_test_dir != '':\n",
    "            testdev_pred = test(model, device, testdev_loader)\n",
    "            testdev_pred = testdev_pred.cpu().detach().numpy()\n",
    "\n",
    "            testchallenge_pred = test(model, device, testchallenge_loader)\n",
    "            testchallenge_pred = testchallenge_pred.cpu().detach().numpy()\n",
    "\n",
    "            print('Saving test submission file...')\n",
    "            evaluator.save_test_submission({'y_pred': testdev_pred}, save_test_dir, mode = 'test-dev')\n",
    "            evaluator.save_test_submission({'y_pred': testchallenge_pred}, save_test_dir, mode = 'test-challenge')\n",
    "\n",
    "    scheduler.step()\n",
    "        \n",
    "    print(f'Best validation MAE so far: {best_valid_mae}')\n",
    "\n",
    "if log_dir != '':\n",
    "    writer.close()"
   ]
  },
  {
   "cell_type": "code",
   "execution_count": 14,
   "id": "e4d4214e-8934-4dbd-b77c-06757f95acfb",
   "metadata": {},
   "outputs": [],
   "source": [
    "if log_dir != '':\n",
    "    writer.close()"
   ]
  },
  {
   "cell_type": "code",
   "execution_count": 51,
   "id": "1a5c076c-d3ea-422a-b95b-6e48e10aaaa6",
   "metadata": {},
   "outputs": [
    {
     "data": {
      "application/vnd.jupyter.widget-view+json": {
       "model_id": "23d815026993451ea4b9fe11e61176e1",
       "version_major": 2,
       "version_minor": 0
      },
      "text/plain": [
       "Iteration:   0%|          | 0/288 [00:00<?, ?it/s]"
      ]
     },
     "metadata": {},
     "output_type": "display_data"
    }
   ],
   "source": [
    "ytest_act = valid_loader.dataset.y\n",
    "ytest_pre = test(model, device, valid_loader)\n",
    "# ytrain_act = train_graphs.dataset.y\n",
    "# ytrain_pre = test(model, device, train_graphs)"
   ]
  },
  {
   "cell_type": "code",
   "execution_count": 75,
   "id": "8db1c56b-10de-4159-a5d9-883c83ad9ce9",
   "metadata": {},
   "outputs": [
    {
     "data": {
      "text/plain": [
       "<All keys matched successfully>"
      ]
     },
     "execution_count": 75,
     "metadata": {},
     "output_type": "execute_result"
    }
   ],
   "source": [
    "model1 = GNN(gnn_type = 'gin', virtual_node = False, **shared_params).to(device)\n",
    "checkpoint_path = r'D:\\Studies\\PHD\\Research\\Study\\Study 4.2\\property prediction\\OGB\\ogb\\results\\3\\checkpoint.pt'  # Update with your checkpoint path\n",
    "checkpointm = torch.load(checkpoint_path, map_location='cpu')  # Add map_location if using different device\n",
    "model1.load_state_dict(checkpointm['model_state_dict'])"
   ]
  },
  {
   "cell_type": "code",
   "execution_count": 78,
   "id": "0f016cc5-4ac7-431b-b24f-c286440cf9eb",
   "metadata": {},
   "outputs": [
    {
     "data": {
      "application/vnd.jupyter.widget-view+json": {
       "model_id": "3cf9e929b96c4c2384d7bd09a5f45d5a",
       "version_major": 2,
       "version_minor": 0
      },
      "text/plain": [
       "Iteration:   0%|          | 0/288 [00:00<?, ?it/s]"
      ]
     },
     "metadata": {},
     "output_type": "display_data"
    }
   ],
   "source": [
    "ytest_act = valid_loader.dataset.y\n",
    "ytest_pre = test(model1, device, valid_loader)"
   ]
  },
  {
   "cell_type": "code",
   "execution_count": 79,
   "id": "3fe38624-a369-4ffd-93e9-6cd46cfc1bfa",
   "metadata": {},
   "outputs": [
    {
     "data": {
      "image/png": "[encoded data removed]",
      "text/plain": [
       "<Figure size 640x480 with 1 Axes>"
      ]
     },
     "metadata": {},
     "output_type": "display_data"
    }
   ],
   "source": [
    "import matplotlib.pyplot as plt\n",
    "\n",
    "# Create a scatter plot\n",
    "#plt.scatter(y_act1, y_pre1, s=0.1, color='blue')\n",
    "plt.scatter(ytest_act, ytest_pre, s=0.1, color='blue')\n",
    "#plt.scatter(ytrain_act, ytrain_pre, s=0.1, color='red')\n",
    "\n",
    "\n",
    "# Adding title and labels\n",
    "plt.title(\"Scatter Plot of Two Variables\")\n",
    "plt.xlabel(\"actual Variable\")\n",
    "plt.ylabel(\"predict Variable\")\n",
    "\n",
    "plt.xlim(0, 16)\n",
    "plt.ylim(0, 16)\n",
    "\n",
    "plt.plot([0, 12], [0, 12], '--k', )#color='black')\n",
    "\n",
    "plt.savefig(\"scatter_plot2.png\")\n",
    "# Show the plot\n",
    "plt.show()"
   ]
  },
  {
   "cell_type": "code",
   "execution_count": 81,
   "id": "75a6eb28-36e9-41f1-9d12-efcc68ba37c8",
   "metadata": {},
   "outputs": [
    {
     "data": {
      "image/png": "[encoded data removed]",
      "text/plain": [
       "<Figure size 500x400 with 1 Axes>"
      ]
     },
     "metadata": {},
     "output_type": "display_data"
    }
   ],
   "source": [
    "from sklearn.metrics import r2_score\n",
    "from sklearn.metrics import mean_squared_error \n",
    "from sklearn.metrics import mean_absolute_error\n",
    "\n",
    "mse_train = round(mean_squared_error(ytest_act, ytest_pre.reshape([-1])),3)\n",
    "mae_train = round(mean_absolute_error(ytest_act, ytest_pre.reshape([-1])),3)\n",
    "\n",
    "fig, ax = plt.subplots(figsize=(5, 4))\n",
    "plt.rcParams[\"legend.markerscale\"] = 10\n",
    "plt.scatter (ytest_act, ytest_pre, color='red', label='Test', alpha=0.6, s=0.05)\n",
    "# plt.scatter ( y_val0, pred0, color='blue', label='Test', alpha=0.6, s=0.05)\n",
    "\n",
    "plt.legend()\n",
    "\n",
    "ax.set_xlabel('DFT gap (eV)', fontsize='20', fontname='Arial', fontweight='bold', labelpad=5)\n",
    "ax.set_ylabel('Pred. gap (eV)', fontsize='20', fontname='Arial', fontweight='bold', labelpad=5)\n",
    "\n",
    "ax.tick_params(direction='out', length=5, width=3, colors='black', \n",
    "               grid_alpha=1, labelsize='18')\n",
    "\n",
    "[i.set_linewidth(3) for i in ax.spines.values()]\n",
    "# leg = plt.legend(title='Train: R$^2$={}, MAE={} \\nTest: R$^2$={}, MAE={}'.\\\n",
    "#            format(round(r2_score(y_act, y_pre.reshape([-1])), 2), \n",
    "#                   mae_train,\n",
    "#                   round (r2_score(y_act, y_pre.reshape([-1])), 2), \n",
    "#                   mae_train, \n",
    "#                 ), framealpha=0, title_fontsize=15)\n",
    "# leg._legend_box.align = \"left\"\n",
    "\n",
    "leg = plt.legend(title='Test: R$^2$={}\\n MAE={}'.\\\n",
    "           format(round(r2_score(ytest_act, ytest_pre.reshape([-1])), 2), \n",
    "                  mae_train,\n",
    "                  #round (r2_score(y_act, y_pre.reshape([-1])), 2), \n",
    "                  #mae_train, \n",
    "                ), framealpha=0, title_fontsize=15)\n",
    "leg._legend_box.align = \"left\"\n",
    "\n",
    "plt.xlim(0, 12)\n",
    "plt.ylim(0, 12)\n",
    "plt.xticks((1, 3, 5, 7, 9,  11));\n",
    "plt.yticks((1, 3, 5, 7, 9,  11));\n",
    "plt.plot([0, 12], [0, 12], '--k', )#color='black')\n",
    "plt.tight_layout()\n",
    "plt.savefig('regressor_train_test.jpeg', dpi=300)\n",
    "plt.rcParams[\"legend.markerscale\"] = 1"
   ]
  },
  {
   "cell_type": "code",
   "execution_count": 57,
   "id": "08c2a055-7785-4198-a105-6c320b8410a1",
   "metadata": {},
   "outputs": [
    {
     "name": "stdout",
     "output_type": "stream",
     "text": [
      "R-squared Score: 0.9320631734363946\n"
     ]
    }
   ],
   "source": [
    "from sklearn.metrics import r2_score\n",
    "\n",
    "# Assuming y_act1 and y_pre1 are already defined as mentioned\n",
    "r_squared = r2_score(y_act, y_pre)\n",
    "print(\"R-squared Score:\", r_squared)\n"
   ]
  },
  {
   "cell_type": "code",
   "execution_count": 54,
   "id": "ec0b64bd-c76f-412f-8f9e-a06ca9ab5828",
   "metadata": {},
   "outputs": [
    {
     "data": {
      "text/plain": [
       "0.16"
      ]
     },
     "execution_count": 54,
     "metadata": {},
     "output_type": "execute_result"
    }
   ],
   "source": [
    "round (mae_train, 2)"
   ]
  },
  {
   "cell_type": "code",
   "execution_count": null,
   "id": "52a846b3-fa70-4fc7-94b3-420a145308a7",
   "metadata": {},
   "outputs": [],
   "source": []
  }
 ],
 "metadata": {
  "kernelspec": {
   "display_name": "Python 3 (ipykernel)",
   "language": "python",
   "name": "python3"
  },
  "language_info": {
   "codemirror_mode": {
    "name": "ipython",
    "version": 3
   },
   "file_extension": ".py",
   "mimetype": "text/x-python",
   "name": "python",
   "nbconvert_exporter": "python",
   "pygments_lexer": "ipython3",
   "version": "3.8.18"
  }
 },
 "nbformat": 4,
 "nbformat_minor": 5
}
